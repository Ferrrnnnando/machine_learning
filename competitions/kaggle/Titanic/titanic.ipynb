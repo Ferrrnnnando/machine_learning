{
 "cells": [
  {
   "cell_type": "markdown",
   "metadata": {
    "id": "f782ec90"
   },
   "source": [
    "# Setup"
   ]
  },
  {
   "cell_type": "markdown",
   "metadata": {
    "deletable": false,
    "editable": false,
    "run_control": {
     "frozen": true
    }
   },
   "source": [
    "## Colab"
   ]
  },
  {
   "cell_type": "code",
   "execution_count": null,
   "metadata": {
    "deletable": false,
    "editable": false,
    "run_control": {
     "frozen": true
    }
   },
   "outputs": [],
   "source": [
    "from google.colab import drive\n",
    "drive.mount('/content/drive')\n",
    "\n",
    "%cd /content/drive/MyDrive/DataScience/machine_learning/competitions/kaggle/Titanic\n",
    "sys.path.append('/content/drive/MyDrive/DataScience/machine_learning')"
   ]
  },
  {
   "cell_type": "markdown",
   "metadata": {},
   "source": [
    "## Local"
   ]
  },
  {
   "cell_type": "code",
   "execution_count": 1,
   "metadata": {
    "ExecuteTime": {
     "end_time": "2022-12-20T13:53:48.206799Z",
     "start_time": "2022-12-20T13:53:48.201645Z"
    },
    "id": "ccc59bbd",
    "tags": []
   },
   "outputs": [],
   "source": [
    "import os\n",
    "import sys\n",
    "\n",
    "# Define Project root folder \n",
    "PROJECT_ROOT_DIR = \".\"\n",
    "folder_path = os.path.join(PROJECT_ROOT_DIR, \"images\")\n",
    "os.makedirs(folder_path, exist_ok=True)"
   ]
  },
  {
   "cell_type": "markdown",
   "metadata": {},
   "source": [
    "## Normal"
   ]
  },
  {
   "cell_type": "code",
   "execution_count": 2,
   "metadata": {
    "ExecuteTime": {
     "end_time": "2022-12-20T13:53:48.503688Z",
     "start_time": "2022-12-20T13:53:48.210419Z"
    }
   },
   "outputs": [],
   "source": [
    "# to make this notebook's output stable across runs\n",
    "np.random.seed(42)\n",
    "\n",
    "# To plot pretty figures\n",
    "%matplotlib inline\n",
    "import matplotlib as mpl\n",
    "import matplotlib.pyplot as plt\n",
    "mpl.rc('axes', labelsize=14)\n",
    "mpl.rc('xtick', labelsize=12)\n",
    "mpl.rc('ytick', labelsize=12)\n",
    "\n",
    "# Where to save the figures\n",
    "PROJECT_ROOT_DIR = \".\"\n",
    "CHAPTER_ID = \"classification\"\n",
    "IMAGES_PATH = os.path.join(PROJECT_ROOT_DIR, \"images\", CHAPTER_ID)\n",
    "os.makedirs(IMAGES_PATH, exist_ok=True)\n",
    "\n",
    "def save_fig(fig_id, tight_layout=True, fig_extension=\"png\", resolution=300):\n",
    "    path = os.path.join(IMAGES_PATH, fig_id + \".\" + fig_extension)\n",
    "    print(\"Saving figure\", fig_id)\n",
    "    if tight_layout:\n",
    "        plt.tight_layout()\n",
    "    plt.savefig(path, format=fig_extension, dpi=resolution)"
   ]
  },
  {
   "cell_type": "markdown",
   "metadata": {
    "id": "ee44cfe9"
   },
   "source": [
    "# Libraries"
   ]
  },
  {
   "cell_type": "code",
   "execution_count": 3,
   "metadata": {
    "ExecuteTime": {
     "end_time": "2022-12-20T13:53:49.427804Z",
     "start_time": "2022-12-20T13:53:48.507574Z"
    },
    "id": "5b19a666"
   },
   "outputs": [],
   "source": [
    "import numpy as np\n",
    "import pandas as pd\n",
    "\n",
    "from sklearn.compose import ColumnTransformer\n",
    "from sklearn.pipeline import Pipeline\n",
    "from sklearn.pipeline import make_pipeline\n",
    "\n",
    "from sklearn.impute import SimpleImputer\n",
    "from sklearn.preprocessing import OrdinalEncoder\n",
    "from sklearn.preprocessing import OneHotEncoder\n",
    "\n",
    "# Data scaling\n",
    "from sklearn.preprocessing import StandardScaler\n",
    "\n",
    "from sklearn.ensemble import RandomForestRegressor\n",
    "from sklearn.ensemble import RandomForestClassifier\n",
    "from sklearn.linear_model import LinearRegression\n",
    "\n",
    "# Evaluation\n",
    "from sklearn.metrics import mean_squared_error"
   ]
  },
  {
   "cell_type": "code",
   "execution_count": 4,
   "metadata": {
    "ExecuteTime": {
     "end_time": "2022-12-20T13:53:49.432389Z",
     "start_time": "2022-12-20T13:53:49.429832Z"
    },
    "id": "9d7362fc"
   },
   "outputs": [],
   "source": [
    "# Libraries for custom Transformer\n",
    "from sklearn.base import BaseEstimator, TransformerMixin"
   ]
  },
  {
   "cell_type": "markdown",
   "metadata": {
    "id": "68mXWkNwGU7H"
   },
   "source": [
    "# Data Loading"
   ]
  },
  {
   "cell_type": "code",
   "execution_count": 5,
   "metadata": {
    "ExecuteTime": {
     "end_time": "2022-12-20T13:53:49.455503Z",
     "start_time": "2022-12-20T13:53:49.435078Z"
    },
    "id": "52ujR0FsGWgv"
   },
   "outputs": [],
   "source": [
    "dataset = pd.read_csv(os.path.join(PROJECT_ROOT_DIR, 'datasets', 'train.csv'))\n",
    "test = pd.read_csv(os.path.join(PROJECT_ROOT_DIR, 'datasets', 'test.csv'))\n",
    "\n",
    "dataset = dataset.set_index('PassengerId')\n",
    "test = test.set_index('PassengerId')"
   ]
  },
  {
   "cell_type": "code",
   "execution_count": 6,
   "metadata": {
    "ExecuteTime": {
     "end_time": "2022-12-20T13:53:49.474377Z",
     "start_time": "2022-12-20T13:53:49.457743Z"
    },
    "colab": {
     "base_uri": "https://localhost:8080/",
     "height": 328
    },
    "executionInfo": {
     "elapsed": 13,
     "status": "ok",
     "timestamp": 1648016020175,
     "user": {
      "displayName": "Fernando CHEN",
      "photoUrl": "https://lh3.googleusercontent.com/a/default-user=s64",
      "userId": "06486171134930786741"
     },
     "user_tz": -480
    },
    "id": "J-21jLbgG3iS",
    "outputId": "d59254d6-cae3-4260-a0f2-4f10c52e54a7"
   },
   "outputs": [
    {
     "data": {
      "text/html": [
       "<div>\n",
       "<style scoped>\n",
       "    .dataframe tbody tr th:only-of-type {\n",
       "        vertical-align: middle;\n",
       "    }\n",
       "\n",
       "    .dataframe tbody tr th {\n",
       "        vertical-align: top;\n",
       "    }\n",
       "\n",
       "    .dataframe thead th {\n",
       "        text-align: right;\n",
       "    }\n",
       "</style>\n",
       "<table border=\"1\" class=\"dataframe\">\n",
       "  <thead>\n",
       "    <tr style=\"text-align: right;\">\n",
       "      <th></th>\n",
       "      <th>Survived</th>\n",
       "      <th>Pclass</th>\n",
       "      <th>Name</th>\n",
       "      <th>Sex</th>\n",
       "      <th>Age</th>\n",
       "      <th>SibSp</th>\n",
       "      <th>Parch</th>\n",
       "      <th>Ticket</th>\n",
       "      <th>Fare</th>\n",
       "      <th>Cabin</th>\n",
       "      <th>Embarked</th>\n",
       "    </tr>\n",
       "    <tr>\n",
       "      <th>PassengerId</th>\n",
       "      <th></th>\n",
       "      <th></th>\n",
       "      <th></th>\n",
       "      <th></th>\n",
       "      <th></th>\n",
       "      <th></th>\n",
       "      <th></th>\n",
       "      <th></th>\n",
       "      <th></th>\n",
       "      <th></th>\n",
       "      <th></th>\n",
       "    </tr>\n",
       "  </thead>\n",
       "  <tbody>\n",
       "    <tr>\n",
       "      <th>1</th>\n",
       "      <td>0</td>\n",
       "      <td>3</td>\n",
       "      <td>Braund, Mr. Owen Harris</td>\n",
       "      <td>male</td>\n",
       "      <td>22.0</td>\n",
       "      <td>1</td>\n",
       "      <td>0</td>\n",
       "      <td>A/5 21171</td>\n",
       "      <td>7.2500</td>\n",
       "      <td>NaN</td>\n",
       "      <td>S</td>\n",
       "    </tr>\n",
       "    <tr>\n",
       "      <th>2</th>\n",
       "      <td>1</td>\n",
       "      <td>1</td>\n",
       "      <td>Cumings, Mrs. John Bradley (Florence Briggs Th...</td>\n",
       "      <td>female</td>\n",
       "      <td>38.0</td>\n",
       "      <td>1</td>\n",
       "      <td>0</td>\n",
       "      <td>PC 17599</td>\n",
       "      <td>71.2833</td>\n",
       "      <td>C85</td>\n",
       "      <td>C</td>\n",
       "    </tr>\n",
       "  </tbody>\n",
       "</table>\n",
       "</div>"
      ],
      "text/plain": [
       "             Survived  Pclass  \\\n",
       "PassengerId                     \n",
       "1                   0       3   \n",
       "2                   1       1   \n",
       "\n",
       "                                                          Name     Sex   Age  \\\n",
       "PassengerId                                                                    \n",
       "1                                      Braund, Mr. Owen Harris    male  22.0   \n",
       "2            Cumings, Mrs. John Bradley (Florence Briggs Th...  female  38.0   \n",
       "\n",
       "             SibSp  Parch     Ticket     Fare Cabin Embarked  \n",
       "PassengerId                                                   \n",
       "1                1      0  A/5 21171   7.2500   NaN        S  \n",
       "2                1      0   PC 17599  71.2833   C85        C  "
      ]
     },
     "execution_count": 6,
     "metadata": {},
     "output_type": "execute_result"
    }
   ],
   "source": [
    "dataset.head(2)"
   ]
  },
  {
   "cell_type": "code",
   "execution_count": 7,
   "metadata": {
    "ExecuteTime": {
     "end_time": "2022-12-20T13:53:49.479981Z",
     "start_time": "2022-12-20T13:53:49.476807Z"
    },
    "colab": {
     "base_uri": "https://localhost:8080/"
    },
    "executionInfo": {
     "elapsed": 11,
     "status": "ok",
     "timestamp": 1648016020176,
     "user": {
      "displayName": "Fernando CHEN",
      "photoUrl": "https://lh3.googleusercontent.com/a/default-user=s64",
      "userId": "06486171134930786741"
     },
     "user_tz": -480
    },
    "id": "gwpmc6qKG5NW",
    "outputId": "755b1740-b8e3-41c2-d206-31ed27675159"
   },
   "outputs": [
    {
     "data": {
      "text/plain": [
       "(891, 11)"
      ]
     },
     "execution_count": 7,
     "metadata": {},
     "output_type": "execute_result"
    }
   ],
   "source": [
    "dataset.shape"
   ]
  },
  {
   "cell_type": "markdown",
   "metadata": {
    "id": "GOK1vZXAYVs_"
   },
   "source": [
    "# Train-Val Split"
   ]
  },
  {
   "cell_type": "markdown",
   "metadata": {
    "heading_collapsed": true
   },
   "source": [
    "## Quick Look At Data\n",
    "\n",
    "Get a glimpse at the data provided and determine how to divide data into train and test"
   ]
  },
  {
   "cell_type": "code",
   "execution_count": 8,
   "metadata": {
    "ExecuteTime": {
     "end_time": "2022-12-20T13:53:49.506991Z",
     "start_time": "2022-12-20T13:53:49.482556Z"
    },
    "hidden": true
   },
   "outputs": [],
   "source": [
    "import seaborn as sns"
   ]
  },
  {
   "cell_type": "code",
   "execution_count": 9,
   "metadata": {
    "ExecuteTime": {
     "end_time": "2022-12-20T13:53:49.535909Z",
     "start_time": "2022-12-20T13:53:49.509910Z"
    },
    "hidden": true
   },
   "outputs": [
    {
     "data": {
      "text/html": [
       "<div>\n",
       "<style scoped>\n",
       "    .dataframe tbody tr th:only-of-type {\n",
       "        vertical-align: middle;\n",
       "    }\n",
       "\n",
       "    .dataframe tbody tr th {\n",
       "        vertical-align: top;\n",
       "    }\n",
       "\n",
       "    .dataframe thead th {\n",
       "        text-align: right;\n",
       "    }\n",
       "</style>\n",
       "<table border=\"1\" class=\"dataframe\">\n",
       "  <thead>\n",
       "    <tr style=\"text-align: right;\">\n",
       "      <th></th>\n",
       "      <th>Survived</th>\n",
       "      <th>Pclass</th>\n",
       "      <th>Age</th>\n",
       "      <th>SibSp</th>\n",
       "      <th>Parch</th>\n",
       "      <th>Fare</th>\n",
       "    </tr>\n",
       "  </thead>\n",
       "  <tbody>\n",
       "    <tr>\n",
       "      <th>count</th>\n",
       "      <td>891.000000</td>\n",
       "      <td>891.000000</td>\n",
       "      <td>714.000000</td>\n",
       "      <td>891.000000</td>\n",
       "      <td>891.000000</td>\n",
       "      <td>891.000000</td>\n",
       "    </tr>\n",
       "    <tr>\n",
       "      <th>mean</th>\n",
       "      <td>0.383838</td>\n",
       "      <td>2.308642</td>\n",
       "      <td>29.699118</td>\n",
       "      <td>0.523008</td>\n",
       "      <td>0.381594</td>\n",
       "      <td>32.204208</td>\n",
       "    </tr>\n",
       "    <tr>\n",
       "      <th>std</th>\n",
       "      <td>0.486592</td>\n",
       "      <td>0.836071</td>\n",
       "      <td>14.526497</td>\n",
       "      <td>1.102743</td>\n",
       "      <td>0.806057</td>\n",
       "      <td>49.693429</td>\n",
       "    </tr>\n",
       "    <tr>\n",
       "      <th>min</th>\n",
       "      <td>0.000000</td>\n",
       "      <td>1.000000</td>\n",
       "      <td>0.420000</td>\n",
       "      <td>0.000000</td>\n",
       "      <td>0.000000</td>\n",
       "      <td>0.000000</td>\n",
       "    </tr>\n",
       "    <tr>\n",
       "      <th>25%</th>\n",
       "      <td>0.000000</td>\n",
       "      <td>2.000000</td>\n",
       "      <td>20.125000</td>\n",
       "      <td>0.000000</td>\n",
       "      <td>0.000000</td>\n",
       "      <td>7.910400</td>\n",
       "    </tr>\n",
       "    <tr>\n",
       "      <th>50%</th>\n",
       "      <td>0.000000</td>\n",
       "      <td>3.000000</td>\n",
       "      <td>28.000000</td>\n",
       "      <td>0.000000</td>\n",
       "      <td>0.000000</td>\n",
       "      <td>14.454200</td>\n",
       "    </tr>\n",
       "    <tr>\n",
       "      <th>75%</th>\n",
       "      <td>1.000000</td>\n",
       "      <td>3.000000</td>\n",
       "      <td>38.000000</td>\n",
       "      <td>1.000000</td>\n",
       "      <td>0.000000</td>\n",
       "      <td>31.000000</td>\n",
       "    </tr>\n",
       "    <tr>\n",
       "      <th>max</th>\n",
       "      <td>1.000000</td>\n",
       "      <td>3.000000</td>\n",
       "      <td>80.000000</td>\n",
       "      <td>8.000000</td>\n",
       "      <td>6.000000</td>\n",
       "      <td>512.329200</td>\n",
       "    </tr>\n",
       "  </tbody>\n",
       "</table>\n",
       "</div>"
      ],
      "text/plain": [
       "         Survived      Pclass         Age       SibSp       Parch        Fare\n",
       "count  891.000000  891.000000  714.000000  891.000000  891.000000  891.000000\n",
       "mean     0.383838    2.308642   29.699118    0.523008    0.381594   32.204208\n",
       "std      0.486592    0.836071   14.526497    1.102743    0.806057   49.693429\n",
       "min      0.000000    1.000000    0.420000    0.000000    0.000000    0.000000\n",
       "25%      0.000000    2.000000   20.125000    0.000000    0.000000    7.910400\n",
       "50%      0.000000    3.000000   28.000000    0.000000    0.000000   14.454200\n",
       "75%      1.000000    3.000000   38.000000    1.000000    0.000000   31.000000\n",
       "max      1.000000    3.000000   80.000000    8.000000    6.000000  512.329200"
      ]
     },
     "execution_count": 9,
     "metadata": {},
     "output_type": "execute_result"
    }
   ],
   "source": [
    "dataset.describe()"
   ]
  },
  {
   "cell_type": "code",
   "execution_count": 10,
   "metadata": {
    "ExecuteTime": {
     "end_time": "2022-12-20T13:53:49.546029Z",
     "start_time": "2022-12-20T13:53:49.537755Z"
    },
    "hidden": true
   },
   "outputs": [
    {
     "data": {
      "text/plain": [
       "Age         19.865320\n",
       "Cabin       77.104377\n",
       "Embarked     0.224467\n",
       "dtype: float64"
      ]
     },
     "execution_count": 10,
     "metadata": {},
     "output_type": "execute_result"
    }
   ],
   "source": [
    "# Percentage of missing values\n",
    "\n",
    "# check if every cell isnull or not and sum them up accross the column\n",
    "missing_values = dataset.isnull().sum()\n",
    "missing_values[missing_values>0]/len(dataset)*100"
   ]
  },
  {
   "cell_type": "code",
   "execution_count": 11,
   "metadata": {
    "ExecuteTime": {
     "end_time": "2022-12-20T13:53:49.675969Z",
     "start_time": "2022-12-20T13:53:49.547564Z"
    },
    "hidden": true
   },
   "outputs": [
    {
     "data": {
      "text/plain": [
       "<matplotlib.axes._subplots.AxesSubplot at 0x7f334b2f54a8>"
      ]
     },
     "execution_count": 11,
     "metadata": {},
     "output_type": "execute_result"
    },
    {
     "data": {
      "image/png": "[encoded data removed]",
      "text/plain": [
       "<Figure size 432x288 with 1 Axes>"
      ]
     },
     "metadata": {
      "needs_background": "light"
     },
     "output_type": "display_data"
    }
   ],
   "source": [
    "sns.heatmap(dataset.isnull(), yticklabels=False, cbar=False)"
   ]
  },
  {
   "cell_type": "code",
   "execution_count": 13,
   "metadata": {
    "ExecuteTime": {
     "end_time": "2022-12-20T13:53:50.676773Z",
     "start_time": "2022-12-20T13:53:49.783197Z"
    },
    "hidden": true
   },
   "outputs": [
    {
     "data": {
      "image/png": "[encoded data removed]",
      "text/plain": [
       "<Figure size 1440x1080 with 6 Axes>"
      ]
     },
     "metadata": {
      "needs_background": "light"
     },
     "output_type": "display_data"
    }
   ],
   "source": [
    "dataset.hist(bins=50, figsize=(20, 15))\n",
    "plt.show()"
   ]
  },
  {
   "cell_type": "markdown",
   "metadata": {},
   "source": [
    "## Data Split"
   ]
  },
  {
   "cell_type": "code",
   "execution_count": null,
   "metadata": {
    "ExecuteTime": {
     "end_time": "2022-12-20T13:53:50.764664Z",
     "start_time": "2022-12-20T13:53:48.227Z"
    },
    "executionInfo": {
     "elapsed": 447,
     "status": "ok",
     "timestamp": 1648020831133,
     "user": {
      "displayName": "Fernando CHEN",
      "photoUrl": "https://lh3.googleusercontent.com/a/default-user=s64",
      "userId": "06486171134930786741"
     },
     "user_tz": -480
    },
    "id": "A7FWwL4EevML"
   },
   "outputs": [],
   "source": [
    "from sklearn.model_selection import train_test_split\n",
    "\n",
    "train, val = train_test_split(dataset, test_size=0.2)"
   ]
  },
  {
   "cell_type": "code",
   "execution_count": null,
   "metadata": {
    "ExecuteTime": {
     "end_time": "2022-12-20T13:53:50.765436Z",
     "start_time": "2022-12-20T13:53:48.228Z"
    }
   },
   "outputs": [],
   "source": [
    "y_train = train['Survived']\n",
    "X_train = train.drop(['Survived'], axis=1)\n",
    "\n",
    "X_val = val.drop(['Survived'], axis=1)\n",
    "y_val = val['Survived']"
   ]
  },
  {
   "cell_type": "markdown",
   "metadata": {
    "heading_collapsed": true,
    "id": "hPK9qQT3H2PV"
   },
   "source": [
    "# Data Type"
   ]
  },
  {
   "cell_type": "code",
   "execution_count": null,
   "metadata": {
    "ExecuteTime": {
     "end_time": "2022-12-20T13:53:50.766015Z",
     "start_time": "2022-12-20T13:53:48.230Z"
    },
    "colab": {
     "base_uri": "https://localhost:8080/"
    },
    "executionInfo": {
     "elapsed": 779,
     "status": "ok",
     "timestamp": 1648016020949,
     "user": {
      "displayName": "Fernando CHEN",
      "photoUrl": "https://lh3.googleusercontent.com/a/default-user=s64",
      "userId": "06486171134930786741"
     },
     "user_tz": -480
    },
    "hidden": true,
    "id": "wHrNmN76H44S",
    "outputId": "a2cda2d4-a136-465f-bc3d-97d0c5c09634"
   },
   "outputs": [],
   "source": [
    "label_col = \"Survived\"\n",
    "num_cols = [col for col in train.columns if train[col].dtype in ['int64', 'float64']]\n",
    "cat_cols = [col for col in train.columns if train[col].dtype in ['object']]\n",
    "\n",
    "print('num_cols:', num_cols)\n",
    "print('cat_cols:', cat_cols)"
   ]
  },
  {
   "cell_type": "code",
   "execution_count": null,
   "metadata": {
    "ExecuteTime": {
     "end_time": "2022-12-20T13:53:50.766663Z",
     "start_time": "2022-12-20T13:53:48.232Z"
    },
    "colab": {
     "base_uri": "https://localhost:8080/"
    },
    "executionInfo": {
     "elapsed": 41,
     "status": "ok",
     "timestamp": 1648016020950,
     "user": {
      "displayName": "Fernando CHEN",
      "photoUrl": "https://lh3.googleusercontent.com/a/default-user=s64",
      "userId": "06486171134930786741"
     },
     "user_tz": -480
    },
    "hidden": true,
    "id": "6PQy2jSoI-3J",
    "outputId": "9ea111a9-43e3-4025-825d-ff5a22e87df4"
   },
   "outputs": [],
   "source": [
    "card = [X_train[col].nunique() for col in cat_cols]\n",
    "for a, b in zip(cat_cols, card):\n",
    "    print(a, b)\n",
    "\n",
    "print()\n",
    "low_card_cols = [col for col in cat_cols if X_train[col].nunique() <= 10]\n",
    "high_card_cols = [col for col in cat_cols if X_train[col].nunique() > 10]\n",
    "print('low_card_cols:', low_card_cols)\n",
    "print('high_card_cols:', high_card_cols)"
   ]
  },
  {
   "cell_type": "markdown",
   "metadata": {
    "id": "mauMEsL3NFm9"
   },
   "source": [
    "# Data Cleaning"
   ]
  },
  {
   "cell_type": "markdown",
   "metadata": {
    "heading_collapsed": true,
    "id": "auiPkrTidSl7"
   },
   "source": [
    "## Filling NaN Values"
   ]
  },
  {
   "cell_type": "code",
   "execution_count": null,
   "metadata": {
    "ExecuteTime": {
     "end_time": "2022-12-20T13:53:50.767751Z",
     "start_time": "2022-12-20T13:53:48.236Z"
    },
    "hidden": true,
    "id": "o_qnuBO5c3Ym"
   },
   "outputs": [],
   "source": [
    "imputer = ColumnTransformer([\n",
    "    ('imputer_num', SimpleImputer(strategy='median'), num_cols),\n",
    "    ('imputer_cat', SimpleImputer(strategy='most_frequent'), cat_cols)\n",
    "])"
   ]
  },
  {
   "cell_type": "code",
   "execution_count": null,
   "metadata": {
    "ExecuteTime": {
     "end_time": "2022-12-20T13:53:50.768297Z",
     "start_time": "2022-12-20T13:53:48.237Z"
    },
    "hidden": true,
    "id": "mUC8848Ywed5"
   },
   "outputs": [],
   "source": [
    "clean_pipe = Pipeline([\n",
    "    ('imputer', imputer)\n",
    "])"
   ]
  },
  {
   "cell_type": "code",
   "execution_count": null,
   "metadata": {
    "ExecuteTime": {
     "end_time": "2022-12-20T13:53:50.768881Z",
     "start_time": "2022-12-20T13:53:48.239Z"
    },
    "hidden": true
   },
   "outputs": [],
   "source": [
    "train.info()"
   ]
  },
  {
   "cell_type": "code",
   "execution_count": null,
   "metadata": {
    "ExecuteTime": {
     "end_time": "2022-12-20T13:53:50.769572Z",
     "start_time": "2022-12-20T13:53:48.241Z"
    },
    "colab": {
     "base_uri": "https://localhost:8080/"
    },
    "executionInfo": {
     "elapsed": 38,
     "status": "ok",
     "timestamp": 1648016020953,
     "user": {
      "displayName": "Fernando CHEN",
      "photoUrl": "https://lh3.googleusercontent.com/a/default-user=s64",
      "userId": "06486171134930786741"
     },
     "user_tz": -480
    },
    "hidden": true,
    "id": "UYLfZA9NVXQR",
    "outputId": "9e4fa107-7000-40b9-f3ca-1513cf477d5f"
   },
   "outputs": [],
   "source": [
    "train_clean = clean_pipe.fit_transform(train)\n",
    "train_clean"
   ]
  },
  {
   "cell_type": "code",
   "execution_count": null,
   "metadata": {
    "ExecuteTime": {
     "end_time": "2022-12-20T13:53:50.770241Z",
     "start_time": "2022-12-20T13:53:48.243Z"
    },
    "colab": {
     "base_uri": "https://localhost:8080/",
     "height": 540
    },
    "executionInfo": {
     "elapsed": 38,
     "status": "ok",
     "timestamp": 1648016020954,
     "user": {
      "displayName": "Fernando CHEN",
      "photoUrl": "https://lh3.googleusercontent.com/a/default-user=s64",
      "userId": "06486171134930786741"
     },
     "user_tz": -480
    },
    "hidden": true,
    "id": "LC5QW7iYeKeN",
    "outputId": "87c88082-6510-4b67-fd0b-87c111a23af6"
   },
   "outputs": [],
   "source": [
    "train_clean = pd.DataFrame(train_clean, index=train.index)\n",
    "train_clean.columns = num_cols + cat_cols\n",
    "train_clean.head()"
   ]
  },
  {
   "cell_type": "code",
   "execution_count": null,
   "metadata": {
    "ExecuteTime": {
     "end_time": "2022-12-20T13:53:50.770809Z",
     "start_time": "2022-12-20T13:53:48.244Z"
    },
    "hidden": true,
    "id": "TYbWetZAWuHM"
   },
   "outputs": [],
   "source": [
    "# After imputing, all dtype will change to 'object'\n",
    "# So need to reassign float64 type to num_cols\n",
    "train_clean_ = train_clean[num_cols].astype('float64')\n",
    "train_clean = train_clean_.join(train_clean[cat_cols])"
   ]
  },
  {
   "cell_type": "code",
   "execution_count": null,
   "metadata": {
    "ExecuteTime": {
     "end_time": "2022-12-20T13:53:50.771389Z",
     "start_time": "2022-12-20T13:53:48.246Z"
    },
    "hidden": true
   },
   "outputs": [],
   "source": [
    "train_clean.info()"
   ]
  },
  {
   "cell_type": "markdown",
   "metadata": {
    "heading_collapsed": true
   },
   "source": [
    "## Remove Outliers"
   ]
  },
  {
   "cell_type": "code",
   "execution_count": 59,
   "metadata": {
    "ExecuteTime": {
     "end_time": "2022-12-20T14:41:13.065050Z",
     "start_time": "2022-12-20T14:41:12.943107Z"
    },
    "hidden": true
   },
   "outputs": [
    {
     "data": {
      "text/plain": [
       "<matplotlib.axes._subplots.AxesSubplot at 0x7f334628dc50>"
      ]
     },
     "execution_count": 59,
     "metadata": {},
     "output_type": "execute_result"
    },
    {
     "data": {
      "image/png": "[encoded data removed]",
      "text/plain": [
       "<Figure size 432x288 with 1 Axes>"
      ]
     },
     "metadata": {
      "needs_background": "light"
     },
     "output_type": "display_data"
    }
   ],
   "source": [
    "# black vertical line represents quartiles +- (1.5 * interquartile_range)\n",
    "# black points are outliers\n",
    "sns.boxplot(dataset.Fare, data=dataset)"
   ]
  },
  {
   "cell_type": "code",
   "execution_count": 13,
   "metadata": {
    "ExecuteTime": {
     "end_time": "2022-12-20T13:53:50.676773Z",
     "start_time": "2022-12-20T13:53:49.783197Z"
    },
    "hidden": true
   },
   "outputs": [
    {
     "data": {
      "image/png": "[encoded data removed]",
      "text/plain": [
       "<Figure size 1440x1080 with 6 Axes>"
      ]
     },
     "metadata": {
      "needs_background": "light"
     },
     "output_type": "display_data"
    }
   ],
   "source": [
    "dataset.hist(bins=50, figsize=(20, 15))\n",
    "plt.show()"
   ]
  },
  {
   "cell_type": "code",
   "execution_count": 16,
   "metadata": {
    "ExecuteTime": {
     "end_time": "2022-12-20T14:04:10.042309Z",
     "start_time": "2022-12-20T14:04:10.035873Z"
    },
    "hidden": true
   },
   "outputs": [
    {
     "name": "stdout",
     "output_type": "stream",
     "text": [
      "skewness value of Age:  0.38910778230082704\n",
      "skewness value of Fare:  4.787316519674893\n"
     ]
    }
   ],
   "source": [
    "# Fare distribution has been right shifted, indicating the presence of outliers\n",
    "print('skewness value of Age: ', dataset['Age'].skew())\n",
    "print('skewness value of Fare: ',dataset['Fare'].skew())"
   ]
  },
  {
   "cell_type": "code",
   "execution_count": 17,
   "metadata": {
    "ExecuteTime": {
     "end_time": "2022-12-20T14:05:32.625515Z",
     "start_time": "2022-12-20T14:05:32.594523Z"
    },
    "hidden": true,
    "scrolled": true
   },
   "outputs": [
    {
     "data": {
      "text/html": [
       "<div>\n",
       "<style scoped>\n",
       "    .dataframe tbody tr th:only-of-type {\n",
       "        vertical-align: middle;\n",
       "    }\n",
       "\n",
       "    .dataframe tbody tr th {\n",
       "        vertical-align: top;\n",
       "    }\n",
       "\n",
       "    .dataframe thead th {\n",
       "        text-align: right;\n",
       "    }\n",
       "</style>\n",
       "<table border=\"1\" class=\"dataframe\">\n",
       "  <thead>\n",
       "    <tr style=\"text-align: right;\">\n",
       "      <th></th>\n",
       "      <th>Survived</th>\n",
       "      <th>Pclass</th>\n",
       "      <th>Age</th>\n",
       "      <th>SibSp</th>\n",
       "      <th>Parch</th>\n",
       "      <th>Fare</th>\n",
       "    </tr>\n",
       "  </thead>\n",
       "  <tbody>\n",
       "    <tr>\n",
       "      <th>count</th>\n",
       "      <td>891.000000</td>\n",
       "      <td>891.000000</td>\n",
       "      <td>714.000000</td>\n",
       "      <td>891.000000</td>\n",
       "      <td>891.000000</td>\n",
       "      <td>891.000000</td>\n",
       "    </tr>\n",
       "    <tr>\n",
       "      <th>mean</th>\n",
       "      <td>0.383838</td>\n",
       "      <td>2.308642</td>\n",
       "      <td>29.699118</td>\n",
       "      <td>0.523008</td>\n",
       "      <td>0.381594</td>\n",
       "      <td>32.204208</td>\n",
       "    </tr>\n",
       "    <tr>\n",
       "      <th>std</th>\n",
       "      <td>0.486592</td>\n",
       "      <td>0.836071</td>\n",
       "      <td>14.526497</td>\n",
       "      <td>1.102743</td>\n",
       "      <td>0.806057</td>\n",
       "      <td>49.693429</td>\n",
       "    </tr>\n",
       "    <tr>\n",
       "      <th>min</th>\n",
       "      <td>0.000000</td>\n",
       "      <td>1.000000</td>\n",
       "      <td>0.420000</td>\n",
       "      <td>0.000000</td>\n",
       "      <td>0.000000</td>\n",
       "      <td>0.000000</td>\n",
       "    </tr>\n",
       "    <tr>\n",
       "      <th>25%</th>\n",
       "      <td>0.000000</td>\n",
       "      <td>2.000000</td>\n",
       "      <td>20.125000</td>\n",
       "      <td>0.000000</td>\n",
       "      <td>0.000000</td>\n",
       "      <td>7.910400</td>\n",
       "    </tr>\n",
       "    <tr>\n",
       "      <th>50%</th>\n",
       "      <td>0.000000</td>\n",
       "      <td>3.000000</td>\n",
       "      <td>28.000000</td>\n",
       "      <td>0.000000</td>\n",
       "      <td>0.000000</td>\n",
       "      <td>14.454200</td>\n",
       "    </tr>\n",
       "    <tr>\n",
       "      <th>75%</th>\n",
       "      <td>1.000000</td>\n",
       "      <td>3.000000</td>\n",
       "      <td>38.000000</td>\n",
       "      <td>1.000000</td>\n",
       "      <td>0.000000</td>\n",
       "      <td>31.000000</td>\n",
       "    </tr>\n",
       "    <tr>\n",
       "      <th>max</th>\n",
       "      <td>1.000000</td>\n",
       "      <td>3.000000</td>\n",
       "      <td>80.000000</td>\n",
       "      <td>8.000000</td>\n",
       "      <td>6.000000</td>\n",
       "      <td>512.329200</td>\n",
       "    </tr>\n",
       "  </tbody>\n",
       "</table>\n",
       "</div>"
      ],
      "text/plain": [
       "         Survived      Pclass         Age       SibSp       Parch        Fare\n",
       "count  891.000000  891.000000  714.000000  891.000000  891.000000  891.000000\n",
       "mean     0.383838    2.308642   29.699118    0.523008    0.381594   32.204208\n",
       "std      0.486592    0.836071   14.526497    1.102743    0.806057   49.693429\n",
       "min      0.000000    1.000000    0.420000    0.000000    0.000000    0.000000\n",
       "25%      0.000000    2.000000   20.125000    0.000000    0.000000    7.910400\n",
       "50%      0.000000    3.000000   28.000000    0.000000    0.000000   14.454200\n",
       "75%      1.000000    3.000000   38.000000    1.000000    0.000000   31.000000\n",
       "max      1.000000    3.000000   80.000000    8.000000    6.000000  512.329200"
      ]
     },
     "execution_count": 17,
     "metadata": {},
     "output_type": "execute_result"
    }
   ],
   "source": [
    "dataset.describe()"
   ]
  },
  {
   "cell_type": "code",
   "execution_count": 55,
   "metadata": {
    "ExecuteTime": {
     "end_time": "2022-12-20T14:40:39.344008Z",
     "start_time": "2022-12-20T14:40:39.339693Z"
    },
    "hidden": true
   },
   "outputs": [],
   "source": [
    "dataset_clean = dataset.copy()"
   ]
  },
  {
   "cell_type": "code",
   "execution_count": 60,
   "metadata": {
    "ExecuteTime": {
     "end_time": "2022-12-20T14:42:56.358611Z",
     "start_time": "2022-12-20T14:42:56.342841Z"
    },
    "hidden": true
   },
   "outputs": [
    {
     "data": {
      "text/plain": [
       "807"
      ]
     },
     "execution_count": 60,
     "metadata": {},
     "output_type": "execute_result"
    }
   ],
   "source": [
    "q1 = dataset.Fare.quantile(0.25)\n",
    "q3 = dataset.Fare.quantile(0.75)\n",
    "iqr = q3 - q1\n",
    "\n",
    "whisker_width = 1.5\n",
    "lower_whisker = q1 - whisker_width * iqr\n",
    "upper_whisker = q3 + whisker_width * iqr\n",
    "\n",
    "fare_outliers = dataset[(dataset.Fare < q1 - lower_whisker) | (dataset.Fare > upper_whisker)]\n",
    "fare_outliers.Fare.count()"
   ]
  },
  {
   "cell_type": "code",
   "execution_count": 57,
   "metadata": {
    "ExecuteTime": {
     "end_time": "2022-12-20T14:41:00.123723Z",
     "start_time": "2022-12-20T14:41:00.115979Z"
    },
    "hidden": true
   },
   "outputs": [],
   "source": [
    "# Flooring and capping outliers to boundary values\n",
    "dataset_clean.Fare = np.where(\n",
    "    dataset.Fare > upper_whisker,\n",
    "    upper_whisker,\n",
    "    np.where(\n",
    "        dataset.Fare < lower_whisker,\n",
    "        lower_whisker,\n",
    "        dataset.Fare\n",
    "    )\n",
    ")"
   ]
  },
  {
   "cell_type": "code",
   "execution_count": 58,
   "metadata": {
    "ExecuteTime": {
     "end_time": "2022-12-20T14:41:02.594847Z",
     "start_time": "2022-12-20T14:41:02.483755Z"
    },
    "hidden": true
   },
   "outputs": [
    {
     "data": {
      "text/plain": [
       "<matplotlib.axes._subplots.AxesSubplot at 0x7f33461de240>"
      ]
     },
     "execution_count": 58,
     "metadata": {},
     "output_type": "execute_result"
    },
    {
     "data": {
      "image/png": "[encoded data removed]",
      "text/plain": [
       "<Figure size 432x288 with 1 Axes>"
      ]
     },
     "metadata": {
      "needs_background": "light"
     },
     "output_type": "display_data"
    }
   ],
   "source": [
    "sns.boxplot(dataset_clean.Fare, data=dataset_clean)"
   ]
  },
  {
   "cell_type": "code",
   "execution_count": 29,
   "metadata": {
    "ExecuteTime": {
     "end_time": "2022-12-20T14:21:21.297775Z",
     "start_time": "2022-12-20T14:21:21.285907Z"
    },
    "hidden": true
   },
   "outputs": [
    {
     "data": {
      "text/plain": [
       "20"
      ]
     },
     "execution_count": 29,
     "metadata": {},
     "output_type": "execute_result"
    }
   ],
   "source": [
    "fare_mean = dataset.Fare.mean()\n",
    "fare_std = dataset.Fare.std()\n",
    "low = fare_mean - 3 * fare_std\n",
    "high = fare_mean + 3 * fare_std\n",
    "fare_outliers = dataset[(dataset.Fare < low) | (dataset.Fare > high)]\n",
    "fare_outliers.Fare.count()"
   ]
  },
  {
   "cell_type": "markdown",
   "metadata": {
    "id": "1lwSd7ZDYuWb"
   },
   "source": [
    "# Data Analysis"
   ]
  },
  {
   "cell_type": "markdown",
   "metadata": {
    "id": "Ds89q7SzACxh"
   },
   "source": [
    "## Correaltions"
   ]
  },
  {
   "cell_type": "code",
   "execution_count": null,
   "metadata": {
    "ExecuteTime": {
     "end_time": "2022-12-20T13:53:50.771925Z",
     "start_time": "2022-12-20T13:53:48.249Z"
    },
    "colab": {
     "base_uri": "https://localhost:8080/",
     "height": 894
    },
    "executionInfo": {
     "elapsed": 1685,
     "status": "ok",
     "timestamp": 1648016022618,
     "user": {
      "displayName": "Fernando CHEN",
      "photoUrl": "https://lh3.googleusercontent.com/a/default-user=s64",
      "userId": "06486171134930786741"
     },
     "user_tz": -480
    },
    "id": "W5hyg3v2AJej",
    "outputId": "590ada00-cacf-43f8-82c3-e0319bef359e"
   },
   "outputs": [],
   "source": [
    "train_clean.hist(bins=50, figsize=(20,15), legend=True)"
   ]
  },
  {
   "cell_type": "code",
   "execution_count": null,
   "metadata": {
    "ExecuteTime": {
     "end_time": "2022-12-20T13:53:50.772429Z",
     "start_time": "2022-12-20T13:53:48.251Z"
    },
    "colab": {
     "base_uri": "https://localhost:8080/"
    },
    "executionInfo": {
     "elapsed": 13,
     "status": "ok",
     "timestamp": 1648016022619,
     "user": {
      "displayName": "Fernando CHEN",
      "photoUrl": "https://lh3.googleusercontent.com/a/default-user=s64",
      "userId": "06486171134930786741"
     },
     "user_tz": -480
    },
    "id": "_h8bN0IBA2DQ",
    "outputId": "c29417c2-4c75-4dc1-bb08-5a16b50f157c"
   },
   "outputs": [],
   "source": [
    "corr = train_clean.corr()\n",
    "\n",
    "corr['Survived'].sort_values(ascending=False)"
   ]
  },
  {
   "cell_type": "code",
   "execution_count": null,
   "metadata": {
    "ExecuteTime": {
     "end_time": "2022-12-20T13:53:50.772971Z",
     "start_time": "2022-12-20T13:53:48.253Z"
    }
   },
   "outputs": [],
   "source": [
    "train_clean.Fare.max()"
   ]
  },
  {
   "cell_type": "code",
   "execution_count": null,
   "metadata": {
    "ExecuteTime": {
     "end_time": "2022-12-20T13:53:50.773553Z",
     "start_time": "2022-12-20T13:53:48.254Z"
    },
    "colab": {
     "base_uri": "https://localhost:8080/",
     "height": 794
    },
    "executionInfo": {
     "elapsed": 1391,
     "status": "ok",
     "timestamp": 1648016024002,
     "user": {
      "displayName": "Fernando CHEN",
      "photoUrl": "https://lh3.googleusercontent.com/a/default-user=s64",
      "userId": "06486171134930786741"
     },
     "user_tz": -480
    },
    "id": "V8kMvbj8HS_3",
    "outputId": "985a164d-c989-4c7e-c84d-711d789e794d"
   },
   "outputs": [],
   "source": [
    "# from pandas.tools.plotting import scatter_matrix # For older versions of Pandas\n",
    "from pandas.plotting import scatter_matrix\n",
    "\n",
    "attributes = [\"Survived\", \"Fare\", \"Pclass\", \"Parch\"]\n",
    "scatter_matrix(train_clean[attributes], figsize=(12, 8))\n",
    "save_fig(\"scatter_matrix_plot\")"
   ]
  },
  {
   "cell_type": "code",
   "execution_count": null,
   "metadata": {
    "ExecuteTime": {
     "end_time": "2022-12-20T13:53:50.774048Z",
     "start_time": "2022-12-20T13:53:48.256Z"
    },
    "colab": {
     "base_uri": "https://localhost:8080/",
     "height": 1000
    },
    "executionInfo": {
     "elapsed": 16731,
     "status": "ok",
     "timestamp": 1648016040728,
     "user": {
      "displayName": "Fernando CHEN",
      "photoUrl": "https://lh3.googleusercontent.com/a/default-user=s64",
      "userId": "06486171134930786741"
     },
     "user_tz": -480
    },
    "id": "G-zaQZn4aBBR",
    "outputId": "25074ed5-d532-4ed7-9ea9-947e0480ad24"
   },
   "outputs": [],
   "source": [
    "import seaborn as sns\n",
    "sns.pairplot(train_clean, palette='Dark2')"
   ]
  },
  {
   "cell_type": "markdown",
   "metadata": {
    "id": "VcQjwnjUiNzC"
   },
   "source": [
    "## Age Bucket\n",
    "Divide ages into several intervals, that each age interval will have different survival rate"
   ]
  },
  {
   "cell_type": "code",
   "execution_count": null,
   "metadata": {
    "ExecuteTime": {
     "end_time": "2022-12-20T13:53:50.774681Z",
     "start_time": "2022-12-20T13:53:48.258Z"
    },
    "colab": {
     "base_uri": "https://localhost:8080/",
     "height": 266
    },
    "executionInfo": {
     "elapsed": 132,
     "status": "ok",
     "timestamp": 1648016040729,
     "user": {
      "displayName": "Fernando CHEN",
      "photoUrl": "https://lh3.googleusercontent.com/a/default-user=s64",
      "userId": "06486171134930786741"
     },
     "user_tz": -480
    },
    "id": "2_dC24s7ikDi",
    "outputId": "c8efce57-c288-4374-ef92-cc91ecea47a5"
   },
   "outputs": [],
   "source": [
    "train_clean['AgeBucket'] = train_clean['Age'] // 15 * 15"
   ]
  },
  {
   "cell_type": "markdown",
   "metadata": {
    "id": "4u6oZ6G6k-7Y"
   },
   "source": [
    "## Relatives On Board"
   ]
  },
  {
   "cell_type": "code",
   "execution_count": null,
   "metadata": {
    "ExecuteTime": {
     "end_time": "2022-12-20T13:53:50.775177Z",
     "start_time": "2022-12-20T13:53:48.262Z"
    },
    "colab": {
     "base_uri": "https://localhost:8080/",
     "height": 359
    },
    "executionInfo": {
     "elapsed": 130,
     "status": "ok",
     "timestamp": 1648016040730,
     "user": {
      "displayName": "Fernando CHEN",
      "photoUrl": "https://lh3.googleusercontent.com/a/default-user=s64",
      "userId": "06486171134930786741"
     },
     "user_tz": -480
    },
    "id": "SK1_7vH_jR-Q",
    "outputId": "0d228215-3005-4c5c-a1f6-69b4b1d72d0d"
   },
   "outputs": [],
   "source": [
    "train_clean['RelativesOnboard'] = train_clean.SibSp + train_clean.Parch\n",
    "train_clean[['RelativesOnboard', 'Survived']].groupby(['RelativesOnboard']).mean()"
   ]
  },
  {
   "cell_type": "markdown",
   "metadata": {
    "id": "aaYmDiO8ltn5"
   },
   "source": [
    "## Name Title"
   ]
  },
  {
   "cell_type": "code",
   "execution_count": null,
   "metadata": {
    "ExecuteTime": {
     "end_time": "2022-12-20T13:53:50.775657Z",
     "start_time": "2022-12-20T13:53:48.264Z"
    },
    "colab": {
     "base_uri": "https://localhost:8080/"
    },
    "executionInfo": {
     "elapsed": 129,
     "status": "ok",
     "timestamp": 1648016040731,
     "user": {
      "displayName": "Fernando CHEN",
      "photoUrl": "https://lh3.googleusercontent.com/a/default-user=s64",
      "userId": "06486171134930786741"
     },
     "user_tz": -480
    },
    "id": "kIAC73Npl4n_",
    "outputId": "5753f4ec-98eb-4562-df62-74d1a58ecdcc"
   },
   "outputs": [],
   "source": [
    "train_clean.Name.head(20)"
   ]
  },
  {
   "cell_type": "code",
   "execution_count": null,
   "metadata": {
    "ExecuteTime": {
     "end_time": "2022-12-20T13:53:50.776229Z",
     "start_time": "2022-12-20T13:53:48.265Z"
    },
    "id": "fzfLzC0onnm3"
   },
   "outputs": [],
   "source": [
    "def extract(name, titles):\n",
    "    for t in titles:\n",
    "        if t in name:\n",
    "            return t\n",
    "    return np.nan\n",
    "\n",
    "title_list=['Mrs', 'Mr', 'Master', 'Miss', 'Major', 'Rev',\n",
    "            'Dr', 'Ms', 'Mlle','Col', 'Capt', 'Mme', 'Countess',\n",
    "            'Don', 'Jonkheer']\n",
    "\n",
    "train_clean['Title'] = train_clean['Name'].map(lambda name: extract(name, title_list))\n"
   ]
  },
  {
   "cell_type": "code",
   "execution_count": null,
   "metadata": {
    "ExecuteTime": {
     "end_time": "2022-12-20T13:53:50.776843Z",
     "start_time": "2022-12-20T13:53:48.267Z"
    }
   },
   "outputs": [],
   "source": [
    "print(train_clean.Title.nunique())\n",
    "train_clean.Title.value_counts()"
   ]
  },
  {
   "cell_type": "code",
   "execution_count": null,
   "metadata": {
    "ExecuteTime": {
     "end_time": "2022-12-20T13:53:50.777418Z",
     "start_time": "2022-12-20T13:53:48.269Z"
    },
    "colab": {
     "base_uri": "https://localhost:8080/",
     "height": 49
    },
    "executionInfo": {
     "elapsed": 111,
     "status": "ok",
     "timestamp": 1648016040732,
     "user": {
      "displayName": "Fernando CHEN",
      "photoUrl": "https://lh3.googleusercontent.com/a/default-user=s64",
      "userId": "06486171134930786741"
     },
     "user_tz": -480
    },
    "id": "3p1H-d3Co-rw",
    "outputId": "3c8e362a-c94c-486e-9ead-32a1ab817da9"
   },
   "outputs": [],
   "source": [
    "train_clean[train_clean.Title.isna()]"
   ]
  },
  {
   "cell_type": "code",
   "execution_count": null,
   "metadata": {
    "ExecuteTime": {
     "end_time": "2022-12-20T13:53:50.777921Z",
     "start_time": "2022-12-20T13:53:48.270Z"
    },
    "colab": {
     "base_uri": "https://localhost:8080/"
    },
    "executionInfo": {
     "elapsed": 101,
     "status": "ok",
     "timestamp": 1648016040733,
     "user": {
      "displayName": "Fernando CHEN",
      "photoUrl": "https://lh3.googleusercontent.com/a/default-user=s64",
      "userId": "06486171134930786741"
     },
     "user_tz": -480
    },
    "id": "iAFgZZaJuuox",
    "outputId": "898c79a0-7f58-4c96-c2da-efb826224b8d"
   },
   "outputs": [],
   "source": [
    "train_clean.shape"
   ]
  },
  {
   "cell_type": "markdown",
   "metadata": {
    "id": "AdPxPvpNqs5c"
   },
   "source": [
    "## Cabin to Deck "
   ]
  },
  {
   "cell_type": "code",
   "execution_count": null,
   "metadata": {
    "ExecuteTime": {
     "end_time": "2022-12-20T13:53:50.778429Z",
     "start_time": "2022-12-20T13:53:48.273Z"
    },
    "colab": {
     "base_uri": "https://localhost:8080/"
    },
    "executionInfo": {
     "elapsed": 92,
     "status": "ok",
     "timestamp": 1648016040733,
     "user": {
      "displayName": "Fernando CHEN",
      "photoUrl": "https://lh3.googleusercontent.com/a/default-user=s64",
      "userId": "06486171134930786741"
     },
     "user_tz": -480
    },
    "id": "Icui7Payrbur",
    "outputId": "c2b6d4f3-2a88-4f4f-d692-792ec07884cf"
   },
   "outputs": [],
   "source": [
    "train_clean.Cabin.head(10)"
   ]
  },
  {
   "cell_type": "code",
   "execution_count": null,
   "metadata": {
    "ExecuteTime": {
     "end_time": "2022-12-20T13:53:50.779030Z",
     "start_time": "2022-12-20T13:53:48.274Z"
    },
    "id": "GbOJdtwqq8-A"
   },
   "outputs": [],
   "source": [
    "#Turning cabin number into Deck\n",
    "cabin_list = ['A', 'B', 'C', 'D', 'E', 'F', 'T', 'G', 'Unknown']\n",
    "train_clean['Deck'] = train_clean['Cabin'].map(lambda x: extract(x, cabin_list))"
   ]
  },
  {
   "cell_type": "code",
   "execution_count": null,
   "metadata": {
    "ExecuteTime": {
     "end_time": "2022-12-20T13:53:50.779642Z",
     "start_time": "2022-12-20T13:53:48.276Z"
    },
    "colab": {
     "base_uri": "https://localhost:8080/"
    },
    "executionInfo": {
     "elapsed": 83,
     "status": "ok",
     "timestamp": 1648016040734,
     "user": {
      "displayName": "Fernando CHEN",
      "photoUrl": "https://lh3.googleusercontent.com/a/default-user=s64",
      "userId": "06486171134930786741"
     },
     "user_tz": -480
    },
    "id": "AL_ovX6IrMDT",
    "outputId": "2ebbb522-7d84-4351-9ab1-f98d51c6cc6a"
   },
   "outputs": [],
   "source": [
    "train_clean.Deck.value_counts()"
   ]
  },
  {
   "cell_type": "markdown",
   "metadata": {
    "id": "Z1aeojA6LR03"
   },
   "source": [
    "## Surname"
   ]
  },
  {
   "cell_type": "code",
   "execution_count": 84,
   "metadata": {
    "ExecuteTime": {
     "end_time": "2022-12-15T12:32:43.851938Z",
     "start_time": "2022-12-15T12:32:43.844920Z"
    },
    "colab": {
     "base_uri": "https://localhost:8080/"
    },
    "deletable": false,
    "editable": false,
    "executionInfo": {
     "elapsed": 75,
     "status": "ok",
     "timestamp": 1648016040735,
     "user": {
      "displayName": "Fernando CHEN",
      "photoUrl": "https://lh3.googleusercontent.com/a/default-user=s64",
      "userId": "06486171134930786741"
     },
     "user_tz": -480
    },
    "id": "BW3K-6AHLVlW",
    "outputId": "ebe5d359-c740-4fb1-fd53-78489a7ae121",
    "run_control": {
     "frozen": true
    }
   },
   "outputs": [
    {
     "data": {
      "text/plain": [
       "0                              Braund, Mr. Owen Harris\n",
       "1    Cumings, Mrs. John Bradley (Florence Briggs Th...\n",
       "2                               Heikkinen, Miss. Laina\n",
       "3         Futrelle, Mrs. Jacques Heath (Lily May Peel)\n",
       "4                             Allen, Mr. William Henry\n",
       "5                                     Moran, Mr. James\n",
       "6                              McCarthy, Mr. Timothy J\n",
       "7                       Palsson, Master. Gosta Leonard\n",
       "8    Johnson, Mrs. Oscar W (Elisabeth Vilhelmina Berg)\n",
       "9                  Nasser, Mrs. Nicholas (Adele Achem)\n",
       "Name: Name, dtype: object"
      ]
     },
     "execution_count": 84,
     "metadata": {},
     "output_type": "execute_result"
    }
   ],
   "source": [
    "train_clean.Name.head(10)"
   ]
  },
  {
   "cell_type": "code",
   "execution_count": 85,
   "metadata": {
    "ExecuteTime": {
     "end_time": "2022-12-15T12:32:52.300590Z",
     "start_time": "2022-12-15T12:32:52.294489Z"
    },
    "deletable": false,
    "editable": false,
    "id": "9NIdGVeQMrO6",
    "run_control": {
     "frozen": true
    }
   },
   "outputs": [],
   "source": [
    "train_clean['Surname'] = train_clean['Name'].map(lambda x: x.split(',', 1)[0])"
   ]
  },
  {
   "cell_type": "code",
   "execution_count": 86,
   "metadata": {
    "ExecuteTime": {
     "end_time": "2022-12-15T12:32:52.869561Z",
     "start_time": "2022-12-15T12:32:52.863819Z"
    },
    "colab": {
     "base_uri": "https://localhost:8080/"
    },
    "deletable": false,
    "editable": false,
    "executionInfo": {
     "elapsed": 68,
     "status": "ok",
     "timestamp": 1648016040736,
     "user": {
      "displayName": "Fernando CHEN",
      "photoUrl": "https://lh3.googleusercontent.com/a/default-user=s64",
      "userId": "06486171134930786741"
     },
     "user_tz": -480
    },
    "id": "m92lUsIhM5OW",
    "outputId": "2076fdb9-3b1c-4afe-cf34-f7a4d80326fe",
    "run_control": {
     "frozen": true
    }
   },
   "outputs": [
    {
     "data": {
      "text/plain": [
       "0         Braund\n",
       "1        Cumings\n",
       "2      Heikkinen\n",
       "3       Futrelle\n",
       "4          Allen\n",
       "         ...    \n",
       "886     Montvila\n",
       "887       Graham\n",
       "888     Johnston\n",
       "889         Behr\n",
       "890       Dooley\n",
       "Name: Surname, Length: 891, dtype: object"
      ]
     },
     "execution_count": 86,
     "metadata": {},
     "output_type": "execute_result"
    }
   ],
   "source": [
    "train_clean.Surname"
   ]
  },
  {
   "cell_type": "code",
   "execution_count": 95,
   "metadata": {
    "ExecuteTime": {
     "end_time": "2022-12-15T12:47:40.508533Z",
     "start_time": "2022-12-15T12:47:40.503628Z"
    },
    "deletable": false,
    "editable": false,
    "id": "8saQGl4nOqne",
    "run_control": {
     "frozen": true
    }
   },
   "outputs": [
    {
     "data": {
      "text/plain": [
       "667"
      ]
     },
     "execution_count": 95,
     "metadata": {},
     "output_type": "execute_result"
    }
   ],
   "source": [
    "# list of unique values\n",
    "surname_unique = train_clean.Surname.unique()\n",
    "len(surname_unique)"
   ]
  },
  {
   "cell_type": "code",
   "execution_count": 90,
   "metadata": {
    "ExecuteTime": {
     "end_time": "2022-12-15T12:34:08.869413Z",
     "start_time": "2022-12-15T12:34:08.861138Z"
    },
    "deletable": false,
    "editable": false,
    "id": "nm9QFFt5M_8D",
    "run_control": {
     "frozen": true
    }
   },
   "outputs": [
    {
     "data": {
      "text/plain": [
       "Andersson        9\n",
       "Sage             7\n",
       "Johnson          6\n",
       "Panula           6\n",
       "Skoog            6\n",
       "                ..\n",
       "Jenkin           1\n",
       "Sivola           1\n",
       "Reynaldo         1\n",
       "Slocovski        1\n",
       "Lemberopolous    1\n",
       "Name: Surname, Length: 667, dtype: int64"
      ]
     },
     "execution_count": 90,
     "metadata": {},
     "output_type": "execute_result"
    }
   ],
   "source": [
    "# from the same family...\n",
    "surname_value_counts = train_clean.Surname.value_counts()\n",
    "surname_value_counts"
   ]
  },
  {
   "cell_type": "code",
   "execution_count": 91,
   "metadata": {
    "ExecuteTime": {
     "end_time": "2022-12-15T12:43:03.814153Z",
     "start_time": "2022-12-15T12:43:03.758654Z"
    },
    "collapsed": true,
    "deletable": false,
    "editable": false,
    "id": "1sqrZNDlOdp0",
    "run_control": {
     "frozen": true
    }
   },
   "outputs": [
    {
     "name": "stdout",
     "output_type": "stream",
     "text": [
      "{'Braund': 2, 'Cumings': 0, 'Heikkinen': 0, 'Futrelle': 1, 'Allen': 1, 'Moran': 2, 'McCarthy': 1, 'Palsson': 4, 'Johnson': 3, 'Nasser': 1, 'Sandstrom': 0, 'Bonnell': 0, 'Saundercock': 1, 'Andersson': 7, 'Vestrom': 1, 'Hewlett': 0, 'Rice': 5, 'Williams': 3, 'Vander Planke': 3, 'Masselmani': 0, 'Fynney': 1, 'Beesley': 0, 'McGowan': 0, 'Sloper': 0, 'Asplund': 1, 'Emir': 1, 'Fortune': 2, \"O'Dwyer\": 0, 'Todoroff': 1, 'Uruchurtu': 1, 'Spencer': 0, 'Glynn': 0, 'Wheadon': 1, 'Meyer': 2, 'Holverson': 1, 'Mamee': 0, 'Cann': 1, 'Nicola-Yarred': 0, 'Ahlin': 1, 'Turpin': 2, 'Kraeff': 1, 'Laroche': 1, 'Devaney': 0, 'Rogers': 1, 'Lennon': 1, \"O'Driscoll\": 0, 'Samaan': 1, 'Arnold-Franchi': 2, 'Panula': 6, 'Nosworthy': 1, 'Harper': 1, 'Faunthorpe': 0, 'Ostby': 1, 'Woolner': 0, 'Rugg': 0, 'Novel': 1, 'West': 1, 'Goodwin': 6, 'Sirayanian': 1, 'Icard': 0, 'Harris': 2, 'Skoog': 6, 'Stewart': 1, 'Moubarek': 0, 'Nye': 0, 'Crease': 1, 'Kink': 1, 'Jenkin': 1, 'Hood': 1, 'Chronopoulos': 1, 'Bing': 0, 'Moen': 1, 'Staneff': 1, 'Moutal': 1, 'Caldwell': 0, 'Dowdell': 0, 'Waelens': 1, 'Sheerlinck': 0, 'McDermott': 0, 'Carrau': 1, 'Ilett': 0, 'Backstrom': 1, 'Ford': 4, 'Slocovski': 1, 'Celotti': 1, 'Christmann': 1, 'Andreasson': 1, 'Chaffee': 1, 'Dean': 1, 'Coxon': 1, 'Shorney': 1, 'Goldschmidt': 1, 'Greenfield': 0, 'Doling': 0, 'Kantor': 1, 'Petranec': 1, 'Petroff': 2, 'White': 2, 'Johansson': 3, 'Gustafsson': 4, 'Mionoff': 1, 'Salkjelsvik': 0, 'Moss': 0, 'Rekic': 1, 'Porter': 1, 'Zabour': 2, 'Barton': 1, 'Jussila': 2, 'Attalah': 2, 'Pekoniemi': 1, 'Connors': 1, 'Baxter': 1, 'Hickman': 3, 'Moore': 1, 'Webber': 1, 'McMahon': 1, 'Madsen': 0, 'Peter': 0, 'Ekstrom': 1, 'Drazenoic': 1, 'Coelho': 1, 'Robins': 1, 'Weisz': 0, 'Sobey': 1, 'Richard': 1, 'Newsom': 0, 'Osen': 1, 'Giglio': 1, 'Boulos': 3, 'Nysten': 0, 'Hakkarainen': 1, 'Burke': 1, 'Andrew': 1, 'Nicholls': 1, 'Navratil': 1, 'Byles': 1, 'Bateman': 1, 'Pears': 1, 'Meo': 1, 'van Billiard': 1, 'Olsen': 3, 'Gilnagh': 0, 'Corn': 1, 'Smiljanic': 1, 'Sage': 7, 'Cribb': 1, 'Watt': 0, 'Bengtsson': 1, 'Calic': 2, 'Goldsmith': 1, 'Chibnall': 0, 'Baumann': 1, 'Ling': 1, 'Van der hoef': 1, 'Sivola': 1, 'Smith': 3, 'Klasen': 1, 'Lefebre': 4, 'Isham': 1, 'Hale': 1, 'Leonard': 1, 'Pernot': 1, 'Becker': 0, 'Kink-Heilmann': 0, 'Rood': 1, \"O'Brien\": 2, 'Romaine': 0, 'Bourke': 3, 'Turcin': 1, 'Pinsky': 0, 'Carbines': 1, 'Andersen-Jensen': 0, 'Brown': 1, 'Lurette': 0, 'Mernagh': 1, 'Madigan': 0, 'Yrois': 1, 'Vande Walle': 1, 'Johanson': 1, 'Youseff': 1, 'Cohen': 0, 'Strom': 2, 'Albimona': 0, 'Carr': 0, 'Blank': 0, 'Ali': 2, 'Cameron': 0, 'Perkin': 1, 'Givard': 1, 'Kiernan': 1, 'Newell': 1, 'Honkanen': 0, 'Jacobsohn': 1, 'Bazzani': 0, 'Sunderland': 0, 'Bracken': 1, 'Green': 1, 'Nenkoff': 1, 'Hoyt': 1, 'Berglund': 1, 'Mellors': 0, 'Lovell': 1, 'Fahlstrom': 1, 'Larsson': 2, 'Sjostedt': 1, 'Leyson': 1, 'Harknett': 1, 'Hold': 1, 'Collyer': 1, 'Pengelly': 1, 'Hunt': 1, 'Murphy': 0, 'Coleridge': 1, 'Maenpaa': 1, 'Minahan': 1, 'Lindahl': 1, 'Hamalainen': 0, 'Beckwith': 0, 'Carter': 2, 'Reed': 1, 'Stead': 1, 'Lobb': 2, 'Rosblom': 2, 'Touma': 0, 'Thorne': 0, 'Cherry': 0, 'Ward': 0, 'Parrish': 0, 'Taussig': 1, 'Harrison': 1, 'Henry': 1, 'Reeves': 1, 'Persson': 0, 'Graham': 1, 'Bissette': 0, 'Cairns': 1, 'Tornquist': 0, 'Mellinger': 0, 'Natsch': 1, 'Healy': 0, 'Andrews': 1, 'Lindblom': 1, 'Parkes': 1, 'Abbott': 1, 'Duane': 1, 'Olsson': 2, 'de Pelsmaeker': 1, 'Dorking': 0, 'Stankovic': 1, 'de Mulder': 0, 'Naidenoff': 1, 'Hosono': 0, 'Connolly': 0, 'Barber': 0, 'Bishop': 0, 'Levy': 1, 'Haas': 1, 'Mineff': 1, 'Lewy': 1, 'Hanna': 1, 'Allison': 2, 'Saalfeld': 0, 'Kelly': 1, 'McCoy': 0, 'Keane': 1, 'Fleming': 0, 'Penasco y Castellana': 1, 'Abelson': 1, 'Francatelli': 0, 'Hays': 0, 'Ryerson': 0, 'Lahtinen': 1, 'Hendekovic': 1, 'Hart': 2, 'Nilsson': 0, 'Moraweck': 1, 'Wick': 0, 'Spedden': 0, 'Dennis': 1, 'Danoff': 1, 'Slayter': 0, 'Young': 0, 'Nysveen': 1, 'Ball': 0, 'Hippach': 0, 'Partner': 1, 'Frauenthal': 0, 'Denkoff': 1, 'Burns': 0, 'Dahl': 0, 'Blackwell': 1, 'Collander': 1, 'Sedgwick': 1, 'Fox': 1, 'Davison': 0, 'Coutts': 0, 'Dimic': 1, 'Odahl': 1, 'Williams-Lambert': 1, 'Elias': 3, 'Yousif': 1, 'Vanden Steen': 1, 'Bowerman': 0, 'Funk': 1, 'McGovern': 0, 'Mockler': 0, 'del Carlo': 1, 'Barbara': 2, 'Asim': 1, 'Adahl': 1, 'Warren': 0, 'Moussa': 0, 'Jermyn': 0, 'Aubart': 0, 'Harder': 0, 'Wiklund': 1, 'Beavan': 1, 'Ringhini': 1, 'Landergren': 0, 'Widener': 1, 'Betros': 1, 'Bidois': 0, 'Nakid': 0, 'Tikkanen': 1, 'Plotcharsky': 1, 'Davies': 2, 'Buss': 0, 'Sadlier': 1, 'Lehmann': 0, 'Jansson': 0, 'McKane': 1, 'Pain': 1, 'Trout': 0, 'Niskanen': 0, 'Adams': 1, 'Oreskovic': 2, 'Gale': 1, 'Widegren': 1, 'Richards': 0, 'Birkeland': 1, 'Sdycoff': 1, 'Cunningham': 1, 'Sundman': 0, 'Meek': 1, 'Drew': 0, 'Silven': 0, 'Matthews': 1, 'Van Impe': 3, 'Gheorgheff': 1, 'Charters': 1, 'Zimmerman': 1, 'Danbom': 2, 'Wiseman': 1, 'Clarke': 0, 'Phillips': 0, 'Flynn': 2, 'Pickard': 0, 'Bjornstrom-Steffansson': 0, 'Thorneycroft': 1, 'Louch': 0, 'Kallio': 1, 'Silvey': 1, 'Kvillner': 1, 'Hampe': 1, 'Petterson': 1, 'Reynaldo': 0, 'Johannesen-Bratthammer': 0, 'Dodge': 0, 'Seward': 0, 'Baclini': 0, 'Peuchen': 0, 'Hagland': 2, 'Foreman': 1, 'Goldenberg': 0, 'Peduzzi': 1, 'Jalsevac': 0, 'Millet': 1, 'Kenyon': 0, 'Toomey': 0, \"O'Connor\": 1, 'Anderson': 0, 'Morley': 2, 'Gee': 1, 'Milling': 1, 'Maisner': 1, 'Goncalves': 1, 'Campbell': 1, 'Smart': 1, 'Scanlan': 1, 'Keefe': 1, 'Cacic': 2, 'Jerwan': 0, 'Strandberg': 1, 'Clifford': 1, 'Renouf': 1, 'Karlsson': 1, 'Hirvonen': 0, 'Frost': 1, 'Rouse': 1, 'Turkula': 0, 'Kent': 1, 'Somerton': 1, 'Windelov': 1, 'Molson': 1, 'Artagaveytia': 1, 'Stanley': 1, 'Yousseff': 1, 'Eustis': 0, 'Shellard': 1, 'Svensson': 2, 'Canavan': 1, \"O'Sullivan\": 1, 'Laitinen': 1, 'Maioni': 0, 'Quick': 0, 'Bradley': 0, 'Lang': 0, 'Daly': 0, 'McGough': 0, 'Rothschild': 0, 'Coleff': 2, 'Walker': 1, 'Lemore': 0, 'Ryan': 1, 'Angle': 0, 'Pavlovic': 1, 'Perreault': 0, 'Vovk': 1, 'Lahoud': 1, 'Kassem': 1, 'Farrell': 1, 'Ridsdale': 0, 'Farthing': 1, 'Salonen': 1, 'Hocking': 1, 'Toufik': 1, 'Butt': 1, 'LeRoy': 0, 'Risien': 1, 'Frolicher': 0, 'Crosby': 1, 'Beane': 0, 'Douglas': 1, 'Nicholson': 1, 'Padro y Manent': 0, 'Thayer': 1, 'Sharp': 1, 'Leeni': 0, 'Ohman': 0, 'Wright': 1, 'Duff Gordon': 0, 'Robbins': 1, 'de Messemaeker': 0, 'Morrow': 1, 'Sivic': 1, 'Norman': 1, 'Simmons': 1, 'Meanwell': 1, 'Stoytcheff': 1, 'Doharr': 1, 'Jonsson': 0, 'Appleton': 0, 'Rush': 1, 'Patchett': 1, 'Garside': 0, 'Caram': 1, 'Christy': 0, 'Downton': 1, 'Ross': 1, 'Paulner': 1, 'Jarvis': 1, 'Frolicher-Stehli': 0, 'Gilinski': 1, 'Murdlin': 1, 'Rintamaki': 1, 'Stephenson': 0, 'Elsbury': 1, 'Chapman': 2, 'Leitch': 0, 'Slabenoff': 1, 'Harrington': 1, 'Torber': 1, 'Homer': 0, 'Lindell': 1, 'Karaic': 1, 'Daniel': 0, 'Shutes': 0, 'Jardin': 1, 'Horgan': 1, 'Brocklebank': 1, 'Herman': 0, 'Gavey': 1, 'Yasbeck': 1, 'Kimball': 0, 'Hansen': 3, 'Bowen': 1, 'Sutton': 1, 'Kirkland': 1, 'Longley': 0, 'Bostandyeff': 1, \"O'Connell\": 1, 'Barkworth': 0, 'Lundahl': 1, 'Stahelin-Maeglin': 0, 'Parr': 1, 'Davis': 0, 'Leinonen': 1, 'Jensen': 3, 'Sagesser': 0, 'Foo': 0, 'Cor': 1, 'Simonius-Blumer': 0, 'Willey': 1, 'Mitkoff': 1, 'Kalvik': 1, \"O'Leary\": 0, 'Hegarty': 1, 'Radeff': 1, 'Eitemiller': 1, 'Badt': 1, 'Colley': 1, 'Lindqvist': 0, 'Butler': 1, 'Rommetvedt': 1, 'Cook': 1, 'Taylor': 0, 'Davidson': 1, 'Mitchell': 1, 'Wilhelms': 0, 'Watson': 1, 'Edvardsson': 1, 'Sawyer': 1, 'Turja': 0, 'Cardeza': 0, 'Peters': 1, 'Hassab': 0, 'Olsvigen': 1, 'Dakic': 1, 'Fischer': 1, 'Madill': 0, 'Dick': 0, 'Karun': 0, 'Lam': 1, 'Saad': 2, 'Weir': 1, 'Mullens': 0, 'Humblen': 1, 'Astor': 0, 'Silverthorne': 0, 'Gallagher': 1, 'Calderhead': 0, 'Cleaver': 0, 'Mayne': 0, 'Klaber': 1, 'Greenberg': 1, 'Soholt': 1, 'Endres': 0, 'Troutt': 0, 'McEvoy': 1, 'Gillespie': 1, 'Hodges': 1, 'Chambers': 0, 'Mannion': 0, 'Bryhl': 1, 'Ilmakangas': 1, 'Hassan': 1, 'Knight': 1, 'Berriman': 1, 'Troupiansky': 1, 'Lesurer': 0, 'Ivanoff': 1, 'Nankoff': 1, 'Hawksford': 0, 'Cavendish': 1, 'McNamee': 1, 'Stranden': 0, 'Sinkkonen': 0, 'Marvin': 1, 'Connaghton': 1, 'Wells': 0, 'Moor': 0, 'Vande Velde': 1, 'Jonkoff': 1, 'Carlsson': 2, 'Bailey': 1, 'Theobald': 1, 'Rothes': 0, 'Garfirth': 1, 'Nirva': 1, 'Barah': 0, 'Eklund': 1, 'Hogeboom': 0, 'Brewe': 1, 'Mangan': 1, 'Gronnestad': 1, 'Lievens': 1, 'Mack': 1, 'Myhrman': 1, 'Tobin': 1, 'Emanuel': 0, 'Kilgannon': 1, 'Robert': 0, 'Ayoub': 0, 'Long': 1, 'Johnston': 2, 'Harmer': 1, 'Sjoblom': 0, 'Guggenheim': 1, 'Gaskell': 1, 'Dantcheff': 1, 'Otter': 1, 'Leader': 0, 'Osman': 0, 'Ibrahim Shawah': 1, 'Ponesell': 1, 'Thomas': 0, 'Hedman': 0, 'Pettersson': 1, 'Alexander': 1, 'Lester': 1, 'Slemen': 1, 'Tomlin': 1, 'Fry': 1, 'Heininen': 1, 'Mallet': 1, 'Holm': 1, 'Lulic': 0, 'Reuchlin': 1, 'McCormack': 0, 'Stone': 0, 'Augustsson': 1, 'Allum': 1, 'Compton': 0, 'Pasic': 1, 'Sirota': 1, 'Chip': 0, 'Marechal': 0, 'Alhomaki': 1, 'Mudd': 1, 'Serepeca': 0, 'Lemberopolous': 1, 'Culumovic': 1, 'Abbing': 1, 'Markoff': 1, 'Lines': 0, 'Aks': 0, 'Razi': 1, 'Giles': 1, 'Swift': 0, 'Gill': 1, 'Bystrom': 0, 'Duran y More': 0, 'Roebling': 1, 'van Melkebeke': 1, 'Balkic': 1, 'Vander Cruyssen': 1, 'Najib': 0, 'Laleff': 1, 'Potter': 0, 'Shelley': 0, 'Markun': 1, 'Dahlberg': 1, 'Banfield': 1, 'Sutehall': 1, 'Montvila': 1, 'Behr': 0, 'Dooley': 1}\n"
     ]
    }
   ],
   "source": [
    "num_passenger = len(train_clean)\n",
    "surname_one_lived = [0]*num_passenger\n",
    "num_sur_died = [0]*len(surname_unique)\n",
    "\n",
    "surname_dic = dict(zip(surname_unique, num_sur_died))\n",
    "# print(surname_dic)\n",
    "\n",
    "for index, row in train_clean.iterrows():\n",
    "    if row['Survived'] == 0:\n",
    "        surname_dic[row['Surname']] += 1\n",
    "\n",
    "print(surname_dic)\n"
   ]
  },
  {
   "cell_type": "code",
   "execution_count": 99,
   "metadata": {
    "ExecuteTime": {
     "end_time": "2022-12-15T12:50:20.721688Z",
     "start_time": "2022-12-15T12:50:20.712862Z"
    },
    "colab": {
     "base_uri": "https://localhost:8080/"
    },
    "deletable": false,
    "editable": false,
    "executionInfo": {
     "elapsed": 61,
     "status": "ok",
     "timestamp": 1648016040738,
     "user": {
      "displayName": "Fernando CHEN",
      "photoUrl": "https://lh3.googleusercontent.com/a/default-user=s64",
      "userId": "06486171134930786741"
     },
     "user_tz": -480
    },
    "id": "pfUJ2RpyT3sc",
    "outputId": "1fda8a6f-de9c-47d4-9858-d1cfc6d734c4",
    "run_control": {
     "frozen": true
    }
   },
   "outputs": [
    {
     "data": {
      "text/plain": [
       "319"
      ]
     },
     "execution_count": 99,
     "metadata": {},
     "output_type": "execute_result"
    }
   ],
   "source": [
    "t = list(surname_dic.values())\n",
    "surname_all_died = [surname_unique[i] for i in range(len(t)) if t[i] == surname_value_counts[i]]\n",
    "len(surname_all_died)"
   ]
  },
  {
   "cell_type": "code",
   "execution_count": null,
   "metadata": {
    "ExecuteTime": {
     "end_time": "2022-12-15T03:03:02.966150Z",
     "start_time": "2022-12-15T03:03:02.376Z"
    },
    "colab": {
     "base_uri": "https://localhost:8080/"
    },
    "deletable": false,
    "editable": false,
    "executionInfo": {
     "elapsed": 52,
     "status": "ok",
     "timestamp": 1648016040738,
     "user": {
      "displayName": "Fernando CHEN",
      "photoUrl": "https://lh3.googleusercontent.com/a/default-user=s64",
      "userId": "06486171134930786741"
     },
     "user_tz": -480
    },
    "id": "yGIUQ_51at7s",
    "outputId": "f1bb0771-7d17-4cf7-e5b9-3b709706bf6a",
    "run_control": {
     "frozen": true
    }
   },
   "outputs": [],
   "source": [
    "## Seems not working\n",
    "# lalala = train_clean.copy()\n",
    "# lalala['SurnameAllDied'] = 1 if lalala['Surname'] in surname_all_died else 0\n",
    "# lalala['SurnameAllDied'] = np.where(lalala['Surname'] in surname_all_died, 1, 0)\n",
    "# lalala['SurnameAllDied']\n",
    "# df['color'] = np.where(df['Set']=='Z', 'green', 'red')\n",
    "\n",
    "i = 0\n",
    "train_clean['SurnameAllDied'] = 0\n",
    "for row in train_clean['Surname']:\n",
    "    if row in surname_all_died:\n",
    "        train_clean['SurnameAllDied'][i] = 1\n",
    "    i += 1\n",
    "\n",
    "# train_clean.SurnameAllDied[:10]"
   ]
  },
  {
   "cell_type": "code",
   "execution_count": null,
   "metadata": {
    "ExecuteTime": {
     "end_time": "2022-12-15T03:03:02.966865Z",
     "start_time": "2022-12-15T03:03:02.378Z"
    },
    "colab": {
     "base_uri": "https://localhost:8080/"
    },
    "deletable": false,
    "editable": false,
    "executionInfo": {
     "elapsed": 45,
     "status": "ok",
     "timestamp": 1648016040739,
     "user": {
      "displayName": "Fernando CHEN",
      "photoUrl": "https://lh3.googleusercontent.com/a/default-user=s64",
      "userId": "06486171134930786741"
     },
     "user_tz": -480
    },
    "id": "VijweTrgN0V2",
    "outputId": "0225d802-c05a-4631-bc1c-fed6d9e72443",
    "run_control": {
     "frozen": true
    }
   },
   "outputs": [],
   "source": [
    "corr = train_clean.corr()\n",
    "corr['Survived'].sort_values(ascending=False)\n",
    "\n",
    "# It shows that SurnameAllDied column has a really strong correlation with label"
   ]
  },
  {
   "cell_type": "code",
   "execution_count": null,
   "metadata": {
    "ExecuteTime": {
     "end_time": "2022-12-15T03:03:02.967928Z",
     "start_time": "2022-12-15T03:03:02.380Z"
    },
    "deletable": false,
    "editable": false,
    "id": "-ivuD86ddCwK",
    "run_control": {
     "frozen": true
    }
   },
   "outputs": [],
   "source": [
    "surname_dic = None\n",
    "surname_all_died = None\n",
    "surname_count = None\n",
    "\n",
    "def create_surname(df):\n",
    "    df['Surname'] = df['Name'].map(lambda x: x.split(',', 1)[0])\n",
    "    return df\n",
    "\n",
    "def create_surname_all_died(df):\n",
    "    global surname_dic, surname_all_died, surname_count\n",
    "\n",
    "    # Create Surname Columns\n",
    "    # df['Surname'] = df['Name'].map(lambda x: x.split(',', 1)[0])\n",
    "    df = create_surname(df)\n",
    "    surname_unique = df.Surname.unique()\n",
    "\n",
    "    # num_passenger = len(df)\n",
    "    # surname_one_lived = [0]*num_passenger\n",
    "    l = [0]*len(surname_unique)\n",
    "\n",
    "    surname_dic = dict(zip(surname_unique, l))\n",
    "\n",
    "    surname_count = dict(zip(surname_unique, l))\n",
    "    for index, row in df.iterrows():\n",
    "        surname_count[row[\"Surname\"]] += 1\n",
    "        if row['Survived'] == 0:\n",
    "            surname_dic[row['Surname']] += 1\n",
    "    print(surname_count)\n",
    "    \n",
    "    t = list(surname_dic.values())\n",
    "    surname_all_died = [surname_unique[i] for i in range(len(t)) if t[i] > 2]\n",
    "    # print(surname_all_died)\n",
    "\n",
    "    i = 0\n",
    "    df['SurnameAllDied'] = 0\n",
    "    for row in df['Surname']:\n",
    "        if row in surname_all_died:\n",
    "            df['SurnameAllDied'][i] = 1\n",
    "        i += 1\n",
    "\n",
    "    return df\n"
   ]
  },
  {
   "cell_type": "code",
   "execution_count": null,
   "metadata": {
    "ExecuteTime": {
     "end_time": "2022-12-15T03:03:02.968782Z",
     "start_time": "2022-12-15T03:03:02.382Z"
    },
    "deletable": false,
    "editable": false,
    "id": "fW3BghoIreww",
    "run_control": {
     "frozen": true
    }
   },
   "outputs": [],
   "source": [
    "def create_survived(df):\n",
    "    global surname_dic, surname_all_died, surname_count\n",
    "    df = create_surname(df)     # Create df['Surname']\n",
    "    # df['Survived'] = 0\n",
    "    df['SurnameAllDied'] = 0\n",
    "    for s in df.Surname:\n",
    "        if s not in surname_count or surname_count[s] == 1:\n",
    "            df['SurnameAllDied'] = 0\n",
    "        elif surname_dic[s] >= 2:\n",
    "            df['SurnameAllDied'] = 1\n",
    "\n",
    "    print(df[:10])\n",
    "    return df"
   ]
  },
  {
   "cell_type": "code",
   "execution_count": 100,
   "metadata": {
    "ExecuteTime": {
     "end_time": "2022-12-15T12:52:04.980382Z",
     "start_time": "2022-12-15T12:52:04.969240Z"
    },
    "deletable": false,
    "editable": false,
    "run_control": {
     "frozen": true
    }
   },
   "outputs": [
    {
     "name": "stdout",
     "output_type": "stream",
     "text": [
      "<class 'pandas.core.frame.DataFrame'>\n",
      "RangeIndex: 891 entries, 0 to 890\n",
      "Data columns (total 16 columns):\n",
      " #   Column            Non-Null Count  Dtype  \n",
      "---  ------            --------------  -----  \n",
      " 0   Survived          891 non-null    float64\n",
      " 1   Pclass            891 non-null    float64\n",
      " 2   Age               891 non-null    float64\n",
      " 3   SibSp             891 non-null    float64\n",
      " 4   Parch             891 non-null    float64\n",
      " 5   Fare              891 non-null    float64\n",
      " 6   Name              891 non-null    object \n",
      " 7   Sex               891 non-null    object \n",
      " 8   Ticket            891 non-null    object \n",
      " 9   Cabin             891 non-null    object \n",
      " 10  Embarked          891 non-null    object \n",
      " 11  AgeBucket         891 non-null    float64\n",
      " 12  RelativesOnboard  891 non-null    float64\n",
      " 13  Title             891 non-null    object \n",
      " 14  Deck              891 non-null    object \n",
      " 15  Surname           891 non-null    object \n",
      "dtypes: float64(8), object(8)\n",
      "memory usage: 111.5+ KB\n"
     ]
    }
   ],
   "source": [
    "train_clean.info()"
   ]
  },
  {
   "cell_type": "code",
   "execution_count": null,
   "metadata": {
    "ExecuteTime": {
     "end_time": "2022-12-20T13:53:50.780161Z",
     "start_time": "2022-12-20T13:53:48.283Z"
    }
   },
   "outputs": [],
   "source": [
    "'''\n",
    "Before:\n",
    "Survived    1.000000\n",
    "Fare        0.246641\n",
    "Parch       0.078311\n",
    "SibSp      -0.047602\n",
    "Age        -0.048588\n",
    "Pclass     -0.321750\n",
    "\n",
    "After:\n",
    "Survived            1.000000   # positive\n",
    "Fare                0.246641\n",
    "Parch               0.078311\n",
    "RelativesOnboard    0.003565   # not useful\n",
    "AgeBucket          -0.012755   # worse than Age\n",
    "SibSp              -0.047602\n",
    "Age                -0.048588\n",
    "Pclass             -0.321750   # negative\n",
    "'''\n",
    "corr = train_clean.corr()\n",
    "\n",
    "corr['Survived'].sort_values(ascending=False)"
   ]
  },
  {
   "cell_type": "markdown",
   "metadata": {
    "id": "kA0EIJuvr7XB"
   },
   "source": [
    "# Piplelines"
   ]
  },
  {
   "cell_type": "markdown",
   "metadata": {
    "heading_collapsed": true,
    "id": "kpQKWqdfm_zX"
   },
   "source": [
    "## Columns Identifying"
   ]
  },
  {
   "cell_type": "code",
   "execution_count": null,
   "metadata": {
    "ExecuteTime": {
     "end_time": "2022-12-20T13:53:50.780724Z",
     "start_time": "2022-12-20T13:53:48.286Z"
    },
    "hidden": true
   },
   "outputs": [],
   "source": [
    "train_clean.dtypes"
   ]
  },
  {
   "cell_type": "code",
   "execution_count": null,
   "metadata": {
    "ExecuteTime": {
     "end_time": "2022-12-20T13:53:50.781291Z",
     "start_time": "2022-12-20T13:53:48.287Z"
    },
    "colab": {
     "base_uri": "https://localhost:8080/"
    },
    "executionInfo": {
     "elapsed": 28,
     "status": "ok",
     "timestamp": 1648016040740,
     "user": {
      "displayName": "Fernando CHEN",
      "photoUrl": "https://lh3.googleusercontent.com/a/default-user=s64",
      "userId": "06486171134930786741"
     },
     "user_tz": -480
    },
    "hidden": true,
    "id": "qZ9IzM1VsD6x",
    "outputId": "13a73585-c5d8-4e6e-c4ce-c48790e440b3"
   },
   "outputs": [],
   "source": [
    "num_cols = [col for col in train_clean.columns if train_clean[col].dtype in ['int64', 'float64']]\n",
    "cat_cols = [col for col in train_clean.columns if train_clean[col].dtype in ['object']]\n",
    "\n",
    "print('num_cols:', num_cols)\n",
    "print('cat_cols:', cat_cols)"
   ]
  },
  {
   "cell_type": "code",
   "execution_count": null,
   "metadata": {
    "ExecuteTime": {
     "end_time": "2022-12-20T13:53:50.781864Z",
     "start_time": "2022-12-20T13:53:48.289Z"
    },
    "colab": {
     "base_uri": "https://localhost:8080/"
    },
    "executionInfo": {
     "elapsed": 28,
     "status": "ok",
     "timestamp": 1648016040741,
     "user": {
      "displayName": "Fernando CHEN",
      "photoUrl": "https://lh3.googleusercontent.com/a/default-user=s64",
      "userId": "06486171134930786741"
     },
     "user_tz": -480
    },
    "hidden": true,
    "id": "ArNk3NKSswNZ",
    "outputId": "0b298ea0-ab07-44c3-ecad-ff7a0844302a"
   },
   "outputs": [],
   "source": [
    "card = [train_clean[col].nunique() for col in cat_cols]\n",
    "for a, b in zip(cat_cols, card):\n",
    "    print(a, b)\n",
    "\n",
    "low_card_cols = [col for col in cat_cols if train_clean[col].nunique() <= 10]\n",
    "high_card_cols = [col for col in cat_cols if train_clean[col].nunique() > 10]\n",
    "print('low_card_cols:', low_card_cols)\n",
    "print('high_card_cols:', high_card_cols)"
   ]
  },
  {
   "cell_type": "markdown",
   "metadata": {
    "id": "704ca715"
   },
   "source": [
    "## High Cardinality Column Trans Class"
   ]
  },
  {
   "cell_type": "code",
   "execution_count": null,
   "metadata": {
    "ExecuteTime": {
     "end_time": "2022-12-20T13:53:50.782439Z",
     "start_time": "2022-12-20T13:53:48.291Z"
    },
    "id": "e65a8e81"
   },
   "outputs": [],
   "source": [
    "# High Cardinality Transformer: perform one-hot transformer for high-cardinality\n",
    "# columns while avoiding generating too much dummpy features. It will only one-hot\n",
    "# the classes with high proportion. A threshold can be set.\n",
    "\n",
    "from collections import Counter\n",
    "\n",
    "def cumulatively_categorise(column,threshold=0.9,return_categories_list=True):\n",
    "    #Find the threshold value using the percentage and number of instances in the column\n",
    "    threshold_value=int(threshold*len(column))\n",
    "    #Initialise an empty list for our new minimised categories\n",
    "    categories_list=[]\n",
    "    #Initialise a variable to calculate the sum of frequencies\n",
    "    s=0\n",
    "    #Create a counter dictionary of the form unique_value: frequency\n",
    "    counts=Counter(column)\n",
    "\n",
    "    #Loop through the category name and its corresponding frequency after sorting the categories by descending order of frequency\n",
    "    for i,j in counts.most_common():\n",
    "        #Add the frequency to the global sum\n",
    "        s+=dict(counts)[i]\n",
    "        #Append the category name to the list\n",
    "        categories_list.append(i)\n",
    "        #Check if the global sum has reached the threshold value, if so break the loop\n",
    "        if s>=threshold_value:\n",
    "            break\n",
    "    #Append the category Other to the list\n",
    "    categories_list.append('Other')\n",
    "\n",
    "    #Replace all instances not in our new categories by Other  \n",
    "    new_column=column.apply(lambda x: x if x in categories_list else 'Other')\n",
    "\n",
    "    #Return transformed column and unique values if return_categories=True\n",
    "    if(return_categories_list):\n",
    "        return new_column,categories_list\n",
    "    #Return only the transformed column if return_categories=False\n",
    "    else:\n",
    "        return new_column"
   ]
  },
  {
   "cell_type": "code",
   "execution_count": null,
   "metadata": {
    "ExecuteTime": {
     "end_time": "2022-12-20T13:53:50.782984Z",
     "start_time": "2022-12-20T13:53:48.293Z"
    },
    "code_folding": [],
    "id": "6820cc6e"
   },
   "outputs": [],
   "source": [
    "class HighCardAggregation(BaseEstimator, TransformerMixin):\n",
    "    def __init__(self, cols, transform_type='cumulatively_categorise'):\n",
    "        self.cols = cols\n",
    "        \n",
    "        self.transform_type = transform_type\n",
    "        if self.transform_type == 'cumulatively_categorise':\n",
    "            self.transform_algo = self.cumulatively_categorise\n",
    "\n",
    "    def fit(self, X, y = None):\n",
    "        return self\n",
    "\n",
    "    def cumulatively_categorise(self, column,threshold=0.9,return_categories_list=True):\n",
    "        #Find the threshold value using the percentage and number of instances in the column\n",
    "        threshold_value=int(threshold*len(column))\n",
    "        #Initialise an empty list for our new minimised categories\n",
    "        categories_list=[]\n",
    "        #Initialise a variable to calculate the sum of frequencies\n",
    "        s=0\n",
    "        #Create a counter dictionary of the form unique_value: frequency\n",
    "        counts=Counter(column)\n",
    "\n",
    "        #Loop through the category name and its corresponding frequency after sorting the categories by descending order of frequency\n",
    "        for i,j in counts.most_common():\n",
    "            #Add the frequency to the global sum\n",
    "            s+=dict(counts)[i]\n",
    "            #Append the category name to the list\n",
    "            categories_list.append(i)\n",
    "            #Check if the global sum has reached the threshold value, if so break the loop\n",
    "            if s>=threshold_value:\n",
    "                break\n",
    "        #Append the category Other to the list\n",
    "        categories_list.append('Other')\n",
    "\n",
    "        #Replace all instances not in our new categories by Other  \n",
    "        new_column=column.apply(lambda x: x if x in categories_list else 'Other')\n",
    "\n",
    "        #Return transformed column and unique values if return_categories=True\n",
    "        if(return_categories_list):\n",
    "            return new_column,categories_list\n",
    "        #Return only the transformed column if return_categories=False\n",
    "        else:\n",
    "            return new_column\n",
    "    \n",
    "    def transform(self, X, y = None):\n",
    "        X_df = pd.DataFrame(X, columns=self.cols)\n",
    "        X_ = X_df.to_numpy()\n",
    "\n",
    "        for col in self.cols:\n",
    "            # transformed_columns is a pandas dataframe\n",
    "            transformed_column, _ = self.transform_algo(column=X_df[col], threshold=0.9)            \n",
    "            # concat transformed_column to X\n",
    "            X_ = np.c_[X_, transformed_column.to_numpy()]\n",
    "        \n",
    "        # numpy array\n",
    "        # delete original untransformed columns, only keep transformed columns\n",
    "        X_ = np.delete(X_, [i for i in range(len(self.cols))], 1)\n",
    "        return X_"
   ]
  },
  {
   "cell_type": "markdown",
   "metadata": {
    "id": "_qwgugwF0rx_"
   },
   "source": [
    "## AddDelFeature Class"
   ]
  },
  {
   "cell_type": "code",
   "execution_count": null,
   "metadata": {
    "ExecuteTime": {
     "end_time": "2022-12-20T13:53:50.783477Z",
     "start_time": "2022-12-20T13:53:48.296Z"
    },
    "id": "54Oye5SAgRK-"
   },
   "outputs": [],
   "source": [
    "class AddDelFeatureBase(BaseEstimator, TransformerMixin):\n",
    "    def __init__(self, all_cols, num_cols, cat_cols):\n",
    "        self.all_cols = all_cols\n",
    "        self.num_cols = num_cols\n",
    "        self.cat_cols = cat_cols\n",
    "\n",
    "    def fit(self, X, y=None):\n",
    "        return self\n",
    "    \n",
    "    def drop(self, X_df, cols):\n",
    "        X_df.drop(cols, axis=1, inplace=True)\n",
    "        \n",
    "    def dataFrameAstype(self, X_df):\n",
    "        X_df[self.num_cols].astype('float64')\n",
    "    \n",
    "    def transform(self, X, y=None):\n",
    "        raise NotImplementedError(\"Please rewrite transform method\")"
   ]
  },
  {
   "cell_type": "code",
   "execution_count": null,
   "metadata": {
    "ExecuteTime": {
     "end_time": "2022-12-20T13:53:50.784006Z",
     "start_time": "2022-12-20T13:53:48.298Z"
    }
   },
   "outputs": [],
   "source": [
    "class AddDelFeature(AddDelFeatureBase):\n",
    "    def __init__(self, all_cols, num_cols, cat_cols, del_cols):\n",
    "        AddDelFeatureBase.__init__(self, all_cols, num_cols, cat_cols)\n",
    "        self.del_cols = del_cols\n",
    "\n",
    "    def transform(self, X):\n",
    "        def extract(name, titles):\n",
    "            for t in titles:\n",
    "                if t in name:\n",
    "                    return t\n",
    "            return 'Unknown'\n",
    "        \n",
    "        def AgeBucket():\n",
    "            X_df['AgeBucket'] = X_df['Age'] // 15 * 15\n",
    "        \n",
    "        def RelativesOnboard():\n",
    "            X_df['RelativesOnboard'] = X_df.SibSp + X_df.Parch\n",
    "        \n",
    "        def SurviveSurname():\n",
    "            # Both train and test data have Survived column, but test data contains all 0s\n",
    "            if X_df.Survived.sum() > 0:     # means it is test data\n",
    "                X_df = create_surname_all_died(X_df)\n",
    "            else:    # for train data\n",
    "                X_df = create_survived(X_df)\n",
    "        \n",
    "        def Title():\n",
    "            title_list=[\n",
    "                'Mrs', 'Mr', 'Master', 'Miss', 'Major', 'Rev',\n",
    "                'Dr', 'Ms', 'Mlle','Col', 'Capt', 'Mme', 'Countess',\n",
    "                'Don', 'Jonkheer'\n",
    "            ]\n",
    "            X_df['Title'] = X_df['Name'].map(lambda name: extract(name, title_list))\n",
    "        \n",
    "        def Deck():\n",
    "            cabin_list = ['A', 'B', 'C', 'D', 'E', 'F', 'T', 'G', 'Unknown']\n",
    "            X_df['Deck'] = X_df['Cabin'].map(lambda x: extract(x, cabin_list))\n",
    "        \n",
    "        def DropFeatures():\n",
    "            self.drop(X_df, self.del_cols)\n",
    "\n",
    "        self.all_cols = self.num_cols + self.cat_cols\n",
    "        # self.all_cols order should be consistent with numpy X\n",
    "        X_df = pd.DataFrame(X, columns=self.all_cols)\n",
    "        \n",
    "        self.dataFrameAstype(X_df)\n",
    "        \n",
    "        \n",
    "        AgeBucket()\n",
    "        RelativesOnboard()\n",
    "        # SurviveSurname()\n",
    "        Title()\n",
    "        Deck()\n",
    "        \n",
    "        DropFeatures()\n",
    "\n",
    "#         return X_df\n",
    "        return X_df.to_numpy()        "
   ]
  },
  {
   "cell_type": "markdown",
   "metadata": {
    "id": "lP4x9miH03VY"
   },
   "source": [
    "## Full Pipeline Class"
   ]
  },
  {
   "cell_type": "code",
   "execution_count": null,
   "metadata": {
    "ExecuteTime": {
     "end_time": "2022-12-20T13:53:50.784543Z",
     "start_time": "2022-12-20T13:53:48.300Z"
    }
   },
   "outputs": [],
   "source": [
    "class Debug(BaseEstimator, TransformerMixin):\n",
    "    def __init__(self, debugMsg):\n",
    "        self.debugMsg = debugMsg\n",
    "\n",
    "    def fit(self, X, y=None):\n",
    "        return self\n",
    "    \n",
    "    def transform(self, X, y=None):\n",
    "        print(\"------------------------\")\n",
    "        print(f\"[Debug: {self.debugMsg}] X:\\n\", X)\n",
    "        return X"
   ]
  },
  {
   "cell_type": "code",
   "execution_count": null,
   "metadata": {
    "ExecuteTime": {
     "end_time": "2022-12-20T13:53:50.785199Z",
     "start_time": "2022-12-20T13:53:48.302Z"
    },
    "id": "QKDHShs5OVwO"
   },
   "outputs": [],
   "source": [
    "class FullPipeline:\n",
    "    def __init__(\n",
    "        self, \n",
    "        add_feat_pipe, \n",
    "        num_cols, \n",
    "        cat_cols, \n",
    "        feat_num_cols, \n",
    "        feat_cat_cols, \n",
    "        low_card_cols, \n",
    "        high_card_cols,\n",
    "    ):\n",
    "\n",
    "        self.num_cols = num_cols    # contains label\n",
    "        self.cat_cols = cat_cols\n",
    "        self.feat_num_cols = feat_num_cols\n",
    "        self.feat_cat_cols = feat_cat_cols\n",
    "        self.low_card_cols = low_card_cols\n",
    "        self.high_card_cols = high_card_cols\n",
    "\n",
    "        self.high_card_agg = HighCardAggregation(self.high_card_cols)\n",
    "        \n",
    "        # extra custom pipeline\n",
    "        self.add_feat = add_feat_pipe\n",
    "\n",
    "        # TODO: add self.data_parser\n",
    "        # self.data_parser = None\n",
    "\n",
    "        self.imputer = ColumnTransformer([\n",
    "            ('imputer_num', SimpleImputer(strategy='median'), self.num_cols),\n",
    "            ('imputer_cat', SimpleImputer(strategy='most_frequent'), self.cat_cols)\n",
    "        ])\n",
    "\n",
    "        self.clean_pipe = Pipeline([\n",
    "            ('imputer', self.imputer)\n",
    "            # ('date_parser', self.data_parser)\n",
    "        ])\n",
    "        \n",
    "        # Low cardinality columns\n",
    "        self.low_card_pipe = Pipeline(steps=[\n",
    "#             ('debug', Debug(\"low_card_pipe\")),\n",
    "            ('onehot', OneHotEncoder(handle_unknown='ignore', sparse=False))\n",
    "        ])\n",
    "\n",
    "        # High cardinality columns\n",
    "        self.high_card_pipe = Pipeline(steps=[\n",
    "#             ('debug_before', Debug(\"high_card_pipe, before\")),\n",
    "            ('aggregation', self.high_card_agg),\n",
    "#             ('debug_agg', Debug(\"high_card_pipe, aggregated\")),            \n",
    "#             ('ordinal', OrdinalEncoder(handle_unknown='ignore')),   # acc: 0.8339\n",
    "            ('ordinal', OrdinalEncoder(handle_unknown='use_encoded_value', unknown_value=-1)),\n",
    "            # ('onehot', OneHotEncoder(handle_unknown='ignore', sparse=False))  # acc: 0.82\n",
    "        ])\n",
    "\n",
    "        # Categorical transformers\n",
    "        self.cat_trans = ColumnTransformer(transformers=[\n",
    "            ('low_card_pipeline', self.low_card_pipe, self.low_card_cols),\n",
    "            ('high_card_pipeline', self.high_card_pipe, self.high_card_cols)\n",
    "        ])\n",
    "\n",
    "        # Numerical transformer\n",
    "        self.num_trans = Pipeline(steps=[\n",
    "            ('std_scaler', StandardScaler())\n",
    "        ])\n",
    "\n",
    "        # Numerical & Categorical column transformer\n",
    "        self.num_cat_trans = ColumnTransformer(transformers=[\n",
    "            ('num', self.num_trans, self.feat_num_cols),\n",
    "            ('cat', self.cat_trans, self.feat_cat_cols)\n",
    "        ])\n",
    "        # Adding new features, deleting unwanted features....\n",
    "        self.feat_engg = Pipeline([\n",
    "            ('add_feat', self.add_feat),\n",
    "        ])\n",
    "\n",
    "        self.preprocessor = Pipeline([\n",
    "            ('clean', self.clean_pipe),\n",
    "            ('feature_engg', self.feat_engg),\n",
    "            ('num_cat', self.num_cat_trans)\n",
    "        ])"
   ]
  },
  {
   "cell_type": "markdown",
   "metadata": {
    "id": "cprUXf37zzWp"
   },
   "source": [
    "# Preprocessing"
   ]
  },
  {
   "cell_type": "markdown",
   "metadata": {
    "id": "AYBKTDMU08tz"
   },
   "source": [
    "## Create Pipeline Function"
   ]
  },
  {
   "cell_type": "code",
   "execution_count": null,
   "metadata": {
    "ExecuteTime": {
     "end_time": "2022-12-20T13:53:50.785776Z",
     "start_time": "2022-12-20T13:53:48.304Z"
    },
    "colab": {
     "base_uri": "https://localhost:8080/"
    },
    "executionInfo": {
     "elapsed": 21,
     "status": "ok",
     "timestamp": 1648016041379,
     "user": {
      "displayName": "Fernando CHEN",
      "photoUrl": "https://lh3.googleusercontent.com/a/default-user=s64",
      "userId": "06486171134930786741"
     },
     "user_tz": -480
    },
    "id": "xWLUXs4GOtU_",
    "outputId": "b1f1bbbe-a7f8-4f64-bb5d-2954e850d8cf"
   },
   "outputs": [],
   "source": [
    "# from utils import pipeline\n",
    "\n",
    "# custom pipeline for every question\n",
    "def create_pipeline():\n",
    "    # columns before preprocessing\n",
    "    all_cols = [\n",
    "        'Pclass', 'Name', 'Sex', 'Age', \n",
    "        'SibSp', 'Parch', 'Ticket', 'Fare', 'Cabin', 'Embarked'\n",
    "    ]\n",
    "    num_cols = ['Pclass', 'Age', 'SibSp', 'Parch', 'Fare']\n",
    "    cat_cols = ['Name', 'Sex', 'Ticket', 'Cabin', 'Embarked']\n",
    "    \n",
    "    # columns to be deleted in AddDelFeature pipeline\n",
    "    del_cols = ['Age', 'SibSp', 'Parch', 'Name', 'Ticket', 'Cabin']\n",
    "\n",
    "    # feature columns after cleaning and feature enginnering,\n",
    "    # to be feed into numerical scaler and categorical encoder\n",
    "    feat_cols = ['Pclass', 'Fare', 'Sex', 'Embarked', \n",
    "                 'AgeBucket', 'RelativesOnboard',\n",
    "                 'Title', 'Deck'\n",
    "    ]\n",
    "    feat_num_cols = ['Pclass', 'Fare', 'AgeBucket', 'RelativesOnboard']\n",
    "    feat_cat_cols = ['Sex', 'Embarked', 'Title', 'Deck']\n",
    "    low_card_cols = ['Sex', 'Embarked']\n",
    "    high_card_cols = ['Title', 'Deck']\n",
    "\n",
    "    # Create full pipeline instance, can call \"full_pipeline.preprocessor.fit_transform()\"\n",
    "    full_pipeline = FullPipeline(\n",
    "        AddDelFeature(all_cols, num_cols, cat_cols, del_cols),\n",
    "        num_cols,\n",
    "        cat_cols,\n",
    "        feat_num_cols,\n",
    "        feat_cat_cols,\n",
    "        low_card_cols,\n",
    "        high_card_cols\n",
    "    )\n",
    "\n",
    "    return full_pipeline\n",
    "\n",
    "full_pipeline = create_pipeline()"
   ]
  },
  {
   "cell_type": "markdown",
   "metadata": {
    "id": "WVlUSfSo1M60"
   },
   "source": [
    "## X_train_preprocessed"
   ]
  },
  {
   "cell_type": "code",
   "execution_count": null,
   "metadata": {
    "ExecuteTime": {
     "end_time": "2022-12-20T13:53:50.786643Z",
     "start_time": "2022-12-20T13:53:48.306Z"
    },
    "colab": {
     "base_uri": "https://localhost:8080/"
    },
    "executionInfo": {
     "elapsed": 428,
     "status": "ok",
     "timestamp": 1648020853565,
     "user": {
      "displayName": "Fernando CHEN",
      "photoUrl": "https://lh3.googleusercontent.com/a/default-user=s64",
      "userId": "06486171134930786741"
     },
     "user_tz": -480
    },
    "id": "6TAoXzyKV9ix",
    "outputId": "b16a11fe-74eb-4669-ea71-79fe27ea8733"
   },
   "outputs": [],
   "source": [
    "# Preprocess raw X_train into \n",
    "X_train_preprocessed = full_pipeline.preprocessor.fit_transform(X_train)"
   ]
  },
  {
   "cell_type": "markdown",
   "metadata": {
    "id": "wK5OO5j6u39C"
   },
   "source": [
    "# Train"
   ]
  },
  {
   "cell_type": "markdown",
   "metadata": {
    "deletable": false,
    "editable": false,
    "heading_collapsed": true,
    "id": "gFUBu9VUvVaL",
    "run_control": {
     "frozen": true
    }
   },
   "source": [
    "## Random Forest"
   ]
  },
  {
   "cell_type": "code",
   "execution_count": 199,
   "metadata": {
    "ExecuteTime": {
     "end_time": "2022-12-18T14:42:42.575751Z",
     "start_time": "2022-12-18T14:42:41.714122Z"
    },
    "colab": {
     "base_uri": "https://localhost:8080/"
    },
    "deletable": false,
    "editable": false,
    "executionInfo": {
     "elapsed": 1818,
     "status": "ok",
     "timestamp": 1648016043189,
     "user": {
      "displayName": "Fernando CHEN",
      "photoUrl": "https://lh3.googleusercontent.com/a/default-user=s64",
      "userId": "06486171134930786741"
     },
     "user_tz": -480
    },
    "hidden": true,
    "id": "LBZ00Xuv3Kip",
    "outputId": "5953812a-94e6-4c71-f915-63a500ddccb5",
    "run_control": {
     "frozen": true
    }
   },
   "outputs": [
    {
     "data": {
      "text/plain": [
       "0.8006259780907667"
      ]
     },
     "execution_count": 199,
     "metadata": {},
     "output_type": "execute_result"
    }
   ],
   "source": [
    "from sklearn.model_selection import cross_val_score\n",
    "\n",
    "forest_clf = RandomForestClassifier(n_estimators=100, random_state=42)\n",
    "forest_scores = cross_val_score(forest_clf, X_train_preprocessed, y_train, cv=10)\n",
    "forest_scores.mean()"
   ]
  },
  {
   "cell_type": "markdown",
   "metadata": {
    "deletable": false,
    "editable": false,
    "hidden": true,
    "id": "0mx3LVX3PBcy",
    "run_control": {
     "frozen": true
    }
   },
   "source": [
    "### Grid Search"
   ]
  },
  {
   "cell_type": "code",
   "execution_count": 200,
   "metadata": {
    "ExecuteTime": {
     "end_time": "2022-12-18T14:42:53.976908Z",
     "start_time": "2022-12-18T14:42:42.577241Z"
    },
    "colab": {
     "base_uri": "https://localhost:8080/"
    },
    "deletable": false,
    "editable": false,
    "executionInfo": {
     "elapsed": 26581,
     "status": "ok",
     "timestamp": 1648016069767,
     "user": {
      "displayName": "Fernando CHEN",
      "photoUrl": "https://lh3.googleusercontent.com/a/default-user=s64",
      "userId": "06486171134930786741"
     },
     "user_tz": -480
    },
    "hidden": true,
    "id": "Hutpb7GTO-Lm",
    "outputId": "123af283-3557-4844-facf-d0c25f740659",
    "run_control": {
     "frozen": true
    }
   },
   "outputs": [
    {
     "data": {
      "text/plain": [
       "GridSearchCV(cv=5, estimator=RandomForestClassifier(random_state=42),\n",
       "             param_grid=[{'max_features': [2, 4, 6, 8],\n",
       "                          'n_estimators': [50, 100, 150]},\n",
       "                         {'bootstrap': [False], 'max_features': [2, 4, 6, 8],\n",
       "                          'n_estimators': [50, 100, 150]}],\n",
       "             return_train_score=True, scoring='neg_mean_squared_error')"
      ]
     },
     "execution_count": 200,
     "metadata": {},
     "output_type": "execute_result"
    }
   ],
   "source": [
    "from sklearn.model_selection import GridSearchCV\n",
    "\n",
    "param_grid = [\n",
    "    # try 12 (3×4) combinations of hyperparameters\n",
    "    {'n_estimators': [50, 100, 150], 'max_features': [2, 4, 6, 8]},\n",
    "    # then try 6 (2×3) combinations with bootstrap set as False\n",
    "    {'bootstrap': [False], 'n_estimators': [50, 100, 150], 'max_features': [2, 4, 6, 8]},\n",
    "  ]\n",
    "\n",
    "forest_clf = RandomForestClassifier(random_state=42)\n",
    "# train across 5 folds, that's a total of (12+6)*5=90 rounds of training \n",
    "grid_search = GridSearchCV(forest_clf, param_grid, cv=5,\n",
    "                           scoring='neg_mean_squared_error',\n",
    "                           return_train_score=True)\n",
    "grid_search.fit(X_train_preprocessed, y_train)"
   ]
  },
  {
   "cell_type": "code",
   "execution_count": 201,
   "metadata": {
    "ExecuteTime": {
     "end_time": "2022-12-18T14:42:53.981313Z",
     "start_time": "2022-12-18T14:42:53.978176Z"
    },
    "colab": {
     "base_uri": "https://localhost:8080/"
    },
    "deletable": false,
    "editable": false,
    "executionInfo": {
     "elapsed": 27,
     "status": "ok",
     "timestamp": 1648016069768,
     "user": {
      "displayName": "Fernando CHEN",
      "photoUrl": "https://lh3.googleusercontent.com/a/default-user=s64",
      "userId": "06486171134930786741"
     },
     "user_tz": -480
    },
    "hidden": true,
    "id": "iT7bzF4-QtZx",
    "outputId": "be554b25-ecfc-4fc4-8922-09bc96b1acc8",
    "run_control": {
     "frozen": true
    }
   },
   "outputs": [
    {
     "data": {
      "text/plain": [
       "{'max_features': 8, 'n_estimators': 150}"
      ]
     },
     "execution_count": 201,
     "metadata": {},
     "output_type": "execute_result"
    }
   ],
   "source": [
    "grid_search.best_params_"
   ]
  },
  {
   "cell_type": "code",
   "execution_count": 202,
   "metadata": {
    "ExecuteTime": {
     "end_time": "2022-12-18T14:42:53.987718Z",
     "start_time": "2022-12-18T14:42:53.983058Z"
    },
    "colab": {
     "base_uri": "https://localhost:8080/"
    },
    "deletable": false,
    "editable": false,
    "executionInfo": {
     "elapsed": 22,
     "status": "ok",
     "timestamp": 1648016069768,
     "user": {
      "displayName": "Fernando CHEN",
      "photoUrl": "https://lh3.googleusercontent.com/a/default-user=s64",
      "userId": "06486171134930786741"
     },
     "user_tz": -480
    },
    "hidden": true,
    "id": "1SVTfQ7LQwdd",
    "outputId": "161627df-b606-4cbb-bcae-94581fcd9add",
    "run_control": {
     "frozen": true
    }
   },
   "outputs": [
    {
     "data": {
      "text/plain": [
       "RandomForestClassifier(max_features=8, n_estimators=150, random_state=42)"
      ]
     },
     "execution_count": 202,
     "metadata": {},
     "output_type": "execute_result"
    }
   ],
   "source": [
    "grid_search.best_estimator_"
   ]
  },
  {
   "cell_type": "code",
   "execution_count": 203,
   "metadata": {
    "ExecuteTime": {
     "end_time": "2022-12-18T14:42:53.998178Z",
     "start_time": "2022-12-18T14:42:53.989689Z"
    },
    "colab": {
     "base_uri": "https://localhost:8080/"
    },
    "deletable": false,
    "editable": false,
    "executionInfo": {
     "elapsed": 14,
     "status": "ok",
     "timestamp": 1648016069769,
     "user": {
      "displayName": "Fernando CHEN",
      "photoUrl": "https://lh3.googleusercontent.com/a/default-user=s64",
      "userId": "06486171134930786741"
     },
     "user_tz": -480
    },
    "hidden": true,
    "id": "sK-CQNAnQz00",
    "outputId": "2e37cd69-709a-45db-b846-fcb8d9e74ba7",
    "run_control": {
     "frozen": true
    }
   },
   "outputs": [
    {
     "name": "stdout",
     "output_type": "stream",
     "text": [
      "0.4496625347459377 {'max_features': 2, 'n_estimators': 50}\n",
      "0.4543149223342436 {'max_features': 2, 'n_estimators': 100}\n",
      "0.44809367820793483 {'max_features': 2, 'n_estimators': 150}\n",
      "0.4418071285702741 {'max_features': 4, 'n_estimators': 50}\n",
      "0.45121502252556156 {'max_features': 4, 'n_estimators': 100}\n",
      "0.44178483478302283 {'max_features': 4, 'n_estimators': 150}\n",
      "0.4465303383324753 {'max_features': 6, 'n_estimators': 50}\n",
      "0.44495043807944445 {'max_features': 6, 'n_estimators': 100}\n",
      "0.44178483478302283 {'max_features': 6, 'n_estimators': 150}\n",
      "0.444972573265294 {'max_features': 8, 'n_estimators': 50}\n",
      "0.44178483478302283 {'max_features': 8, 'n_estimators': 100}\n",
      "0.4385963840952591 {'max_features': 8, 'n_estimators': 150}\n",
      "0.458941609323284 {'bootstrap': False, 'max_features': 2, 'n_estimators': 50}\n",
      "0.46046281301191655 {'bootstrap': False, 'max_features': 2, 'n_estimators': 100}\n",
      "0.46197900771079264 {'bootstrap': False, 'max_features': 2, 'n_estimators': 150}\n",
      "0.46197900771079264 {'bootstrap': False, 'max_features': 4, 'n_estimators': 50}\n",
      "0.46197900771079264 {'bootstrap': False, 'max_features': 4, 'n_estimators': 100}\n",
      "0.46197900771079264 {'bootstrap': False, 'max_features': 4, 'n_estimators': 150}\n",
      "0.46350086760401427 {'bootstrap': False, 'max_features': 6, 'n_estimators': 50}\n",
      "0.46045211788113566 {'bootstrap': False, 'max_features': 6, 'n_estimators': 100}\n",
      "0.4619683476817699 {'bootstrap': False, 'max_features': 6, 'n_estimators': 150}\n",
      "0.46502833707154156 {'bootstrap': False, 'max_features': 8, 'n_estimators': 50}\n",
      "0.4604414225019284 {'bootstrap': False, 'max_features': 8, 'n_estimators': 100}\n",
      "0.4573938136424634 {'bootstrap': False, 'max_features': 8, 'n_estimators': 150}\n"
     ]
    }
   ],
   "source": [
    "cvres = grid_search.cv_results_\n",
    "for mean_score, params in zip(cvres[\"mean_test_score\"], cvres[\"params\"]):\n",
    "    print(np.sqrt(-mean_score), params)"
   ]
  },
  {
   "cell_type": "code",
   "execution_count": 204,
   "metadata": {
    "ExecuteTime": {
     "end_time": "2022-12-18T14:42:55.453596Z",
     "start_time": "2022-12-18T14:42:54.000225Z"
    },
    "colab": {
     "base_uri": "https://localhost:8080/"
    },
    "deletable": false,
    "editable": false,
    "executionInfo": {
     "elapsed": 1331,
     "status": "ok",
     "timestamp": 1648016071094,
     "user": {
      "displayName": "Fernando CHEN",
      "photoUrl": "https://lh3.googleusercontent.com/a/default-user=s64",
      "userId": "06486171134930786741"
     },
     "user_tz": -480
    },
    "hidden": true,
    "id": "BucU7_efRIDX",
    "outputId": "3339995b-07f2-4315-ab06-cf64567c342b",
    "run_control": {
     "frozen": true
    }
   },
   "outputs": [
    {
     "data": {
      "text/plain": [
       "0.8075899843505479"
      ]
     },
     "execution_count": 204,
     "metadata": {},
     "output_type": "execute_result"
    }
   ],
   "source": [
    "from sklearn.model_selection import cross_val_score\n",
    "\n",
    "forest_clf_best = RandomForestClassifier(max_features=8, n_estimators=150, random_state=42)\n",
    "forest_scores = cross_val_score(forest_clf_best, X_train_preprocessed, y_train, cv=10)\n",
    "forest_scores.mean()"
   ]
  },
  {
   "cell_type": "markdown",
   "metadata": {
    "heading_collapsed": true,
    "id": "Ov20VNqmU2cp"
   },
   "source": [
    "## SVC"
   ]
  },
  {
   "cell_type": "code",
   "execution_count": 205,
   "metadata": {
    "ExecuteTime": {
     "end_time": "2022-12-18T14:42:55.463225Z",
     "start_time": "2022-12-18T14:42:55.454912Z"
    },
    "colab": {
     "base_uri": "https://localhost:8080/"
    },
    "collapsed": true,
    "deletable": false,
    "editable": false,
    "executionInfo": {
     "elapsed": 486,
     "status": "ok",
     "timestamp": 1648020003486,
     "user": {
      "displayName": "Fernando CHEN",
      "photoUrl": "https://lh3.googleusercontent.com/a/default-user=s64",
      "userId": "06486171134930786741"
     },
     "user_tz": -480
    },
    "hidden": true,
    "id": "sLnKqd0ey-Y3",
    "outputId": "13cf7f0f-43d6-4e91-fbfa-297a79e1ecda",
    "run_control": {
     "frozen": true
    }
   },
   "outputs": [
    {
     "ename": "NameError",
     "evalue": "name 'y_train_split' is not defined",
     "output_type": "error",
     "traceback": [
      "\u001b[0;31m---------------------------------------------------------------------------\u001b[0m",
      "\u001b[0;31mNameError\u001b[0m                                 Traceback (most recent call last)",
      "\u001b[0;32m<ipython-input-205-16084490b9da>\u001b[0m in \u001b[0;36m<module>\u001b[0;34m\u001b[0m\n\u001b[1;32m      8\u001b[0m \u001b[0;34m\u001b[0m\u001b[0m\n\u001b[1;32m      9\u001b[0m \u001b[0msvm_clf\u001b[0m \u001b[0;34m=\u001b[0m \u001b[0mSVC\u001b[0m\u001b[0;34m(\u001b[0m\u001b[0mgamma\u001b[0m\u001b[0;34m=\u001b[0m\u001b[0;34m\"auto\"\u001b[0m\u001b[0;34m)\u001b[0m\u001b[0;34m\u001b[0m\u001b[0;34m\u001b[0m\u001b[0m\n\u001b[0;32m---> 10\u001b[0;31m \u001b[0msvm_scores\u001b[0m \u001b[0;34m=\u001b[0m \u001b[0mcross_val_score\u001b[0m\u001b[0;34m(\u001b[0m\u001b[0msvm_clf\u001b[0m\u001b[0;34m,\u001b[0m \u001b[0mX_train_preprocessed\u001b[0m\u001b[0;34m,\u001b[0m \u001b[0my_train_split\u001b[0m\u001b[0;34m,\u001b[0m \u001b[0mcv\u001b[0m\u001b[0;34m=\u001b[0m\u001b[0;36m10\u001b[0m\u001b[0;34m)\u001b[0m\u001b[0;34m\u001b[0m\u001b[0;34m\u001b[0m\u001b[0m\n\u001b[0m\u001b[1;32m     11\u001b[0m \u001b[0msvm_scores\u001b[0m\u001b[0;34m.\u001b[0m\u001b[0mmean\u001b[0m\u001b[0;34m(\u001b[0m\u001b[0;34m)\u001b[0m\u001b[0;34m\u001b[0m\u001b[0;34m\u001b[0m\u001b[0m\n",
      "\u001b[0;31mNameError\u001b[0m: name 'y_train_split' is not defined"
     ]
    }
   ],
   "source": [
    "# from sklearn.svm import SVC\n",
    "\n",
    "# svm_clf = SVC(gamma=\"auto\")\n",
    "# svm_scores = cross_val_score(svm_clf, X_train_preprocessed, y_train, cv=10)\n",
    "# svm_scores.mean()\n",
    "\n",
    "from sklearn.svm import SVC\n",
    "\n",
    "svm_clf = SVC(gamma=\"auto\")\n",
    "svm_scores = cross_val_score(svm_clf, X_train_preprocessed, y_train_split, cv=10)\n",
    "svm_scores.mean()"
   ]
  },
  {
   "cell_type": "code",
   "execution_count": null,
   "metadata": {
    "ExecuteTime": {
     "end_time": "2022-12-18T14:42:55.467977Z",
     "start_time": "2022-12-18T14:42:34.716Z"
    },
    "deletable": false,
    "editable": false,
    "hidden": true,
    "id": "QkVgqDoBTgjB",
    "run_control": {
     "frozen": true
    }
   },
   "outputs": [],
   "source": [
    "# param_grid = {'C': [0.1,1, 10, 100], 'gamma': [1,0.1,0.01,0.001],'kernel': ['rbf', 'poly', 'sigmoid']}\n",
    "# grid = GridSearchCV(SVC(), param_grid, refit=True, verbose=2)\n",
    "# grid.fit(X_train_preprocessed, y_train)"
   ]
  },
  {
   "cell_type": "code",
   "execution_count": null,
   "metadata": {
    "ExecuteTime": {
     "end_time": "2022-12-18T14:42:55.468869Z",
     "start_time": "2022-12-18T14:42:34.718Z"
    },
    "deletable": false,
    "editable": false,
    "hidden": true,
    "id": "iyOtvoxnT5l9",
    "run_control": {
     "frozen": true
    }
   },
   "outputs": [],
   "source": [
    "# grid.best_estimator_"
   ]
  },
  {
   "cell_type": "code",
   "execution_count": null,
   "metadata": {
    "ExecuteTime": {
     "end_time": "2022-12-18T14:42:55.470283Z",
     "start_time": "2022-12-18T14:42:34.719Z"
    },
    "deletable": false,
    "editable": false,
    "hidden": true,
    "id": "dFc4618GT7XJ",
    "run_control": {
     "frozen": true
    }
   },
   "outputs": [],
   "source": [
    "# svm_clf = SVC(gamma=\"auto\", C=, kernel=)\n",
    "# svm_scores = cross_val_score(svm_clf, X_train_preprocessed, y_train, cv=10)\n",
    "# svm_scores.mean()"
   ]
  },
  {
   "cell_type": "markdown",
   "metadata": {
    "id": "RcU1rUoav3uD"
   },
   "source": [
    "# Test"
   ]
  },
  {
   "cell_type": "markdown",
   "metadata": {
    "deletable": false,
    "editable": false,
    "id": "VW34dkh3k8kV",
    "run_control": {
     "frozen": true
    }
   },
   "source": [
    "## Random Forest"
   ]
  },
  {
   "cell_type": "code",
   "execution_count": 206,
   "metadata": {
    "ExecuteTime": {
     "end_time": "2022-12-18T14:43:47.606511Z",
     "start_time": "2022-12-18T14:43:47.389344Z"
    },
    "colab": {
     "base_uri": "https://localhost:8080/"
    },
    "deletable": false,
    "editable": false,
    "executionInfo": {
     "elapsed": 588,
     "status": "ok",
     "timestamp": 1648016071677,
     "user": {
      "displayName": "Fernando CHEN",
      "photoUrl": "https://lh3.googleusercontent.com/a/default-user=s64",
      "userId": "06486171134930786741"
     },
     "user_tz": -480
    },
    "id": "OR9zA1FnvWOz",
    "outputId": "b778df97-89f4-4e28-fe4f-4d86fbe04403",
    "run_control": {
     "frozen": true
    }
   },
   "outputs": [
    {
     "data": {
      "text/plain": [
       "RandomForestClassifier(max_features=8, n_estimators=150, random_state=42)"
      ]
     },
     "execution_count": 206,
     "metadata": {},
     "output_type": "execute_result"
    }
   ],
   "source": [
    "# best classifier\n",
    "forest_clf = RandomForestClassifier(max_features=8, n_estimators=150, random_state=42)\n",
    "forest_clf.fit(X_train_preprocessed, y_train)"
   ]
  },
  {
   "cell_type": "code",
   "execution_count": 211,
   "metadata": {
    "ExecuteTime": {
     "end_time": "2022-12-18T14:45:45.499478Z",
     "start_time": "2022-12-18T14:45:45.456235Z"
    },
    "colab": {
     "base_uri": "https://localhost:8080/"
    },
    "deletable": false,
    "editable": false,
    "executionInfo": {
     "elapsed": 39,
     "status": "ok",
     "timestamp": 1648016071677,
     "user": {
      "displayName": "Fernando CHEN",
      "photoUrl": "https://lh3.googleusercontent.com/a/default-user=s64",
      "userId": "06486171134930786741"
     },
     "user_tz": -480
    },
    "id": "vLqWG52ev3z2",
    "outputId": "b8e19161-2f51-42c8-8a1b-14ba6b7b6732",
    "run_control": {
     "frozen": true
    }
   },
   "outputs": [],
   "source": [
    "X_val_prepared = full_pipeline.preprocessor.transform(X_val)\n",
    "y_pred = forest_clf.predict(X_val_prepared)"
   ]
  },
  {
   "cell_type": "code",
   "execution_count": 213,
   "metadata": {
    "ExecuteTime": {
     "end_time": "2022-12-18T14:46:07.592023Z",
     "start_time": "2022-12-18T14:46:07.583854Z"
    },
    "deletable": false,
    "editable": false,
    "run_control": {
     "frozen": true
    }
   },
   "outputs": [
    {
     "data": {
      "text/plain": [
       "0.8212290502793296"
      ]
     },
     "execution_count": 213,
     "metadata": {},
     "output_type": "execute_result"
    }
   ],
   "source": [
    "sum(y_pred == val.Survived) / len(y_pred)"
   ]
  },
  {
   "cell_type": "markdown",
   "metadata": {
    "id": "XSQTKJw1lBoO"
   },
   "source": [
    "## SVC"
   ]
  },
  {
   "cell_type": "code",
   "execution_count": null,
   "metadata": {
    "ExecuteTime": {
     "end_time": "2022-12-20T13:53:50.787621Z",
     "start_time": "2022-12-20T13:53:48.316Z"
    },
    "colab": {
     "base_uri": "https://localhost:8080/"
    },
    "executionInfo": {
     "elapsed": 526,
     "status": "ok",
     "timestamp": 1648020902281,
     "user": {
      "displayName": "Fernando CHEN",
      "photoUrl": "https://lh3.googleusercontent.com/a/default-user=s64",
      "userId": "06486171134930786741"
     },
     "user_tz": -480
    },
    "id": "U1EG3VoTp36O",
    "outputId": "323235b0-b0b1-42f9-fad9-7566ec258ee3"
   },
   "outputs": [],
   "source": [
    "X_train_preprocessed = full_pipeline.preprocessor.transform(X_train)\n",
    "\n",
    "svm_clf = SVC(gamma=\"auto\")\n",
    "svm_clf.fit(X_train_preprocessed, y_train)"
   ]
  },
  {
   "cell_type": "code",
   "execution_count": null,
   "metadata": {
    "ExecuteTime": {
     "end_time": "2022-12-20T13:53:50.788578Z",
     "start_time": "2022-12-20T13:53:48.319Z"
    },
    "id": "6T5SBxZblamF"
   },
   "outputs": [],
   "source": [
    "y_pred = svm_clf.predict(X_val_preprocessed)"
   ]
  },
  {
   "cell_type": "markdown",
   "metadata": {
    "deletable": false,
    "editable": false,
    "id": "1aj3bivXli7n",
    "run_control": {
     "frozen": true
    }
   },
   "source": [
    "## Prediction Submission"
   ]
  },
  {
   "cell_type": "code",
   "execution_count": 153,
   "metadata": {
    "ExecuteTime": {
     "end_time": "2022-12-18T14:42:34.640804Z",
     "start_time": "2022-12-18T14:42:34.627596Z"
    },
    "deletable": false,
    "editable": false,
    "id": "52ujR0FsGWgv",
    "run_control": {
     "frozen": true
    }
   },
   "outputs": [],
   "source": [
    "# load submission dat`a\n",
    "test = pd.read_csv(os.path.join(PROJECT_ROOT_DIR, 'datasets', 'test.csv'))"
   ]
  },
  {
   "cell_type": "code",
   "execution_count": 216,
   "metadata": {
    "ExecuteTime": {
     "end_time": "2022-12-18T14:55:59.872811Z",
     "start_time": "2022-12-18T14:55:59.829680Z"
    },
    "deletable": false,
    "editable": false,
    "run_control": {
     "frozen": true
    }
   },
   "outputs": [],
   "source": [
    "X_test_preprocessed = full_pipeline.preprocessor.transform(test)\n",
    "test_y_pred = forest_clf.predict(X_test_preprocessed)"
   ]
  },
  {
   "cell_type": "code",
   "execution_count": 218,
   "metadata": {
    "ExecuteTime": {
     "end_time": "2022-12-18T14:57:15.772599Z",
     "start_time": "2022-12-18T14:57:15.766860Z"
    },
    "deletable": false,
    "editable": false,
    "id": "N75av0625bfh",
    "run_control": {
     "frozen": true
    }
   },
   "outputs": [],
   "source": [
    "y_pred_class = pd.DataFrame(data={'Survived': test_y_pred.astype(int)}, index=test.index)"
   ]
  },
  {
   "cell_type": "code",
   "execution_count": 219,
   "metadata": {
    "ExecuteTime": {
     "end_time": "2022-12-18T14:57:17.093352Z",
     "start_time": "2022-12-18T14:57:17.082789Z"
    },
    "colab": {
     "base_uri": "https://localhost:8080/",
     "height": 235
    },
    "deletable": false,
    "editable": false,
    "executionInfo": {
     "elapsed": 9,
     "status": "ok",
     "timestamp": 1648016071680,
     "user": {
      "displayName": "Fernando CHEN",
      "photoUrl": "https://lh3.googleusercontent.com/a/default-user=s64",
      "userId": "06486171134930786741"
     },
     "user_tz": -480
    },
    "id": "EakXbzGHwG4S",
    "outputId": "86e30cff-f682-4543-96a8-7c83ec687c4f",
    "run_control": {
     "frozen": true
    }
   },
   "outputs": [
    {
     "data": {
      "text/html": [
       "<div>\n",
       "<style scoped>\n",
       "    .dataframe tbody tr th:only-of-type {\n",
       "        vertical-align: middle;\n",
       "    }\n",
       "\n",
       "    .dataframe tbody tr th {\n",
       "        vertical-align: top;\n",
       "    }\n",
       "\n",
       "    .dataframe thead th {\n",
       "        text-align: right;\n",
       "    }\n",
       "</style>\n",
       "<table border=\"1\" class=\"dataframe\">\n",
       "  <thead>\n",
       "    <tr style=\"text-align: right;\">\n",
       "      <th></th>\n",
       "      <th>Survived</th>\n",
       "    </tr>\n",
       "    <tr>\n",
       "      <th>PassengerId</th>\n",
       "      <th></th>\n",
       "    </tr>\n",
       "  </thead>\n",
       "  <tbody>\n",
       "    <tr>\n",
       "      <th>892</th>\n",
       "      <td>0</td>\n",
       "    </tr>\n",
       "    <tr>\n",
       "      <th>893</th>\n",
       "      <td>1</td>\n",
       "    </tr>\n",
       "    <tr>\n",
       "      <th>894</th>\n",
       "      <td>0</td>\n",
       "    </tr>\n",
       "    <tr>\n",
       "      <th>895</th>\n",
       "      <td>0</td>\n",
       "    </tr>\n",
       "    <tr>\n",
       "      <th>896</th>\n",
       "      <td>1</td>\n",
       "    </tr>\n",
       "  </tbody>\n",
       "</table>\n",
       "</div>"
      ],
      "text/plain": [
       "             Survived\n",
       "PassengerId          \n",
       "892                 0\n",
       "893                 1\n",
       "894                 0\n",
       "895                 0\n",
       "896                 1"
      ]
     },
     "execution_count": 219,
     "metadata": {},
     "output_type": "execute_result"
    }
   ],
   "source": [
    "y_pred_class[:5]"
   ]
  },
  {
   "cell_type": "code",
   "execution_count": 222,
   "metadata": {
    "ExecuteTime": {
     "end_time": "2022-12-18T14:59:40.730673Z",
     "start_time": "2022-12-18T14:59:40.723325Z"
    },
    "deletable": false,
    "editable": false,
    "id": "b1Eoq_Cg8CPq",
    "run_control": {
     "frozen": true
    }
   },
   "outputs": [],
   "source": [
    "y_pred_class.to_csv(os.path.join(PROJECT_ROOT_DIR, 'predictions', 'pred_submission.csv'))"
   ]
  }
 ],
 "metadata": {
  "colab": {
   "authorship_tag": "ABX9TyOnEo6c3CxZDmC1OjynoN0N",
   "collapsed_sections": [
    "f782ec90",
    "ee44cfe9",
    "68mXWkNwGU7H",
    "hPK9qQT3H2PV",
    "mauMEsL3NFm9",
    "kpQKWqdfm_zX",
    "704ca715",
    "_qwgugwF0rx_",
    "lP4x9miH03VY",
    "AYBKTDMU08tz",
    "0mx3LVX3PBcy",
    "Ov20VNqmU2cp",
    "VW34dkh3k8kV"
   ],
   "name": "titanic.ipynb",
   "provenance": [],
   "toc_visible": true
  },
  "kernelspec": {
   "display_name": "Python 3",
   "language": "python",
   "name": "python3"
  },
  "language_info": {
   "codemirror_mode": {
    "name": "ipython",
    "version": 3
   },
   "file_extension": ".py",
   "mimetype": "text/x-python",
   "name": "python",
   "nbconvert_exporter": "python",
   "pygments_lexer": "ipython3",
   "version": "3.6.13"
  },
  "toc": {
   "base_numbering": 1,
   "nav_menu": {},
   "number_sections": true,
   "sideBar": true,
   "skip_h1_title": false,
   "title_cell": "Table of Contents",
   "title_sidebar": "Contents",
   "toc_cell": false,
   "toc_position": {
    "height": "calc(100% - 180px)",
    "left": "10px",
    "top": "150px",
    "width": "202px"
   },
   "toc_section_display": true,
   "toc_window_display": true
  },
  "varInspector": {
   "cols": {
    "lenName": 16,
    "lenType": 16,
    "lenVar": 40
   },
   "kernels_config": {
    "python": {
     "delete_cmd_postfix": "",
     "delete_cmd_prefix": "del ",
     "library": "var_list.py",
     "varRefreshCmd": "print(var_dic_list())"
    },
    "r": {
     "delete_cmd_postfix": ") ",
     "delete_cmd_prefix": "rm(",
     "library": "var_list.r",
     "varRefreshCmd": "cat(var_dic_list()) "
    }
   },
   "types_to_exclude": [
    "module",
    "function",
    "builtin_function_or_method",
    "instance",
    "_Feature"
   ],
   "window_display": false
  },
  "vscode": {
   "interpreter": {
    "hash": "565534a3e10f17d7397bf51ecc8fe79e92df94a7a2c619083a3c98b274b0ecd6"
   }
  }
 },
 "nbformat": 4,
 "nbformat_minor": 1
}
