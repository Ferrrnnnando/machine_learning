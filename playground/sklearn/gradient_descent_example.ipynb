{
 "cells": [
  {
   "cell_type": "code",
   "execution_count": null,
   "id": "8789b4c8",
   "metadata": {},
   "outputs": [],
   "source": [
    "# References: https://blog.csdn.net/qq_41800366/article/details/86583789?ops_request_misc=%257B%2522request%255Fid%2522%253A%2522164370959716780269826039%2522%252C%2522scm%2522%253A%252220140713.130102334..%2522%257D&request_id=164370959716780269826039&biz_id=0&utm_medium=distribute.pc_search_result.none-task-blog-2~all~top_positive~default-1-86583789.first_rank_v2_pc_rank_v29&utm_term=梯度下降&spm=1018.2226.3001.4187"
   ]
  },
  {
   "cell_type": "code",
   "execution_count": null,
   "id": "786f7216",
   "metadata": {},
   "outputs": [],
   "source": [
    "'''\n",
    "Idea:\n",
    "Gradient Descent is used to minimized a target function (usually a Loss Function) \n",
    "--> find optimal params(theta) that minimized the function\n",
    "--> continue until the slope of theta point almost reach 0\n",
    "\n",
    "- learning rate is important: larger value may cause overshoot , smaller may cause slow learning\n",
    "\n",
    "This case:\n",
    "Loss function of linear regression have only 1 optimal solution\n",
    "\n",
    "Other case:\n",
    "Randomly initialise different starting points and try these different starting points\n",
    "to see which will stop at optimal solution\n",
    "'''"
   ]
  },
  {
   "cell_type": "code",
   "execution_count": 8,
   "id": "c8956782",
   "metadata": {},
   "outputs": [],
   "source": [
    "import numpy as np"
   ]
  },
  {
   "cell_type": "code",
   "execution_count": 14,
   "id": "c0d9f8a2",
   "metadata": {},
   "outputs": [
    {
     "name": "stdout",
     "output_type": "stream",
     "text": [
      "X0\n",
      " [[1.]\n",
      " [1.]\n",
      " [1.]\n",
      " [1.]\n",
      " [1.]\n",
      " [1.]\n",
      " [1.]\n",
      " [1.]\n",
      " [1.]\n",
      " [1.]\n",
      " [1.]\n",
      " [1.]\n",
      " [1.]\n",
      " [1.]\n",
      " [1.]\n",
      " [1.]\n",
      " [1.]\n",
      " [1.]\n",
      " [1.]\n",
      " [1.]]\n",
      "X1\n",
      " [[ 1]\n",
      " [ 2]\n",
      " [ 3]\n",
      " [ 4]\n",
      " [ 5]\n",
      " [ 6]\n",
      " [ 7]\n",
      " [ 8]\n",
      " [ 9]\n",
      " [10]\n",
      " [11]\n",
      " [12]\n",
      " [13]\n",
      " [14]\n",
      " [15]\n",
      " [16]\n",
      " [17]\n",
      " [18]\n",
      " [19]\n",
      " [20]]\n",
      "X\n",
      " [[ 1.  1.]\n",
      " [ 1.  2.]\n",
      " [ 1.  3.]\n",
      " [ 1.  4.]\n",
      " [ 1.  5.]\n",
      " [ 1.  6.]\n",
      " [ 1.  7.]\n",
      " [ 1.  8.]\n",
      " [ 1.  9.]\n",
      " [ 1. 10.]\n",
      " [ 1. 11.]\n",
      " [ 1. 12.]\n",
      " [ 1. 13.]\n",
      " [ 1. 14.]\n",
      " [ 1. 15.]\n",
      " [ 1. 16.]\n",
      " [ 1. 17.]\n",
      " [ 1. 18.]\n",
      " [ 1. 19.]\n",
      " [ 1. 20.]]\n",
      "Y\n",
      " [[ 3]\n",
      " [ 4]\n",
      " [ 5]\n",
      " [ 5]\n",
      " [ 2]\n",
      " [ 4]\n",
      " [ 7]\n",
      " [ 8]\n",
      " [11]\n",
      " [ 8]\n",
      " [12]\n",
      " [11]\n",
      " [13]\n",
      " [13]\n",
      " [16]\n",
      " [17]\n",
      " [18]\n",
      " [17]\n",
      " [19]\n",
      " [21]]\n"
     ]
    }
   ],
   "source": [
    "m = 20  # no. of data points\n",
    "X0 = np.ones((m, 1))\n",
    "X1 = np.arange(1, m + 1).reshape(m, 1)\n",
    "X = np.hstack((X0, X1))\n",
    "print('X0\\n', X0)\n",
    "print('X1\\n', X1)\n",
    "print('X\\n', X)\n",
    "\n",
    "Y = np.array([\n",
    "    3, 4, 5, 5, 2, 4 ,7, 8 ,11, 8 ,12,\n",
    "    11, 13, 13, 16, 17, 18, 17, 19, 21\n",
    "]).reshape(m, 1)\n",
    "print('Y\\n', Y)"
   ]
  },
  {
   "cell_type": "code",
   "execution_count": 4,
   "id": "1c869ece",
   "metadata": {},
   "outputs": [
    {
     "data": {
      "text/plain": [
       "(20, 2)"
      ]
     },
     "execution_count": 4,
     "metadata": {},
     "output_type": "execute_result"
    }
   ],
   "source": [
    "X.shape"
   ]
  },
  {
   "cell_type": "code",
   "execution_count": 10,
   "id": "69864080",
   "metadata": {},
   "outputs": [],
   "source": [
    "alpha = 0.01\n",
    "epsilon = 1e-5"
   ]
  },
  {
   "cell_type": "code",
   "execution_count": 36,
   "id": "20c21f81",
   "metadata": {},
   "outputs": [],
   "source": [
    "def cost_func(theta, X, Y):\n",
    "    diff = np.dot(X, theta) - Y\n",
    "    return (1/(2 * m)) * np.dot(diff.transpose(), diff)\n",
    "\n",
    "def gradient_func(theta, X, Y):\n",
    "    diff = dot(X, theta) - Y\n",
    "    return (1/m) * dot(X.transpose(), diff)\n",
    "\n",
    "def gradient_descent(X, Y, alpha):\n",
    "    loop = 0\n",
    "    # Initial value of theta: random, will be updated during gradient descending\n",
    "    theta = array([1, 1]).reshape(2, 1)\n",
    "    gradient = gradient_func(theta, X, Y)  # gradient.shape: (2, 1)\n",
    "    \n",
    "    # Continue going downhills until the slope of point almost reach 0 (threshold)\n",
    "    while not all(abs(gradient) <= epsilon):\n",
    "        if loop < 5:\n",
    "            print('gradient: ', gradient)\n",
    "        \n",
    "        theta = theta - alpha * gradient\n",
    "        gradient = gradient_func(theta, X, Y)\n",
    "        loop += 1\n",
    "    return theta, loop"
   ]
  },
  {
   "cell_type": "code",
   "execution_count": 37,
   "id": "7ebdcfaf",
   "metadata": {},
   "outputs": [
    {
     "name": "stdout",
     "output_type": "stream",
     "text": [
      "gradient:  [[0.8]\n",
      " [9.4]]\n",
      "gradient:  [[-0.195]\n",
      " [-4.173]]\n",
      "gradient:  [[0.245115]\n",
      " [1.83573 ]]\n",
      "gradient:  [[ 0.0499122 ]\n",
      " [-0.82427963]]\n",
      "gradient:  [[0.13596244]\n",
      " [0.35332086]]\n"
     ]
    }
   ],
   "source": [
    "optimal, loop = gradient_descent(X, Y, alpha)"
   ]
  },
  {
   "cell_type": "code",
   "execution_count": 33,
   "id": "d18566e1",
   "metadata": {},
   "outputs": [
    {
     "name": "stdout",
     "output_type": "stream",
     "text": [
      "optimal:  [[0.51583286]\n",
      " [0.96992163]]\n",
      "cost function:  1.014962406233101\n",
      "loops:  4035\n"
     ]
    }
   ],
   "source": [
    "print('optimal: ', optimal)\n",
    "print('cost function: ', cost_func(optimal, X, Y)[0][0])\n",
    "print('loops: ', loop)"
   ]
  },
  {
   "cell_type": "code",
   "execution_count": 19,
   "id": "23b4f0ac",
   "metadata": {},
   "outputs": [
    {
     "data": {
      "image/png": "[encoded data removed]",
      "text/plain": [
       "<Figure size 432x288 with 1 Axes>"
      ]
     },
     "metadata": {
      "needs_background": "light"
     },
     "output_type": "display_data"
    }
   ],
   "source": [
    "def plot(X, Y, theta):\n",
    "    import matplotlib.pyplot as plt\n",
    "    ax = plt.subplot(111)\n",
    "    ax.scatter(X, Y, s=30, c='red', marker='s')\n",
    "    plt.xlabel('X')\n",
    "    plt.ylabel('Y')\n",
    "    \n",
    "    # Plot the regression line according to theta learnt\n",
    "    x = arange(0, 21, 0.2)\n",
    "    y = theta[0] + theta[1] * x\n",
    "    ax.plot(x, y)\n",
    "    plt.show()\n",
    "    \n",
    "# data_x_coor, data_y_coor, weights\n",
    "plot(X1, Y, optimal)"
   ]
  },
  {
   "cell_type": "code",
   "execution_count": 22,
   "id": "24675707",
   "metadata": {},
   "outputs": [
    {
     "data": {
      "text/plain": [
       "array([[1],\n",
       "       [1]])"
      ]
     },
     "execution_count": 22,
     "metadata": {},
     "output_type": "execute_result"
    }
   ],
   "source": [
    "theta = array([1, 1]).reshape(2, 1)\n",
    "theta"
   ]
  }
 ],
 "metadata": {
  "kernelspec": {
   "display_name": "Python 3 (ipykernel)",
   "language": "python",
   "name": "python3"
  },
  "language_info": {
   "codemirror_mode": {
    "name": "ipython",
    "version": 3
   },
   "file_extension": ".py",
   "mimetype": "text/x-python",
   "name": "python",
   "nbconvert_exporter": "python",
   "pygments_lexer": "ipython3",
   "version": "3.9.7"
  },
  "toc": {
   "base_numbering": 1,
   "nav_menu": {},
   "number_sections": true,
   "sideBar": true,
   "skip_h1_title": false,
   "title_cell": "Table of Contents",
   "title_sidebar": "Contents",
   "toc_cell": false,
   "toc_position": {},
   "toc_section_display": true,
   "toc_window_display": false
  }
 },
 "nbformat": 4,
 "nbformat_minor": 5
}
