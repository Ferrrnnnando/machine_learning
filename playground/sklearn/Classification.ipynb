{
 "cells": [
  {
   "cell_type": "markdown",
   "id": "f6604374",
   "metadata": {},
   "source": [
    "# Libraries "
   ]
  },
  {
   "cell_type": "markdown",
   "id": "5f563a21",
   "metadata": {},
   "source": [
    "## Models "
   ]
  },
  {
   "cell_type": "code",
   "execution_count": null,
   "id": "24bdd289",
   "metadata": {},
   "outputs": [],
   "source": [
    "from sklearn.linear_model import SGDClassifier\n"
   ]
  },
  {
   "cell_type": "markdown",
   "id": "b9521e42",
   "metadata": {},
   "source": [
    "## Evaluation "
   ]
  },
  {
   "cell_type": "code",
   "execution_count": null,
   "id": "1d6b3b4f",
   "metadata": {},
   "outputs": [],
   "source": [
    "from sklearn.model_selection import cross_val_score\n"
   ]
  },
  {
   "cell_type": "markdown",
   "id": "b943521e",
   "metadata": {},
   "source": [
    "# Visualization "
   ]
  },
  {
   "cell_type": "code",
   "execution_count": null,
   "id": "850cc0b2",
   "metadata": {},
   "outputs": [],
   "source": [
    "%matplotlib inline\n",
    "import matplotlib as mpl\n",
    "import matplotlib.pyplot as plt\n",
    "\n",
    "# MNIST data set: 28x28 pixels of digits\n",
    "# greyscale: cmap=binary\n",
    "\n",
    "some_digit = X[0]\n",
    "some_digit_image = some_digit.reshape(28, 28)\n",
    "plt.imshow(some_digit_image, cmap=mpl.cm.binary)\n",
    "plt.axis(\"off\")\n",
    "\n",
    "save_fig(\"some_digit_plot\")\n",
    "plt.show()"
   ]
  },
  {
   "cell_type": "markdown",
   "id": "dd09fb5c",
   "metadata": {},
   "source": [
    "# Analysis "
   ]
  },
  {
   "cell_type": "markdown",
   "id": "402bf401",
   "metadata": {},
   "source": [
    "## Confusion Matrix"
   ]
  },
  {
   "cell_type": "code",
   "execution_count": null,
   "id": "e8b12978",
   "metadata": {},
   "outputs": [],
   "source": [
    "# Confusion Matrix: find insights from results\n",
    "# array([[no. of True Neg, no. of False Pos],\n",
    "#        [no. of False Neg, no. of True Pos]])"
   ]
  },
  {
   "cell_type": "code",
   "execution_count": 2,
   "id": "6da33180",
   "metadata": {},
   "outputs": [],
   "source": [
    "from sklearn.model_selection import cross_val_predict\n",
    "from sklearn.metrics import confusion_matrix\n",
    "\n",
    "y_train_pred = cross_val_predict(sgd_clf, X_train, y_train_5, cv=3)\n",
    "\n",
    "# Use fo confusion matrix: \n",
    "confusion_matrix(y_train_5, y_train_pred)\n",
    "\n",
    "'''\n",
    "Actual result:\n",
    "array([[53892,   687],\n",
    "       [ 1891,  3530]])\n",
    "       \n",
    "Real Result:\n",
    "array([[54579,     0],\n",
    "       [    0,  5421]])\n",
    "'''"
   ]
  },
  {
   "cell_type": "markdown",
   "id": "0c61d75c",
   "metadata": {},
   "source": [
    "# Models"
   ]
  },
  {
   "cell_type": "markdown",
   "id": "5b9bc22b",
   "metadata": {},
   "source": [
    "## SGD Classifier "
   ]
  },
  {
   "cell_type": "code",
   "execution_count": null,
   "id": "95e37a4c",
   "metadata": {},
   "outputs": [],
   "source": [
    "# Advantages: \n",
    "# 1. Deal with large amount of data\n",
    "# 2. Can independently deal with each sample\n",
    "# 3. Suitable for on-line learning"
   ]
  },
  {
   "cell_type": "code",
   "execution_count": null,
   "id": "3fa9e597",
   "metadata": {},
   "outputs": [],
   "source": [
    "# Step1: Create a model instance\n",
    "from sklearn.linear_model import SGDClassifier\n",
    "\n",
    "sgd_clf = SGDClassifier(max_iter=1000, tol=1e-3, random_state=42)\n",
    "sgd_clf.fit(X_train, y_train_5)\n",
    "\n",
    "# Step2: Make predictions\n",
    "sgd_clf.predict([some_digit]) # array([ True])\n",
    "\n",
    "# Step3: Scoring using cross_val_score\n",
    "from sklearn.model_selection import cross_val_score\n",
    "score = cross_val_score(sgd_clf, X_train, y_train_5, cv=3, scoring=\"accuracy\")"
   ]
  },
  {
   "cell_type": "code",
   "execution_count": null,
   "id": "e30d438e",
   "metadata": {},
   "outputs": [],
   "source": [
    "# Step4: Other scoring method such as StratifiedKFold:\n",
    "\n",
    "from sklearn.model_selection import StratifiedKFold\n",
    "from sklearn.base import clone\n",
    "\n",
    "skfolds = StratifiedKFold(n_splits=3, shuffle=True, random_state=42)\n",
    "\n",
    "for train_index, test_index in skfolds.split(X_train, y_train_5):\n",
    "    clone_clf = clone(sgd_clf)\n",
    "    X_train_folds = X_train[train_index]\n",
    "    y_train_folds = y_train_5[train_index]\n",
    "    X_test_fold = X_train[test_index]\n",
    "    y_test_fold = y_train_5[test_index]\n",
    "\n",
    "    clone_clf.fit(X_train_folds, y_train_folds)\n",
    "    y_pred = clone_clf.predict(X_test_fold)\n",
    "    n_correct = sum(y_pred == y_test_fold)\n",
    "    print(n_correct / len(y_pred))\n",
    "'''\n",
    "0.9669\n",
    "0.91625\n",
    "0.96785\n",
    "'''"
   ]
  }
 ],
 "metadata": {
  "kernelspec": {
   "display_name": "Python 3 (ipykernel)",
   "language": "python",
   "name": "python3"
  },
  "language_info": {
   "codemirror_mode": {
    "name": "ipython",
    "version": 3
   },
   "file_extension": ".py",
   "mimetype": "text/x-python",
   "name": "python",
   "nbconvert_exporter": "python",
   "pygments_lexer": "ipython3",
   "version": "3.9.7"
  },
  "toc": {
   "base_numbering": 1,
   "nav_menu": {},
   "number_sections": true,
   "sideBar": true,
   "skip_h1_title": false,
   "title_cell": "Table of Contents",
   "title_sidebar": "Contents",
   "toc_cell": false,
   "toc_position": {},
   "toc_section_display": true,
   "toc_window_display": true
  }
 },
 "nbformat": 4,
 "nbformat_minor": 5
}
