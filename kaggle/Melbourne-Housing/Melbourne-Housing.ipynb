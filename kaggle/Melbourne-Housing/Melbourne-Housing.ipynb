{
 "cells": [
  {
   "cell_type": "markdown",
   "id": "ee44cfe9",
   "metadata": {},
   "source": [
    "# Libraries"
   ]
  },
  {
   "cell_type": "code",
   "execution_count": 2,
   "id": "5b19a666",
   "metadata": {},
   "outputs": [],
   "source": [
    "import numpy as np\n",
    "\n",
    "from sklearn.compose import ColumnTransformer\n",
    "from sklearn.pipeline import Pipeline\n",
    "from sklearn.pipeline import make_pipeline\n",
    "\n",
    "from sklearn.impute import SimpleImputer\n",
    "from sklearn.preprocessing import OrdinalEncoder\n",
    "from sklearn.preprocessing import OneHotEncoder\n",
    "\n",
    "# Data scaling\n",
    "from sklearn.preprocessing import StandardScaler\n",
    "\n",
    "from sklearn.ensemble import RandomForestRegressor\n",
    "from sklearn.linear_model import LinearRegression\n",
    "\n",
    "# Evaluation\n",
    "from sklearn.metrics import mean_squared_error"
   ]
  },
  {
   "cell_type": "code",
   "execution_count": 9,
   "id": "9d7362fc",
   "metadata": {},
   "outputs": [],
   "source": [
    "# Libraries for custom Transformer\n",
    "from sklearn.base import BaseEstimator, TransformerMixin"
   ]
  },
  {
   "cell_type": "markdown",
   "id": "c80cc593",
   "metadata": {},
   "source": [
    "# Data Loading"
   ]
  },
  {
   "cell_type": "code",
   "execution_count": 3,
   "id": "40fe8bbb",
   "metadata": {},
   "outputs": [],
   "source": [
    "import pandas as pd\n",
    "PATH = \"dataset/melb_data.csv\"\n",
    "\n",
    "housing = pd.read_csv(PATH)"
   ]
  },
  {
   "cell_type": "code",
   "execution_count": 4,
   "id": "22c3cb2c",
   "metadata": {},
   "outputs": [
    {
     "data": {
      "text/html": [
       "<div>\n",
       "<style scoped>\n",
       "    .dataframe tbody tr th:only-of-type {\n",
       "        vertical-align: middle;\n",
       "    }\n",
       "\n",
       "    .dataframe tbody tr th {\n",
       "        vertical-align: top;\n",
       "    }\n",
       "\n",
       "    .dataframe thead th {\n",
       "        text-align: right;\n",
       "    }\n",
       "</style>\n",
       "<table border=\"1\" class=\"dataframe\">\n",
       "  <thead>\n",
       "    <tr style=\"text-align: right;\">\n",
       "      <th></th>\n",
       "      <th>Suburb</th>\n",
       "      <th>Address</th>\n",
       "      <th>Rooms</th>\n",
       "      <th>Type</th>\n",
       "      <th>Price</th>\n",
       "      <th>Method</th>\n",
       "      <th>SellerG</th>\n",
       "      <th>Date</th>\n",
       "      <th>Distance</th>\n",
       "      <th>Postcode</th>\n",
       "      <th>...</th>\n",
       "      <th>Bathroom</th>\n",
       "      <th>Car</th>\n",
       "      <th>Landsize</th>\n",
       "      <th>BuildingArea</th>\n",
       "      <th>YearBuilt</th>\n",
       "      <th>CouncilArea</th>\n",
       "      <th>Lattitude</th>\n",
       "      <th>Longtitude</th>\n",
       "      <th>Regionname</th>\n",
       "      <th>Propertycount</th>\n",
       "    </tr>\n",
       "  </thead>\n",
       "  <tbody>\n",
       "    <tr>\n",
       "      <th>0</th>\n",
       "      <td>Abbotsford</td>\n",
       "      <td>85 Turner St</td>\n",
       "      <td>2</td>\n",
       "      <td>h</td>\n",
       "      <td>1480000.0</td>\n",
       "      <td>S</td>\n",
       "      <td>Biggin</td>\n",
       "      <td>3/12/2016</td>\n",
       "      <td>2.5</td>\n",
       "      <td>3067.0</td>\n",
       "      <td>...</td>\n",
       "      <td>1.0</td>\n",
       "      <td>1.0</td>\n",
       "      <td>202.0</td>\n",
       "      <td>NaN</td>\n",
       "      <td>NaN</td>\n",
       "      <td>Yarra</td>\n",
       "      <td>-37.7996</td>\n",
       "      <td>144.9984</td>\n",
       "      <td>Northern Metropolitan</td>\n",
       "      <td>4019.0</td>\n",
       "    </tr>\n",
       "    <tr>\n",
       "      <th>1</th>\n",
       "      <td>Abbotsford</td>\n",
       "      <td>25 Bloomburg St</td>\n",
       "      <td>2</td>\n",
       "      <td>h</td>\n",
       "      <td>1035000.0</td>\n",
       "      <td>S</td>\n",
       "      <td>Biggin</td>\n",
       "      <td>4/02/2016</td>\n",
       "      <td>2.5</td>\n",
       "      <td>3067.0</td>\n",
       "      <td>...</td>\n",
       "      <td>1.0</td>\n",
       "      <td>0.0</td>\n",
       "      <td>156.0</td>\n",
       "      <td>79.0</td>\n",
       "      <td>1900.0</td>\n",
       "      <td>Yarra</td>\n",
       "      <td>-37.8079</td>\n",
       "      <td>144.9934</td>\n",
       "      <td>Northern Metropolitan</td>\n",
       "      <td>4019.0</td>\n",
       "    </tr>\n",
       "  </tbody>\n",
       "</table>\n",
       "<p>2 rows × 21 columns</p>\n",
       "</div>"
      ],
      "text/plain": [
       "       Suburb          Address  Rooms Type      Price Method SellerG  \\\n",
       "0  Abbotsford     85 Turner St      2    h  1480000.0      S  Biggin   \n",
       "1  Abbotsford  25 Bloomburg St      2    h  1035000.0      S  Biggin   \n",
       "\n",
       "        Date  Distance  Postcode  ...  Bathroom  Car  Landsize  BuildingArea  \\\n",
       "0  3/12/2016       2.5    3067.0  ...       1.0  1.0     202.0           NaN   \n",
       "1  4/02/2016       2.5    3067.0  ...       1.0  0.0     156.0          79.0   \n",
       "\n",
       "   YearBuilt  CouncilArea Lattitude  Longtitude             Regionname  \\\n",
       "0        NaN        Yarra  -37.7996    144.9984  Northern Metropolitan   \n",
       "1     1900.0        Yarra  -37.8079    144.9934  Northern Metropolitan   \n",
       "\n",
       "  Propertycount  \n",
       "0        4019.0  \n",
       "1        4019.0  \n",
       "\n",
       "[2 rows x 21 columns]"
      ]
     },
     "execution_count": 4,
     "metadata": {},
     "output_type": "execute_result"
    }
   ],
   "source": [
    "housing.head(2)"
   ]
  },
  {
   "cell_type": "code",
   "execution_count": 5,
   "id": "45d71b08",
   "metadata": {},
   "outputs": [
    {
     "data": {
      "text/plain": [
       "(13580, 21)"
      ]
     },
     "execution_count": 5,
     "metadata": {},
     "output_type": "execute_result"
    }
   ],
   "source": [
    "housing.shape"
   ]
  },
  {
   "cell_type": "code",
   "execution_count": 6,
   "id": "c31f1299",
   "metadata": {},
   "outputs": [
    {
     "data": {
      "text/plain": [
       "Index(['Suburb', 'Address', 'Rooms', 'Type', 'Price', 'Method', 'SellerG',\n",
       "       'Date', 'Distance', 'Postcode', 'Bedroom2', 'Bathroom', 'Car',\n",
       "       'Landsize', 'BuildingArea', 'YearBuilt', 'CouncilArea', 'Lattitude',\n",
       "       'Longtitude', 'Regionname', 'Propertycount'],\n",
       "      dtype='object')"
      ]
     },
     "execution_count": 6,
     "metadata": {},
     "output_type": "execute_result"
    }
   ],
   "source": [
    "housing.columns"
   ]
  },
  {
   "cell_type": "code",
   "execution_count": 28,
   "id": "05e5a625",
   "metadata": {},
   "outputs": [],
   "source": [
    "X = housing.drop('Price', axis=1)\n",
    "# y = housing[['Price']]\n",
    "y = housing.Price"
   ]
  },
  {
   "cell_type": "markdown",
   "id": "17ddfa9f",
   "metadata": {},
   "source": [
    "# Data Type "
   ]
  },
  {
   "cell_type": "code",
   "execution_count": 112,
   "id": "a0e8831f",
   "metadata": {},
   "outputs": [
    {
     "name": "stdout",
     "output_type": "stream",
     "text": [
      "<class 'pandas.core.frame.DataFrame'>\n",
      "RangeIndex: 13580 entries, 0 to 13579\n",
      "Data columns (total 21 columns):\n",
      " #   Column         Non-Null Count  Dtype  \n",
      "---  ------         --------------  -----  \n",
      " 0   Suburb         13580 non-null  object \n",
      " 1   Address        13580 non-null  object \n",
      " 2   Rooms          13580 non-null  int64  \n",
      " 3   Type           13580 non-null  object \n",
      " 4   Price          13580 non-null  float64\n",
      " 5   Method         13580 non-null  object \n",
      " 6   SellerG        13580 non-null  object \n",
      " 7   Date           13580 non-null  object \n",
      " 8   Distance       13580 non-null  float64\n",
      " 9   Postcode       13580 non-null  float64\n",
      " 10  Bedroom2       13580 non-null  float64\n",
      " 11  Bathroom       13580 non-null  float64\n",
      " 12  Car            13518 non-null  float64\n",
      " 13  Landsize       13580 non-null  float64\n",
      " 14  BuildingArea   7130 non-null   float64\n",
      " 15  YearBuilt      8205 non-null   float64\n",
      " 16  CouncilArea    12211 non-null  object \n",
      " 17  Lattitude      13580 non-null  float64\n",
      " 18  Longtitude     13580 non-null  float64\n",
      " 19  Regionname     13580 non-null  object \n",
      " 20  Propertycount  13580 non-null  float64\n",
      "dtypes: float64(12), int64(1), object(8)\n",
      "memory usage: 2.2+ MB\n"
     ]
    }
   ],
   "source": [
    "housing.info()"
   ]
  },
  {
   "cell_type": "code",
   "execution_count": 109,
   "id": "4b43771d",
   "metadata": {},
   "outputs": [
    {
     "name": "stdout",
     "output_type": "stream",
     "text": [
      "num_cols:  ['Rooms', 'Distance', 'Postcode', 'Bedroom2', 'Bathroom', 'Car', 'Landsize', 'BuildingArea', 'YearBuilt', 'Lattitude', 'Longtitude', 'Propertycount']\n",
      "cat_cols:  ['Suburb', 'Address', 'Type', 'Method', 'SellerG', 'Date', 'CouncilArea', 'Regionname']\n",
      "\n",
      "Suburb 314\n",
      "Address 13378\n",
      "Type 3\n",
      "Method 5\n",
      "SellerG 268\n",
      "Date 58\n",
      "CouncilArea 33\n",
      "Regionname 8\n",
      "\n",
      "low_card_cols:  ['Type', 'Method', 'Regionname']\n",
      "high_card_cols:  ['Suburb', 'Address', 'SellerG', 'Date', 'CouncilArea']\n"
     ]
    }
   ],
   "source": [
    "# Classify numerical and categorical columns\n",
    "num_cols = [col for col in X.columns if X[col].dtype in ['int64', 'float64']]\n",
    "cat_cols = [col for col in X.columns if X[col].dtype in ['object']]\n",
    "print('num_cols: ', num_cols)\n",
    "print('cat_cols: ', cat_cols)\n",
    "print()\n",
    "\n",
    "\n",
    "card = [X[cname].nunique() for cname in cat_cols]\n",
    "for a,b in zip(cat_cols, card):\n",
    "    print(a, b)\n",
    "    \n",
    "print()\n",
    "\n",
    "# Cols with low cardinality\n",
    "low_card_cols = [col for col in cat_cols if X[col].nunique() < 10]\n",
    "print('low_card_cols: ', low_card_cols)\n",
    "\n",
    "high_card_cols = [col for col in cat_cols if X[col].nunique() >= 10]\n",
    "print('high_card_cols: ', high_card_cols)"
   ]
  },
  {
   "cell_type": "markdown",
   "id": "c4c77d77",
   "metadata": {},
   "source": [
    "# Data Cleaning"
   ]
  },
  {
   "cell_type": "markdown",
   "id": "6c9a5b93",
   "metadata": {},
   "source": [
    "## Remove Unwanted Columns"
   ]
  },
  {
   "cell_type": "code",
   "execution_count": 110,
   "id": "eb97f8c3",
   "metadata": {},
   "outputs": [],
   "source": [
    "# 1. Transfomer for deleting unwanted cols\n",
    "\n",
    "# columns to be deleted\n",
    "unwanted_cols = ['Date', 'Suburb', 'Address', 'SellerG', 'Postcode', 'haha']\n",
    "# remaining cat_cols = ['Type', 'Method', 'CouncilArea', 'Regionname']\n",
    "\n",
    "class RemoveUnwantedCatTrans(BaseEstimator, TransformerMixin):\n",
    "    def __init__(self, cols = unwanted_cols):\n",
    "        self.cols = cols\n",
    "        pass\n",
    "    def fit(self, X, y = None):\n",
    "        return self\n",
    "    def transform(self, X, y = None):\n",
    "#         X_ = X.copy()\n",
    "#         for col in self.cols:\n",
    "#             if col in X_:\n",
    "#                 X_ = X_.drop(col, axis=1, inplace=True)\n",
    "        X_ = X.drop(self.cols, axis=1, errors='ignore')\n",
    "#         print(X_)\n",
    "        return X_"
   ]
  },
  {
   "cell_type": "code",
   "execution_count": 38,
   "id": "b36dbba6",
   "metadata": {},
   "outputs": [
    {
     "name": "stdout",
     "output_type": "stream",
     "text": [
      "After removing unwanted columns:\n",
      "num_cols:  ['Rooms', 'Distance', 'Bedroom2', 'Bathroom', 'Car', 'Landsize', 'BuildingArea', 'YearBuilt', 'Lattitude', 'Longtitude', 'Propertycount'] 11\n",
      "cat_cols:  ['Type', 'Method', 'CouncilArea', 'Regionname'] 4\n",
      "high_card_cols:  ['CouncilArea'] 1\n",
      "low_card_cols:  ['Type', 'Method', 'Regionname'] 3\n"
     ]
    }
   ],
   "source": [
    "# Update num_cols & cat_cols once determine which cols to be removed\n",
    "for col in unwanted_cols:\n",
    "    if col in num_cols:\n",
    "        num_cols.remove(col)\n",
    "    if col in cat_cols:\n",
    "        cat_cols.remove(col)\n",
    "    if col in high_card_cols:\n",
    "        high_card_cols.remove(col)\n",
    "    if col in low_card_cols:\n",
    "        low_card_cols.remove(col)\n",
    "        \n",
    "print('After removing unwanted columns:')\n",
    "print('num_cols: ', num_cols, len(num_cols))\n",
    "print('cat_cols: ', cat_cols, len(cat_cols))\n",
    "print('high_card_cols: ', high_card_cols, len(high_card_cols))\n",
    "print('low_card_cols: ', low_card_cols, len(low_card_cols))"
   ]
  },
  {
   "cell_type": "markdown",
   "id": "18db52a6",
   "metadata": {},
   "source": [
    "## Fill NaN Values"
   ]
  },
  {
   "cell_type": "code",
   "execution_count": 39,
   "id": "ffc17299",
   "metadata": {},
   "outputs": [],
   "source": [
    "imputer_col_trans = ColumnTransformer([\n",
    "    ('imputer_num', SimpleImputer(strategy='median'), num_cols),\n",
    "    ('imputer_col', SimpleImputer(strategy='most_frequent'), cat_cols)\n",
    "])"
   ]
  },
  {
   "cell_type": "markdown",
   "id": "ce2aaf3b",
   "metadata": {},
   "source": [
    "## Pipeline"
   ]
  },
  {
   "cell_type": "code",
   "execution_count": 40,
   "id": "79832095",
   "metadata": {},
   "outputs": [],
   "source": [
    "# Removal & Parsing Date Pipeline!!!\n",
    "clean_pipe = Pipeline(steps=[\n",
    "    ('rmUnwanted', RemoveUnwantedCatTrans()),\n",
    "    ('imputer', imputer_col_trans),\n",
    "#     ('parseDate', ParseDateTrans())\n",
    "])"
   ]
  },
  {
   "cell_type": "code",
   "execution_count": 102,
   "id": "be7b7e25",
   "metadata": {},
   "outputs": [],
   "source": [
    "X_cleaned = pd.DataFrame(clean_pipe.fit_transform(X))\n",
    "remaining_cols = num_cols + cat_cols\n",
    "X_cleaned.columns = remaining_cols"
   ]
  },
  {
   "cell_type": "code",
   "execution_count": 103,
   "id": "132b3eb1",
   "metadata": {},
   "outputs": [
    {
     "data": {
      "text/html": [
       "<div>\n",
       "<style scoped>\n",
       "    .dataframe tbody tr th:only-of-type {\n",
       "        vertical-align: middle;\n",
       "    }\n",
       "\n",
       "    .dataframe tbody tr th {\n",
       "        vertical-align: top;\n",
       "    }\n",
       "\n",
       "    .dataframe thead th {\n",
       "        text-align: right;\n",
       "    }\n",
       "</style>\n",
       "<table border=\"1\" class=\"dataframe\">\n",
       "  <thead>\n",
       "    <tr style=\"text-align: right;\">\n",
       "      <th></th>\n",
       "      <th>Rooms</th>\n",
       "      <th>Distance</th>\n",
       "      <th>Bedroom2</th>\n",
       "      <th>Bathroom</th>\n",
       "      <th>Car</th>\n",
       "      <th>Landsize</th>\n",
       "      <th>BuildingArea</th>\n",
       "      <th>YearBuilt</th>\n",
       "      <th>Lattitude</th>\n",
       "      <th>Longtitude</th>\n",
       "      <th>Propertycount</th>\n",
       "      <th>Type</th>\n",
       "      <th>Method</th>\n",
       "      <th>CouncilArea</th>\n",
       "      <th>Regionname</th>\n",
       "    </tr>\n",
       "  </thead>\n",
       "  <tbody>\n",
       "    <tr>\n",
       "      <th>0</th>\n",
       "      <td>2.0</td>\n",
       "      <td>2.5</td>\n",
       "      <td>2.0</td>\n",
       "      <td>1.0</td>\n",
       "      <td>1.0</td>\n",
       "      <td>202.0</td>\n",
       "      <td>126.0</td>\n",
       "      <td>1970.0</td>\n",
       "      <td>-37.7996</td>\n",
       "      <td>144.9984</td>\n",
       "      <td>4019.0</td>\n",
       "      <td>h</td>\n",
       "      <td>S</td>\n",
       "      <td>Yarra</td>\n",
       "      <td>Northern Metropolitan</td>\n",
       "    </tr>\n",
       "    <tr>\n",
       "      <th>1</th>\n",
       "      <td>2.0</td>\n",
       "      <td>2.5</td>\n",
       "      <td>2.0</td>\n",
       "      <td>1.0</td>\n",
       "      <td>0.0</td>\n",
       "      <td>156.0</td>\n",
       "      <td>79.0</td>\n",
       "      <td>1900.0</td>\n",
       "      <td>-37.8079</td>\n",
       "      <td>144.9934</td>\n",
       "      <td>4019.0</td>\n",
       "      <td>h</td>\n",
       "      <td>S</td>\n",
       "      <td>Yarra</td>\n",
       "      <td>Northern Metropolitan</td>\n",
       "    </tr>\n",
       "  </tbody>\n",
       "</table>\n",
       "</div>"
      ],
      "text/plain": [
       "  Rooms Distance Bedroom2 Bathroom  Car Landsize BuildingArea YearBuilt  \\\n",
       "0   2.0      2.5      2.0      1.0  1.0    202.0        126.0    1970.0   \n",
       "1   2.0      2.5      2.0      1.0  0.0    156.0         79.0    1900.0   \n",
       "\n",
       "  Lattitude Longtitude Propertycount Type Method CouncilArea  \\\n",
       "0  -37.7996   144.9984        4019.0    h      S       Yarra   \n",
       "1  -37.8079   144.9934        4019.0    h      S       Yarra   \n",
       "\n",
       "              Regionname  \n",
       "0  Northern Metropolitan  \n",
       "1  Northern Metropolitan  "
      ]
     },
     "execution_count": 103,
     "metadata": {},
     "output_type": "execute_result"
    }
   ],
   "source": [
    "X_cleaned.head(2)"
   ]
  },
  {
   "cell_type": "code",
   "execution_count": 105,
   "id": "6cae7a8b",
   "metadata": {},
   "outputs": [],
   "source": [
    "X_ = X_cleaned[num_cols].astype('float64')\n",
    "X_cleaned = X_.join(X_cleaned[cat_cols])"
   ]
  },
  {
   "cell_type": "code",
   "execution_count": 108,
   "id": "51709a44",
   "metadata": {},
   "outputs": [
    {
     "name": "stdout",
     "output_type": "stream",
     "text": [
      "<class 'pandas.core.frame.DataFrame'>\n",
      "RangeIndex: 13580 entries, 0 to 13579\n",
      "Data columns (total 15 columns):\n",
      " #   Column         Non-Null Count  Dtype  \n",
      "---  ------         --------------  -----  \n",
      " 0   Rooms          13580 non-null  float64\n",
      " 1   Distance       13580 non-null  float64\n",
      " 2   Bedroom2       13580 non-null  float64\n",
      " 3   Bathroom       13580 non-null  float64\n",
      " 4   Car            13580 non-null  float64\n",
      " 5   Landsize       13580 non-null  float64\n",
      " 6   BuildingArea   13580 non-null  float64\n",
      " 7   YearBuilt      13580 non-null  float64\n",
      " 8   Lattitude      13580 non-null  float64\n",
      " 9   Longtitude     13580 non-null  float64\n",
      " 10  Propertycount  13580 non-null  float64\n",
      " 11  Type           13580 non-null  object \n",
      " 12  Method         13580 non-null  object \n",
      " 13  CouncilArea    13580 non-null  object \n",
      " 14  Regionname     13580 non-null  object \n",
      "dtypes: float64(11), object(4)\n",
      "memory usage: 1.6+ MB\n"
     ]
    }
   ],
   "source": [
    "X_cleaned.info()"
   ]
  },
  {
   "cell_type": "markdown",
   "id": "b592a18b",
   "metadata": {},
   "source": [
    "# Data Analysis"
   ]
  },
  {
   "cell_type": "code",
   "execution_count": 53,
   "id": "8a49c001",
   "metadata": {},
   "outputs": [],
   "source": [
    "# To plot pretty figures\n",
    "%matplotlib inline\n",
    "import matplotlib as mpl\n",
    "import matplotlib.pyplot as plt\n",
    "mpl.rc('axes', labelsize=14)\n",
    "mpl.rc('xtick', labelsize=12)\n",
    "mpl.rc('ytick', labelsize=12)"
   ]
  },
  {
   "cell_type": "code",
   "execution_count": 107,
   "id": "55786cf6",
   "metadata": {},
   "outputs": [
    {
     "data": {
      "image/png": "[encoded data removed]",
      "text/plain": [
       "<Figure size 1440x1080 with 12 Axes>"
      ]
     },
     "metadata": {
      "needs_background": "light"
     },
     "output_type": "display_data"
    }
   ],
   "source": [
    "X_cleaned.hist(bins=50, figsize=(20, 15))\n",
    "plt.show()"
   ]
  },
  {
   "cell_type": "code",
   "execution_count": 111,
   "id": "9605914c",
   "metadata": {},
   "outputs": [
    {
     "name": "stdout",
     "output_type": "stream",
     "text": [
      "168.5\n",
      "124.5\n"
     ]
    }
   ],
   "source": [
    "# Graph of BuidingArea & Landsize seems weird because there are outliers having very large value\n",
    "print(housing.Landsize.head(10).median())\n",
    "print(housing.BuildingArea.head(10).median())"
   ]
  },
  {
   "cell_type": "code",
   "execution_count": 113,
   "id": "3ed82696",
   "metadata": {},
   "outputs": [],
   "source": [
    "# https://www.geeksforgeeks.org/matplotlib-pyplot-subplots-in-python/\n",
    "def plot_quantile(data=None, q=0.1, ax=None, title=None, bins=20):\n",
    "    # data is a dataFrame\n",
    "    if ax == None:\n",
    "        raise Exception('No axix \"ax\" is provided')\n",
    "        \n",
    "    low = data.quantile(0.05).values[0]\n",
    "    high = data.quantile(0.95).values[0]\n",
    "\n",
    "    ax.hist(data, bins=bins, range=(low, high))\n",
    "    if title != None:\n",
    "        ax.set_title(title)"
   ]
  },
  {
   "cell_type": "code",
   "execution_count": 114,
   "id": "9927678c",
   "metadata": {},
   "outputs": [
    {
     "data": {
      "image/png": "[encoded data removed]",
      "text/plain": [
       "<Figure size 432x288 with 2 Axes>"
      ]
     },
     "metadata": {
      "needs_background": "light"
     },
     "output_type": "display_data"
    }
   ],
   "source": [
    "# Remove the outliers using quantiles and set x-axis range according to quantiles\n",
    "fig, (ax1, ax2) = plt.subplots(1, 2)\n",
    "\n",
    "plot_quantile(data=housing[['Landsize']], q=0.05, ax=ax1, title='Landsize', bins=30)\n",
    "plot_quantile(data=housing[['BuildingArea']], q=0.05, ax=ax2, title='BuildingArea', bins=30)\n",
    "\n",
    "fig.suptitle('Graphs With Outliers Removed')\n",
    "fig.tight_layout()\n",
    "plt.show()"
   ]
  },
  {
   "cell_type": "code",
   "execution_count": 115,
   "id": "14066605",
   "metadata": {},
   "outputs": [
    {
     "name": "stdout",
     "output_type": "stream",
     "text": [
      "max_landsize:  433014.0 min_landsize:  0.0\n"
     ]
    }
   ],
   "source": [
    "print('max_landsize: ', max(housing.Landsize), 'min_landsize: ', min(housing.Landsize))\n",
    "# print('max_buildarea: ', max(housing.BuildingArea))"
   ]
  },
  {
   "cell_type": "markdown",
   "id": "cd2e8224",
   "metadata": {},
   "source": [
    "# Data Split"
   ]
  },
  {
   "cell_type": "markdown",
   "id": "88803c38",
   "metadata": {},
   "source": [
    "## StratifiedShuffleSplit"
   ]
  },
  {
   "cell_type": "code",
   "execution_count": 84,
   "id": "e8f48570",
   "metadata": {},
   "outputs": [],
   "source": [
    "# Observe that 'Distance' feature has a typical distribution\n",
    "# we can consider split using idea of different classes\n",
    "\n",
    "housing['dist_cat'] = pd.cut(\n",
    "    housing.Distance, \n",
    "    bins=[0., 6., 12., 18., 24., np.inf], \n",
    "    labels=[1, 2, 3, 4, 5]\n",
    ")"
   ]
  },
  {
   "cell_type": "code",
   "execution_count": 86,
   "id": "287c8621",
   "metadata": {},
   "outputs": [
    {
     "data": {
      "text/plain": [
       "2    6230\n",
       "1    3254\n",
       "3    3169\n",
       "4     522\n",
       "5     399\n",
       "Name: dist_cat, dtype: int64"
      ]
     },
     "execution_count": 86,
     "metadata": {},
     "output_type": "execute_result"
    }
   ],
   "source": [
    "housing.dist_cat.value_counts()"
   ]
  },
  {
   "cell_type": "code",
   "execution_count": 87,
   "id": "cf92f526",
   "metadata": {},
   "outputs": [
    {
     "data": {
      "text/plain": [
       "<AxesSubplot:>"
      ]
     },
     "execution_count": 87,
     "metadata": {},
     "output_type": "execute_result"
    },
    {
     "data": {
      "image/png": "[encoded data removed]",
      "text/plain": [
       "<Figure size 432x288 with 1 Axes>"
      ]
     },
     "metadata": {
      "needs_background": "light"
     },
     "output_type": "display_data"
    }
   ],
   "source": [
    "housing.dist_cat.hist()"
   ]
  },
  {
   "cell_type": "code",
   "execution_count": 88,
   "id": "4cfc47e3",
   "metadata": {},
   "outputs": [
    {
     "ename": "ValueError",
     "evalue": "Input contains NaN, infinity or a value too large for dtype('float64').",
     "output_type": "error",
     "traceback": [
      "\u001b[0;31m---------------------------------------------------------------------------\u001b[0m",
      "\u001b[0;31mValueError\u001b[0m                                Traceback (most recent call last)",
      "\u001b[0;32m/var/folders/vw/7gbw0y512x96xdwxsfhh9j1w0000gn/T/ipykernel_11913/425883145.py\u001b[0m in \u001b[0;36m<module>\u001b[0;34m\u001b[0m\n\u001b[1;32m      2\u001b[0m \u001b[0msplit\u001b[0m \u001b[0;34m=\u001b[0m \u001b[0mStratifiedShuffleSplit\u001b[0m\u001b[0;34m(\u001b[0m\u001b[0mn_splits\u001b[0m\u001b[0;34m=\u001b[0m\u001b[0;36m1\u001b[0m\u001b[0;34m,\u001b[0m \u001b[0mtest_size\u001b[0m\u001b[0;34m=\u001b[0m\u001b[0;36m0.2\u001b[0m\u001b[0;34m,\u001b[0m \u001b[0mrandom_state\u001b[0m\u001b[0;34m=\u001b[0m\u001b[0;36m42\u001b[0m\u001b[0;34m)\u001b[0m\u001b[0;34m\u001b[0m\u001b[0;34m\u001b[0m\u001b[0m\n\u001b[1;32m      3\u001b[0m \u001b[0;34m\u001b[0m\u001b[0m\n\u001b[0;32m----> 4\u001b[0;31m \u001b[0;32mfor\u001b[0m \u001b[0mtrain_index\u001b[0m\u001b[0;34m,\u001b[0m \u001b[0mtest_index\u001b[0m \u001b[0;32min\u001b[0m \u001b[0msplit\u001b[0m\u001b[0;34m.\u001b[0m\u001b[0msplit\u001b[0m\u001b[0;34m(\u001b[0m\u001b[0mhousing\u001b[0m\u001b[0;34m,\u001b[0m \u001b[0mhousing\u001b[0m\u001b[0;34m[\u001b[0m\u001b[0;34m\"dist_cat\"\u001b[0m\u001b[0;34m]\u001b[0m\u001b[0;34m)\u001b[0m\u001b[0;34m:\u001b[0m\u001b[0;34m\u001b[0m\u001b[0;34m\u001b[0m\u001b[0m\n\u001b[0m\u001b[1;32m      5\u001b[0m     \u001b[0mstrat_train_set\u001b[0m \u001b[0;34m=\u001b[0m \u001b[0mhousing\u001b[0m\u001b[0;34m.\u001b[0m\u001b[0mloc\u001b[0m\u001b[0;34m[\u001b[0m\u001b[0mtrain_index\u001b[0m\u001b[0;34m]\u001b[0m\u001b[0;34m\u001b[0m\u001b[0;34m\u001b[0m\u001b[0m\n\u001b[1;32m      6\u001b[0m     \u001b[0mstrat_test_set\u001b[0m \u001b[0;34m=\u001b[0m \u001b[0mhousing\u001b[0m\u001b[0;34m.\u001b[0m\u001b[0mloc\u001b[0m\u001b[0;34m[\u001b[0m\u001b[0mtest_index\u001b[0m\u001b[0;34m]\u001b[0m\u001b[0;34m\u001b[0m\u001b[0;34m\u001b[0m\u001b[0m\n",
      "\u001b[0;32m~/opt/anaconda3/lib/python3.9/site-packages/sklearn/model_selection/_split.py\u001b[0m in \u001b[0;36msplit\u001b[0;34m(self, X, y, groups)\u001b[0m\n\u001b[1;32m   1791\u001b[0m         \u001b[0mto\u001b[0m \u001b[0man\u001b[0m \u001b[0minteger\u001b[0m\u001b[0;34m.\u001b[0m\u001b[0;34m\u001b[0m\u001b[0;34m\u001b[0m\u001b[0m\n\u001b[1;32m   1792\u001b[0m         \"\"\"\n\u001b[0;32m-> 1793\u001b[0;31m         \u001b[0my\u001b[0m \u001b[0;34m=\u001b[0m \u001b[0mcheck_array\u001b[0m\u001b[0;34m(\u001b[0m\u001b[0my\u001b[0m\u001b[0;34m,\u001b[0m \u001b[0mensure_2d\u001b[0m\u001b[0;34m=\u001b[0m\u001b[0;32mFalse\u001b[0m\u001b[0;34m,\u001b[0m \u001b[0mdtype\u001b[0m\u001b[0;34m=\u001b[0m\u001b[0;32mNone\u001b[0m\u001b[0;34m)\u001b[0m\u001b[0;34m\u001b[0m\u001b[0;34m\u001b[0m\u001b[0m\n\u001b[0m\u001b[1;32m   1794\u001b[0m         \u001b[0;32mreturn\u001b[0m \u001b[0msuper\u001b[0m\u001b[0;34m(\u001b[0m\u001b[0;34m)\u001b[0m\u001b[0;34m.\u001b[0m\u001b[0msplit\u001b[0m\u001b[0;34m(\u001b[0m\u001b[0mX\u001b[0m\u001b[0;34m,\u001b[0m \u001b[0my\u001b[0m\u001b[0;34m,\u001b[0m \u001b[0mgroups\u001b[0m\u001b[0;34m)\u001b[0m\u001b[0;34m\u001b[0m\u001b[0;34m\u001b[0m\u001b[0m\n\u001b[1;32m   1795\u001b[0m \u001b[0;34m\u001b[0m\u001b[0m\n",
      "\u001b[0;32m~/opt/anaconda3/lib/python3.9/site-packages/sklearn/utils/validation.py\u001b[0m in \u001b[0;36minner_f\u001b[0;34m(*args, **kwargs)\u001b[0m\n\u001b[1;32m     61\u001b[0m             \u001b[0mextra_args\u001b[0m \u001b[0;34m=\u001b[0m \u001b[0mlen\u001b[0m\u001b[0;34m(\u001b[0m\u001b[0margs\u001b[0m\u001b[0;34m)\u001b[0m \u001b[0;34m-\u001b[0m \u001b[0mlen\u001b[0m\u001b[0;34m(\u001b[0m\u001b[0mall_args\u001b[0m\u001b[0;34m)\u001b[0m\u001b[0;34m\u001b[0m\u001b[0;34m\u001b[0m\u001b[0m\n\u001b[1;32m     62\u001b[0m             \u001b[0;32mif\u001b[0m \u001b[0mextra_args\u001b[0m \u001b[0;34m<=\u001b[0m \u001b[0;36m0\u001b[0m\u001b[0;34m:\u001b[0m\u001b[0;34m\u001b[0m\u001b[0;34m\u001b[0m\u001b[0m\n\u001b[0;32m---> 63\u001b[0;31m                 \u001b[0;32mreturn\u001b[0m \u001b[0mf\u001b[0m\u001b[0;34m(\u001b[0m\u001b[0;34m*\u001b[0m\u001b[0margs\u001b[0m\u001b[0;34m,\u001b[0m \u001b[0;34m**\u001b[0m\u001b[0mkwargs\u001b[0m\u001b[0;34m)\u001b[0m\u001b[0;34m\u001b[0m\u001b[0;34m\u001b[0m\u001b[0m\n\u001b[0m\u001b[1;32m     64\u001b[0m \u001b[0;34m\u001b[0m\u001b[0m\n\u001b[1;32m     65\u001b[0m             \u001b[0;31m# extra_args > 0\u001b[0m\u001b[0;34m\u001b[0m\u001b[0;34m\u001b[0m\u001b[0m\n",
      "\u001b[0;32m~/opt/anaconda3/lib/python3.9/site-packages/sklearn/utils/validation.py\u001b[0m in \u001b[0;36mcheck_array\u001b[0;34m(array, accept_sparse, accept_large_sparse, dtype, order, copy, force_all_finite, ensure_2d, allow_nd, ensure_min_samples, ensure_min_features, estimator)\u001b[0m\n\u001b[1;32m    718\u001b[0m \u001b[0;34m\u001b[0m\u001b[0m\n\u001b[1;32m    719\u001b[0m         \u001b[0;32mif\u001b[0m \u001b[0mforce_all_finite\u001b[0m\u001b[0;34m:\u001b[0m\u001b[0;34m\u001b[0m\u001b[0;34m\u001b[0m\u001b[0m\n\u001b[0;32m--> 720\u001b[0;31m             _assert_all_finite(array,\n\u001b[0m\u001b[1;32m    721\u001b[0m                                allow_nan=force_all_finite == 'allow-nan')\n\u001b[1;32m    722\u001b[0m \u001b[0;34m\u001b[0m\u001b[0m\n",
      "\u001b[0;32m~/opt/anaconda3/lib/python3.9/site-packages/sklearn/utils/validation.py\u001b[0m in \u001b[0;36m_assert_all_finite\u001b[0;34m(X, allow_nan, msg_dtype)\u001b[0m\n\u001b[1;32m    101\u001b[0m                 not allow_nan and not np.isfinite(X).all()):\n\u001b[1;32m    102\u001b[0m             \u001b[0mtype_err\u001b[0m \u001b[0;34m=\u001b[0m \u001b[0;34m'infinity'\u001b[0m \u001b[0;32mif\u001b[0m \u001b[0mallow_nan\u001b[0m \u001b[0;32melse\u001b[0m \u001b[0;34m'NaN, infinity'\u001b[0m\u001b[0;34m\u001b[0m\u001b[0;34m\u001b[0m\u001b[0m\n\u001b[0;32m--> 103\u001b[0;31m             raise ValueError(\n\u001b[0m\u001b[1;32m    104\u001b[0m                     \u001b[0mmsg_err\u001b[0m\u001b[0;34m.\u001b[0m\u001b[0mformat\u001b[0m\u001b[0;34m\u001b[0m\u001b[0;34m\u001b[0m\u001b[0m\n\u001b[1;32m    105\u001b[0m                     (type_err,\n",
      "\u001b[0;31mValueError\u001b[0m: Input contains NaN, infinity or a value too large for dtype('float64')."
     ]
    }
   ],
   "source": [
    "from sklearn.model_selection import StratifiedShuffleSplit\n",
    "split = StratifiedShuffleSplit(n_splits=1, test_size=0.2, random_state=42)\n",
    "\n",
    "for train_index, test_index in split.split(housing, housing[\"dist_cat\"]):\n",
    "    strat_train_set = housing.loc[train_index]\n",
    "    strat_test_set = housing.loc[test_index]"
   ]
  },
  {
   "cell_type": "markdown",
   "id": "b6f06ea6",
   "metadata": {},
   "source": [
    "# Data Split"
   ]
  },
  {
   "cell_type": "code",
   "execution_count": 6,
   "id": "1480afda",
   "metadata": {},
   "outputs": [],
   "source": [
    "from sklearn.model_selection import train_test_split\n",
    "# Seperate housing data into features and labels\n",
    "y = housing.Price\n",
    "X = housing.drop(['Price'], axis=1)\n",
    "\n",
    "X_train, X_valid, y_train, y_valid = train_test_split(X, y, train_size=0.8, test_size=0.2, random_state=0)"
   ]
  },
  {
   "cell_type": "markdown",
   "id": "5c2be78d",
   "metadata": {},
   "source": [
    "# Transformer"
   ]
  },
  {
   "cell_type": "markdown",
   "id": "f02bdbd3",
   "metadata": {},
   "source": [
    "## Numerial Trans"
   ]
  },
  {
   "cell_type": "markdown",
   "id": "4dc7b360",
   "metadata": {},
   "source": [
    "## Parsing Date Trans"
   ]
  },
  {
   "cell_type": "code",
   "execution_count": 14,
   "id": "00aec65b",
   "metadata": {},
   "outputs": [
    {
     "name": "stdout",
     "output_type": "stream",
     "text": [
      "cat_cols:  ['Suburb', 'Address', 'Type', 'Method', 'SellerG', 'CouncilArea', 'Regionname'] 7\n"
     ]
    }
   ],
   "source": [
    "# 2. Parsing Date Transformer\n",
    "\n",
    "# index of columns to be deleted\n",
    "date_cols = ['Date']\n",
    "\n",
    "for col in date_cols:\n",
    "    if col in cat_cols:\n",
    "        cat_cols.remove(col)\n",
    "print('cat_cols: ', cat_cols, len(cat_cols))"
   ]
  },
  {
   "cell_type": "code",
   "execution_count": 15,
   "id": "0d15ec84",
   "metadata": {},
   "outputs": [],
   "source": [
    "class ParseDateTrans(BaseEstimator, TransformerMixin):\n",
    "    def __init__(self, cols = date_cols):\n",
    "        self.cols = cols\n",
    "        \n",
    "    def fit(self, X, y = None):\n",
    "        return self\n",
    "    \n",
    "    def transform(self, X, y = None):\n",
    "        X_ = X.copy()\n",
    "        X_['ParsedDate'] = pd.to_datetime(X_['Date'], format=\"%d/%m/%y\", infer_datetime_format=True)\n",
    "        return X_.drop(self.cols, axis=1)"
   ]
  },
  {
   "cell_type": "markdown",
   "id": "3a3b6ab3",
   "metadata": {},
   "source": [
    "## Remove Unwanted Trans"
   ]
  },
  {
   "cell_type": "markdown",
   "id": "02987388",
   "metadata": {},
   "source": [
    "## Categorical Trans"
   ]
  },
  {
   "cell_type": "markdown",
   "id": "704ca715",
   "metadata": {},
   "source": [
    "### High Card Trans"
   ]
  },
  {
   "cell_type": "code",
   "execution_count": 18,
   "id": "e65a8e81",
   "metadata": {},
   "outputs": [],
   "source": [
    "# 3.1 High cardinality Transformer\n",
    "\n",
    "from collections import Counter\n",
    "\n",
    "def cumulatively_categorise(column,threshold=0.75,return_categories_list=True):\n",
    "    #Find the threshold value using the percentage and number of instances in the column\n",
    "    threshold_value=int(threshold*len(column))\n",
    "    #Initialise an empty list for our new minimised categories\n",
    "    categories_list=[]\n",
    "    #Initialise a variable to calculate the sum of frequencies\n",
    "    s=0\n",
    "    #Create a counter dictionary of the form unique_value: frequency\n",
    "    counts=Counter(column)\n",
    "\n",
    "    #Loop through the category name and its corresponding frequency after sorting the categories by descending order of frequency\n",
    "    for i,j in counts.most_common():\n",
    "        #Add the frequency to the global sum\n",
    "        s+=dict(counts)[i]\n",
    "        #Append the category name to the list\n",
    "        categories_list.append(i)\n",
    "        #Check if the global sum has reached the threshold value, if so break the loop\n",
    "        if s>=threshold_value:\n",
    "            break\n",
    "    #Append the category Other to the list\n",
    "    categories_list.append('Other')\n",
    "\n",
    "    #Replace all instances not in our new categories by Other  \n",
    "    new_column=column.apply(lambda x: x if x in categories_list else 'Other')\n",
    "\n",
    "    #Return transformed column and unique values if return_categories=True\n",
    "    if(return_categories_list):\n",
    "        return new_column,categories_list\n",
    "    #Return only the transformed column if return_categories=False\n",
    "    else:\n",
    "        return new_column"
   ]
  },
  {
   "cell_type": "code",
   "execution_count": 66,
   "id": "6820cc6e",
   "metadata": {},
   "outputs": [],
   "source": [
    "# high_card_cols = ['Regionname', 'CouncilArea']\n",
    "class HighCardAggregation(BaseEstimator, TransformerMixin):\n",
    "    def __init__(self):\n",
    "        self.cols = high_card_cols\n",
    "        pass\n",
    "\n",
    "    def fit(self, X, y = None):\n",
    "        return self\n",
    "\n",
    "    def transform(self, X, y = None):\n",
    "        # X is a numpy array, the columns to with high cardinality\n",
    "        X_ = X.copy()\n",
    "        X_df = pd.DataFrame(X, columns=high_card_cols)\n",
    "        \n",
    "        for col in self.cols:\n",
    "            # transformed_columns is a pandas dataframe\n",
    "            transformed_column, trans_list = cumulatively_categorise(column=X_df[col], threshold=0.75)\n",
    "#             print('transformed_column: \\n', transformed_column.value_counts())\n",
    "            X_ = np.c_[X_, transformed_column.to_numpy()]\n",
    "            \n",
    "        X_ = np.delete(X_, [i for i in range(len(self.cols))], 1)\n",
    "        return X_"
   ]
  },
  {
   "cell_type": "markdown",
   "id": "6e9520a7",
   "metadata": {},
   "source": [
    "# Pipeline"
   ]
  },
  {
   "cell_type": "code",
   "execution_count": 200,
   "id": "9ebf9b53",
   "metadata": {
    "code_folding": []
   },
   "outputs": [
    {
     "data": {
      "text/plain": [
       "\"\\n# !!!Use the full pipeline when model are ready to deploy or use!!!\\n# full_pipeline = Pipeline([\\n#     ('preprocessor', preprocessor),\\n# #     ('model', LinearRegression())\\n#     ('model', RandomForestRegressor(n_estimators=50, random_state=42))\\n# ])\\n\""
      ]
     },
     "execution_count": 200,
     "metadata": {},
     "output_type": "execute_result"
    }
   ],
   "source": [
    "low_card_pipe = Pipeline(steps=[\n",
    "    ('imputer', SimpleImputer(strategy='most_frequent')),\n",
    "    ('onehot', OneHotEncoder(handle_unknown='ignore', sparse=False))\n",
    "])\n",
    "\n",
    "high_card_pipe = Pipeline(steps=[\n",
    "    ('imputer', SimpleImputer(strategy='most_frequent')),\n",
    "    ('aggregation', HighCardAggregation()),\n",
    "    ('onehot', OneHotEncoder(handle_unknown='ignore', sparse=False))\n",
    "])\n",
    "\n",
    "# Numerical transformer\n",
    "num_trans = Pipeline(steps=[\n",
    "    ('imputer', SimpleImputer(strategy='median')),\n",
    "    ('std_scaler', StandardScaler())\n",
    "])\n",
    "\n",
    "# Categorical transformers\n",
    "cat_trans = ColumnTransformer(transformers=[\n",
    "    ('low_card_pipeline', low_card_pipe, low_card_cols),\n",
    "    ('high_card_pipeline', high_card_pipe, high_card_cols)\n",
    "])\n",
    "\n",
    "# # Removal & Parsing Date Pipeline!!!\n",
    "# clean_pipe = Pipeline(steps=[\n",
    "#     ('rmUnwanted', RemoveUnwantedCatTrans()),\n",
    "#     ('imputer', imputer_col_trans),\n",
    "# #     ('parseDate', ParseDateTrans())\n",
    "# ])\n",
    "\n",
    "num_cat_col_trans = ColumnTransformer(transformers=[\n",
    "    ('num', num_trans, num_cols),\n",
    "    ('cat', cat_trans, cat_cols)\n",
    "])\n",
    "\n",
    "preprocessor = Pipeline([\n",
    "    ('cleaning', clean_pipe),\n",
    "    ('num_cat', num_cat_col_trans)\n",
    "])\n",
    "\n",
    "'''\n",
    "# !!!Use the full pipeline when model are ready to deploy or use!!!\n",
    "# full_pipeline = Pipeline([\n",
    "#     ('preprocessor', preprocessor),\n",
    "# #     ('model', LinearRegression())\n",
    "#     ('model', RandomForestRegressor(n_estimators=50, random_state=42))\n",
    "# ])\n",
    "'''"
   ]
  },
  {
   "cell_type": "markdown",
   "id": "a846f1f0",
   "metadata": {},
   "source": [
    "# Testing"
   ]
  },
  {
   "cell_type": "code",
   "execution_count": 182,
   "id": "5ed61149",
   "metadata": {},
   "outputs": [
    {
     "data": {
      "text/plain": [
       "array([-2.01887631, -0.87114307, -1.96884322, -0.77259924, -0.63232155,\n",
       "       -0.12911849, -0.03342983, -0.94714018, -0.62833385, -0.08061267,\n",
       "        1.32236223,  0.        ,  0.        ,  1.        ,  0.        ,\n",
       "        1.        ,  0.        ,  0.        ,  0.        ,  0.        ,\n",
       "        0.        ,  0.        ,  0.        ,  0.        ,  1.        ,\n",
       "        0.        ,  0.        ,  0.        ,  0.        ,  0.        ,\n",
       "        0.        ,  0.        ,  0.        ,  0.        ,  0.        ,\n",
       "        0.        ,  1.        ,  0.        ,  0.        ])"
      ]
     },
     "execution_count": 182,
     "metadata": {},
     "output_type": "execute_result"
    }
   ],
   "source": [
    "data_prepared = preprocessor.fit_transform(X_train)\n",
    "data_prepared[0]"
   ]
  },
  {
   "cell_type": "code",
   "execution_count": 92,
   "id": "209dd248",
   "metadata": {},
   "outputs": [
    {
     "data": {
      "text/plain": [
       "(39,)"
      ]
     },
     "execution_count": 92,
     "metadata": {},
     "output_type": "execute_result"
    }
   ],
   "source": [
    "data_prepared[0].shape"
   ]
  },
  {
   "cell_type": "code",
   "execution_count": null,
   "id": "8f6ff85c",
   "metadata": {},
   "outputs": [],
   "source": [
    "# # remaining cat_cols = ['Type', 'Method', 'Regionname', 'CouncilArea']\n",
    "# 11 + 3 + 5 + 8 + 12 = 39\n",
    "\n",
    "# data_prepared.shape: (10864, 39)"
   ]
  },
  {
   "cell_type": "code",
   "execution_count": 181,
   "id": "f4a197cb",
   "metadata": {},
   "outputs": [],
   "source": [
    "# Just for testing!!!!!\n",
    "\n",
    "onehot = OneHotEncoder()\n",
    "cols = ['CouncilArea']\n",
    "t2 = ColumnTransformer(transformers=[\n",
    "#     ('low_card_pipeline', low_card_pipe, cols),\n",
    "    ('high_card_pipeline', high_card_pipe, cols)\n",
    "])\n",
    "\n",
    "t1 = ColumnTransformer(transformers=[\n",
    "    ('2', t2, cols)\n",
    "])\n",
    "\n",
    "p = Pipeline([\n",
    "    ('1', t1)\n",
    "])\n",
    "\n",
    "p_prepared = p.fit_transform(X_train)\n",
    "p_prepared[0].shape"
   ]
  },
  {
   "cell_type": "markdown",
   "id": "37021a95",
   "metadata": {},
   "source": [
    "# Model"
   ]
  },
  {
   "cell_type": "markdown",
   "id": "7e7628a4",
   "metadata": {},
   "source": [
    "## Load Model"
   ]
  },
  {
   "cell_type": "code",
   "execution_count": 211,
   "id": "7085ad5e",
   "metadata": {},
   "outputs": [
    {
     "name": "stdout",
     "output_type": "stream",
     "text": [
      "Load Successfull!\n"
     ]
    }
   ],
   "source": [
    "import joblib\n",
    "import os\n",
    "if os.path.isfile('models/forest_reg.pkl'):\n",
    "    global forest_reg\n",
    "    forest_reg = joblib.load('models/forest_reg.pkl')\n",
    "    print('Load Successfull!')\n",
    "#     global lin_reg = joblib.load('models/lin_reg.pkl')"
   ]
  },
  {
   "cell_type": "markdown",
   "id": "282bd109",
   "metadata": {},
   "source": [
    "## General"
   ]
  },
  {
   "cell_type": "code",
   "execution_count": 199,
   "id": "e6cce6a4",
   "metadata": {},
   "outputs": [],
   "source": [
    "# full_pipeline.fit(X_train, y_train)"
   ]
  },
  {
   "cell_type": "code",
   "execution_count": 188,
   "id": "060dec92",
   "metadata": {},
   "outputs": [],
   "source": [
    "# y_pred = full_pipeline.predict(X_valid)"
   ]
  },
  {
   "cell_type": "markdown",
   "id": "6a906f88",
   "metadata": {},
   "source": [
    "## Linear Regression"
   ]
  },
  {
   "cell_type": "code",
   "execution_count": null,
   "id": "925ef70b",
   "metadata": {},
   "outputs": [],
   "source": [
    "# full_pipeline.fit(X_train, y_train)"
   ]
  },
  {
   "cell_type": "code",
   "execution_count": 141,
   "id": "6fbaaf79",
   "metadata": {},
   "outputs": [
    {
     "data": {
      "text/plain": [
       "LinearRegression()"
      ]
     },
     "execution_count": 141,
     "metadata": {},
     "output_type": "execute_result"
    }
   ],
   "source": [
    "# y_pred = full_pipeline.predict(X_valid)"
   ]
  },
  {
   "cell_type": "markdown",
   "id": "69d32255",
   "metadata": {},
   "source": [
    "## Random Forest Regression "
   ]
  },
  {
   "cell_type": "code",
   "execution_count": 201,
   "id": "7f31daa1",
   "metadata": {},
   "outputs": [
    {
     "data": {
      "text/plain": [
       "RandomForestRegressor(n_estimators=50, random_state=42)"
      ]
     },
     "execution_count": 201,
     "metadata": {},
     "output_type": "execute_result"
    }
   ],
   "source": [
    "# V1 model has been saved to /models\n",
    "\n",
    "# X_train_prepared = preprocessor.fit_transform(X_train)\n",
    "# forest_reg = RandomForestRegressor(n_estimators=50, random_state=42)\n",
    "# forest_reg.fit(X_train_prepared, y_train)"
   ]
  },
  {
   "cell_type": "code",
   "execution_count": 205,
   "id": "3bd29141",
   "metadata": {},
   "outputs": [],
   "source": [
    "# X_valid_prepared = preprocessor.transform(X_valid)\n",
    "# y_pred = forest_reg.predict(X_valid_prepared)"
   ]
  },
  {
   "cell_type": "markdown",
   "id": "5f155294",
   "metadata": {},
   "source": [
    "## Saving Models "
   ]
  },
  {
   "cell_type": "code",
   "execution_count": 207,
   "id": "873413f2",
   "metadata": {},
   "outputs": [
    {
     "data": {
      "text/plain": [
       "['models/lin_reg.pkl']"
      ]
     },
     "execution_count": 207,
     "metadata": {},
     "output_type": "execute_result"
    }
   ],
   "source": [
    "joblib.dump(forest_reg, 'models/forest_reg.pkl')\n",
    "# joblib.dump(lin_reg, 'models/lin_reg.pkl')"
   ]
  },
  {
   "cell_type": "markdown",
   "id": "39aeb0b3",
   "metadata": {},
   "source": [
    "# Evaluation"
   ]
  },
  {
   "cell_type": "code",
   "execution_count": 193,
   "id": "29d2e918",
   "metadata": {},
   "outputs": [
    {
     "name": "stdout",
     "output_type": "stream",
     "text": [
      "8505   2165000.0   1505820.0\n",
      "5523   815000.0   881876.6666666665\n",
      "12852   610000.0   613400.0\n",
      "4818   1245000.0   1334560.0\n",
      "12812   1160000.0   878490.0\n",
      "2153   1250000.0   1337136.0\n",
      "9903   715000.0   721880.0\n",
      "5105   812000.0   905400.0\n",
      "6107   750500.0   752310.0\n",
      "8876   610000.0   630320.0\n"
     ]
    }
   ],
   "source": [
    "for a,b, c in zip(y_valid.index[:10], y_valid[:10], y_pred):\n",
    "    print(a, ' ', b, ' ', c)"
   ]
  },
  {
   "cell_type": "code",
   "execution_count": 212,
   "id": "95a7cc21",
   "metadata": {},
   "outputs": [
    {
     "data": {
      "text/plain": [
       "269056.33741069405"
      ]
     },
     "execution_count": 212,
     "metadata": {},
     "output_type": "execute_result"
    }
   ],
   "source": [
    "forest_rmse = mean_squared_error(y_pred, y_valid, squared=False)\n",
    "forest_rmse"
   ]
  }
 ],
 "metadata": {
  "kernelspec": {
   "display_name": "Python 3 (ipykernel)",
   "language": "python",
   "name": "python3"
  },
  "language_info": {
   "codemirror_mode": {
    "name": "ipython",
    "version": 3
   },
   "file_extension": ".py",
   "mimetype": "text/x-python",
   "name": "python",
   "nbconvert_exporter": "python",
   "pygments_lexer": "ipython3",
   "version": "3.9.7"
  },
  "toc": {
   "base_numbering": 1,
   "nav_menu": {},
   "number_sections": true,
   "sideBar": true,
   "skip_h1_title": false,
   "title_cell": "Table of Contents",
   "title_sidebar": "Contents",
   "toc_cell": false,
   "toc_position": {
    "height": "calc(100% - 180px)",
    "left": "10px",
    "top": "150px",
    "width": "236px"
   },
   "toc_section_display": true,
   "toc_window_display": true
  }
 },
 "nbformat": 4,
 "nbformat_minor": 5
}
